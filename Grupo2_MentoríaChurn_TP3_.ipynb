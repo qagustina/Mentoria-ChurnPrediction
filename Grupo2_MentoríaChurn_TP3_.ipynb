{
  "nbformat": 4,
  "nbformat_minor": 0,
  "metadata": {
    "colab": {
      "name": "Grupo2-MentoríaChurn-TP3 .ipynb",
      "provenance": [],
      "collapsed_sections": [],
      "toc_visible": true,
      "include_colab_link": true
    },
    "kernelspec": {
      "name": "python3",
      "display_name": "Python 3"
    },
    "language_info": {
      "name": "python"
    }
  },
  "cells": [
    {
      "cell_type": "markdown",
      "metadata": {
        "id": "view-in-github",
        "colab_type": "text"
      },
      "source": [
        "<a href=\"https://colab.research.google.com/github/qagustina/mentoria-churnprediction/blob/master/Grupo2_Mentor%C3%ADaChurn_TP3_.ipynb\" target=\"_parent\"><img src=\"https://colab.research.google.com/assets/colab-badge.svg\" alt=\"Open In Colab\"/></a>"
      ]
    },
    {
      "cell_type": "markdown",
      "source": [
        "# DiploDatos 2022 - Mentoría \"Churn Prediction: ¿Cómo retengo a mis clientes? Machine Learning aplicado a un caso de negocio\"\n",
        "\n",
        "---\n",
        "**Trabajo Práctico Nº3 - Aprendizaje Supervisado**"
      ],
      "metadata": {
        "id": "0oiLhvdaB8Gy"
      }
    },
    {
      "cell_type": "markdown",
      "source": [
        "**Integrantes Grupo 2**\n",
        "\n",
        "*   Natalia Grasselli\n",
        "*   Rodrigo Pizarro\n",
        "*   Agustina Quirós\n",
        "*   Natalia Tassin"
      ],
      "metadata": {
        "id": "ZFq_h4pNCCq7"
      }
    },
    {
      "cell_type": "markdown",
      "source": [
        "## Carga del data set"
      ],
      "metadata": {
        "id": "uzTk44_CHWvl"
      }
    },
    {
      "cell_type": "markdown",
      "source": [
        "En este entregable continuaremos trabajando sobre el dataset final del trabajo anterior. "
      ],
      "metadata": {
        "id": "4CZWLjYDCSd_"
      }
    },
    {
      "cell_type": "code",
      "source": [
        "#Importamos las librerias necesarias\n",
        "import pandas as pd\n",
        "import matplotlib.pyplot as plt\n",
        "import numpy as np\n",
        "import seaborn as sns\n",
        "np.set_printoptions(suppress=True)  # no usar notacion \"e\"\n",
        "pd.set_option('display.float_format', lambda x: '%.3f' % x)\n",
        "\n",
        "from sklearn.preprocessing import StandardScaler, LabelEncoder\n",
        "from sklearn.impute import SimpleImputer\n",
        "from sklearn.model_selection import train_test_split, GridSearchCV, StratifiedKFold\n",
        "from sklearn.metrics import accuracy_score, ConfusionMatrixDisplay, classification_report\n",
        "from sklearn.tree import DecisionTreeClassifier"
      ],
      "metadata": {
        "id": "K0NM0C3zKzAP"
      },
      "execution_count": null,
      "outputs": []
    },
    {
      "cell_type": "code",
      "source": [
        "# Parámetros globales\n",
        "\n",
        "RANDOM_STATE = 45"
      ],
      "metadata": {
        "id": "bnDrlTDMKIY4"
      },
      "execution_count": null,
      "outputs": []
    },
    {
      "cell_type": "code",
      "source": [
        "#Importamos el dataset\n",
        "df_churn_clean = pd.read_csv(\n",
        "    'https://media.githubusercontent.com/media/qagustina/mentoria-churnprediction/master/df_churn_clean.csv')"
      ],
      "metadata": {
        "id": "kerQ7R5hCdTO"
      },
      "execution_count": null,
      "outputs": []
    },
    {
      "cell_type": "code",
      "source": [
        "df_churn_clean"
      ],
      "metadata": {
        "id": "rUmxiHHRYev_",
        "outputId": "9a8a08db-0f2e-440d-f12d-bfec6f8454fa",
        "colab": {
          "base_uri": "https://localhost:8080/",
          "height": 505
        }
      },
      "execution_count": null,
      "outputs": [
        {
          "output_type": "execute_result",
          "data": {
            "text/plain": [
              "           userId  churn_user  sessionId             ts      registration  \\\n",
              "0         293.000       1.000    292.000 1538352011.000 1532063507000.000   \n",
              "1          98.000       0.000     97.000 1538352025.000 1538069638000.000   \n",
              "2         179.000       0.000    178.000 1538352118.000 1535953455000.000   \n",
              "3         179.000       0.000    178.000 1538352119.000 1535953455000.000   \n",
              "4         246.000       1.000    245.000 1538352124.000 1535931018000.000   \n",
              "...           ...         ...        ...            ...               ...   \n",
              "527961 300010.000       0.000    882.000 1543622316.000 1536850071000.000   \n",
              "527962 300049.000       0.000    991.000 1543622332.000 1537523064000.000   \n",
              "527963 300039.000       0.000    916.000 1543622368.000 1536228638000.000   \n",
              "527964 300038.000       0.000    966.000 1543622392.000 1535616235000.000   \n",
              "527965 300015.000       0.000    981.000 1543622401.000 1528780738000.000   \n",
              "\n",
              "        songsCountByUser  SongCountBySession  meanSessionLengthInSeconds  \\\n",
              "0                  1.103              -0.918                      -0.310   \n",
              "1                  0.214              -1.204                      -0.838   \n",
              "2                 -0.052              -0.408                      -0.839   \n",
              "3                 -0.052              -0.408                      -0.839   \n",
              "4                  0.392              -0.240                       0.258   \n",
              "...                  ...                 ...                         ...   \n",
              "527961            -0.735              -0.282                       1.866   \n",
              "527962             2.034              -0.408                       1.949   \n",
              "527963            -1.237              -1.043                       3.275   \n",
              "527964            -0.024              -1.015                       1.720   \n",
              "527965            -0.145              -0.582                       2.305   \n",
              "\n",
              "        countSessionsByUser  BounceRate  ...  page_Submit Upgrade  \\\n",
              "0                     1.532      -0.457  ...               -0.023   \n",
              "1                     0.077       0.329  ...               -0.023   \n",
              "2                    -0.375      -0.457  ...               -0.023   \n",
              "3                    -0.375      -0.457  ...               -0.023   \n",
              "4                    -0.225      -0.457  ...               -0.023   \n",
              "...                     ...         ...  ...                  ...   \n",
              "527961               -0.877      -0.457  ...               -0.023   \n",
              "527962                3.239      -0.457  ...               -0.023   \n",
              "527963               -1.178      -0.457  ...               -0.023   \n",
              "527964                0.578      -0.457  ...               -0.023   \n",
              "527965                0.528      -0.457  ...               -0.023   \n",
              "\n",
              "        page_Thumbs Down  page_Thumbs Up  page_Upgrade  level_free  \\\n",
              "0                 -0.097          -0.217        -0.043       1.950   \n",
              "1                 -0.097          -0.217        -0.043       1.950   \n",
              "2                 -0.097          -0.217        -0.043      -0.513   \n",
              "3                 -0.097          -0.217        -0.043      -0.513   \n",
              "4                 -0.097          -0.217        -0.043      -0.513   \n",
              "...                  ...             ...           ...         ...   \n",
              "527961            -0.097          -0.217        -0.043      -0.513   \n",
              "527962            -0.097          -0.217        -0.043      -0.513   \n",
              "527963            -0.097          -0.217        -0.043      -0.513   \n",
              "527964            -0.097          -0.217        -0.043      -0.513   \n",
              "527965            -0.097          -0.217        -0.043      -0.513   \n",
              "\n",
              "        level_paid   PC 1   PC 2   PC 3   PC 4  \n",
              "0           -1.950  2.921  3.118 -1.445 -0.176  \n",
              "1           -1.950  0.445  2.190 -1.260  0.624  \n",
              "2            0.513 -0.330 -1.036 -0.392  0.141  \n",
              "3            0.513 -0.403 -0.039  2.907  0.585  \n",
              "4            0.513  1.128 -0.600 -0.446 -0.529  \n",
              "...            ...    ...    ...    ...    ...  \n",
              "527961       0.513 -2.200 -1.093 -0.269 -1.783  \n",
              "527962       0.513  7.207  0.803 -0.568 -2.581  \n",
              "527963       0.513 -4.123 -1.044 -0.224 -2.964  \n",
              "527964       0.513  0.523 -0.169 -0.460 -2.045  \n",
              "527965       0.513 -0.056 -0.706 -0.279 -2.478  \n",
              "\n",
              "[527966 rows x 38 columns]"
            ],
            "text/html": [
              "\n",
              "  <div id=\"df-607f94be-4dc3-4a87-808b-e034f324e9bf\">\n",
              "    <div class=\"colab-df-container\">\n",
              "      <div>\n",
              "<style scoped>\n",
              "    .dataframe tbody tr th:only-of-type {\n",
              "        vertical-align: middle;\n",
              "    }\n",
              "\n",
              "    .dataframe tbody tr th {\n",
              "        vertical-align: top;\n",
              "    }\n",
              "\n",
              "    .dataframe thead th {\n",
              "        text-align: right;\n",
              "    }\n",
              "</style>\n",
              "<table border=\"1\" class=\"dataframe\">\n",
              "  <thead>\n",
              "    <tr style=\"text-align: right;\">\n",
              "      <th></th>\n",
              "      <th>userId</th>\n",
              "      <th>churn_user</th>\n",
              "      <th>sessionId</th>\n",
              "      <th>ts</th>\n",
              "      <th>registration</th>\n",
              "      <th>songsCountByUser</th>\n",
              "      <th>SongCountBySession</th>\n",
              "      <th>meanSessionLengthInSeconds</th>\n",
              "      <th>countSessionsByUser</th>\n",
              "      <th>BounceRate</th>\n",
              "      <th>...</th>\n",
              "      <th>page_Submit Upgrade</th>\n",
              "      <th>page_Thumbs Down</th>\n",
              "      <th>page_Thumbs Up</th>\n",
              "      <th>page_Upgrade</th>\n",
              "      <th>level_free</th>\n",
              "      <th>level_paid</th>\n",
              "      <th>PC 1</th>\n",
              "      <th>PC 2</th>\n",
              "      <th>PC 3</th>\n",
              "      <th>PC 4</th>\n",
              "    </tr>\n",
              "  </thead>\n",
              "  <tbody>\n",
              "    <tr>\n",
              "      <th>0</th>\n",
              "      <td>293.000</td>\n",
              "      <td>1.000</td>\n",
              "      <td>292.000</td>\n",
              "      <td>1538352011.000</td>\n",
              "      <td>1532063507000.000</td>\n",
              "      <td>1.103</td>\n",
              "      <td>-0.918</td>\n",
              "      <td>-0.310</td>\n",
              "      <td>1.532</td>\n",
              "      <td>-0.457</td>\n",
              "      <td>...</td>\n",
              "      <td>-0.023</td>\n",
              "      <td>-0.097</td>\n",
              "      <td>-0.217</td>\n",
              "      <td>-0.043</td>\n",
              "      <td>1.950</td>\n",
              "      <td>-1.950</td>\n",
              "      <td>2.921</td>\n",
              "      <td>3.118</td>\n",
              "      <td>-1.445</td>\n",
              "      <td>-0.176</td>\n",
              "    </tr>\n",
              "    <tr>\n",
              "      <th>1</th>\n",
              "      <td>98.000</td>\n",
              "      <td>0.000</td>\n",
              "      <td>97.000</td>\n",
              "      <td>1538352025.000</td>\n",
              "      <td>1538069638000.000</td>\n",
              "      <td>0.214</td>\n",
              "      <td>-1.204</td>\n",
              "      <td>-0.838</td>\n",
              "      <td>0.077</td>\n",
              "      <td>0.329</td>\n",
              "      <td>...</td>\n",
              "      <td>-0.023</td>\n",
              "      <td>-0.097</td>\n",
              "      <td>-0.217</td>\n",
              "      <td>-0.043</td>\n",
              "      <td>1.950</td>\n",
              "      <td>-1.950</td>\n",
              "      <td>0.445</td>\n",
              "      <td>2.190</td>\n",
              "      <td>-1.260</td>\n",
              "      <td>0.624</td>\n",
              "    </tr>\n",
              "    <tr>\n",
              "      <th>2</th>\n",
              "      <td>179.000</td>\n",
              "      <td>0.000</td>\n",
              "      <td>178.000</td>\n",
              "      <td>1538352118.000</td>\n",
              "      <td>1535953455000.000</td>\n",
              "      <td>-0.052</td>\n",
              "      <td>-0.408</td>\n",
              "      <td>-0.839</td>\n",
              "      <td>-0.375</td>\n",
              "      <td>-0.457</td>\n",
              "      <td>...</td>\n",
              "      <td>-0.023</td>\n",
              "      <td>-0.097</td>\n",
              "      <td>-0.217</td>\n",
              "      <td>-0.043</td>\n",
              "      <td>-0.513</td>\n",
              "      <td>0.513</td>\n",
              "      <td>-0.330</td>\n",
              "      <td>-1.036</td>\n",
              "      <td>-0.392</td>\n",
              "      <td>0.141</td>\n",
              "    </tr>\n",
              "    <tr>\n",
              "      <th>3</th>\n",
              "      <td>179.000</td>\n",
              "      <td>0.000</td>\n",
              "      <td>178.000</td>\n",
              "      <td>1538352119.000</td>\n",
              "      <td>1535953455000.000</td>\n",
              "      <td>-0.052</td>\n",
              "      <td>-0.408</td>\n",
              "      <td>-0.839</td>\n",
              "      <td>-0.375</td>\n",
              "      <td>-0.457</td>\n",
              "      <td>...</td>\n",
              "      <td>-0.023</td>\n",
              "      <td>-0.097</td>\n",
              "      <td>-0.217</td>\n",
              "      <td>-0.043</td>\n",
              "      <td>-0.513</td>\n",
              "      <td>0.513</td>\n",
              "      <td>-0.403</td>\n",
              "      <td>-0.039</td>\n",
              "      <td>2.907</td>\n",
              "      <td>0.585</td>\n",
              "    </tr>\n",
              "    <tr>\n",
              "      <th>4</th>\n",
              "      <td>246.000</td>\n",
              "      <td>1.000</td>\n",
              "      <td>245.000</td>\n",
              "      <td>1538352124.000</td>\n",
              "      <td>1535931018000.000</td>\n",
              "      <td>0.392</td>\n",
              "      <td>-0.240</td>\n",
              "      <td>0.258</td>\n",
              "      <td>-0.225</td>\n",
              "      <td>-0.457</td>\n",
              "      <td>...</td>\n",
              "      <td>-0.023</td>\n",
              "      <td>-0.097</td>\n",
              "      <td>-0.217</td>\n",
              "      <td>-0.043</td>\n",
              "      <td>-0.513</td>\n",
              "      <td>0.513</td>\n",
              "      <td>1.128</td>\n",
              "      <td>-0.600</td>\n",
              "      <td>-0.446</td>\n",
              "      <td>-0.529</td>\n",
              "    </tr>\n",
              "    <tr>\n",
              "      <th>...</th>\n",
              "      <td>...</td>\n",
              "      <td>...</td>\n",
              "      <td>...</td>\n",
              "      <td>...</td>\n",
              "      <td>...</td>\n",
              "      <td>...</td>\n",
              "      <td>...</td>\n",
              "      <td>...</td>\n",
              "      <td>...</td>\n",
              "      <td>...</td>\n",
              "      <td>...</td>\n",
              "      <td>...</td>\n",
              "      <td>...</td>\n",
              "      <td>...</td>\n",
              "      <td>...</td>\n",
              "      <td>...</td>\n",
              "      <td>...</td>\n",
              "      <td>...</td>\n",
              "      <td>...</td>\n",
              "      <td>...</td>\n",
              "      <td>...</td>\n",
              "    </tr>\n",
              "    <tr>\n",
              "      <th>527961</th>\n",
              "      <td>300010.000</td>\n",
              "      <td>0.000</td>\n",
              "      <td>882.000</td>\n",
              "      <td>1543622316.000</td>\n",
              "      <td>1536850071000.000</td>\n",
              "      <td>-0.735</td>\n",
              "      <td>-0.282</td>\n",
              "      <td>1.866</td>\n",
              "      <td>-0.877</td>\n",
              "      <td>-0.457</td>\n",
              "      <td>...</td>\n",
              "      <td>-0.023</td>\n",
              "      <td>-0.097</td>\n",
              "      <td>-0.217</td>\n",
              "      <td>-0.043</td>\n",
              "      <td>-0.513</td>\n",
              "      <td>0.513</td>\n",
              "      <td>-2.200</td>\n",
              "      <td>-1.093</td>\n",
              "      <td>-0.269</td>\n",
              "      <td>-1.783</td>\n",
              "    </tr>\n",
              "    <tr>\n",
              "      <th>527962</th>\n",
              "      <td>300049.000</td>\n",
              "      <td>0.000</td>\n",
              "      <td>991.000</td>\n",
              "      <td>1543622332.000</td>\n",
              "      <td>1537523064000.000</td>\n",
              "      <td>2.034</td>\n",
              "      <td>-0.408</td>\n",
              "      <td>1.949</td>\n",
              "      <td>3.239</td>\n",
              "      <td>-0.457</td>\n",
              "      <td>...</td>\n",
              "      <td>-0.023</td>\n",
              "      <td>-0.097</td>\n",
              "      <td>-0.217</td>\n",
              "      <td>-0.043</td>\n",
              "      <td>-0.513</td>\n",
              "      <td>0.513</td>\n",
              "      <td>7.207</td>\n",
              "      <td>0.803</td>\n",
              "      <td>-0.568</td>\n",
              "      <td>-2.581</td>\n",
              "    </tr>\n",
              "    <tr>\n",
              "      <th>527963</th>\n",
              "      <td>300039.000</td>\n",
              "      <td>0.000</td>\n",
              "      <td>916.000</td>\n",
              "      <td>1543622368.000</td>\n",
              "      <td>1536228638000.000</td>\n",
              "      <td>-1.237</td>\n",
              "      <td>-1.043</td>\n",
              "      <td>3.275</td>\n",
              "      <td>-1.178</td>\n",
              "      <td>-0.457</td>\n",
              "      <td>...</td>\n",
              "      <td>-0.023</td>\n",
              "      <td>-0.097</td>\n",
              "      <td>-0.217</td>\n",
              "      <td>-0.043</td>\n",
              "      <td>-0.513</td>\n",
              "      <td>0.513</td>\n",
              "      <td>-4.123</td>\n",
              "      <td>-1.044</td>\n",
              "      <td>-0.224</td>\n",
              "      <td>-2.964</td>\n",
              "    </tr>\n",
              "    <tr>\n",
              "      <th>527964</th>\n",
              "      <td>300038.000</td>\n",
              "      <td>0.000</td>\n",
              "      <td>966.000</td>\n",
              "      <td>1543622392.000</td>\n",
              "      <td>1535616235000.000</td>\n",
              "      <td>-0.024</td>\n",
              "      <td>-1.015</td>\n",
              "      <td>1.720</td>\n",
              "      <td>0.578</td>\n",
              "      <td>-0.457</td>\n",
              "      <td>...</td>\n",
              "      <td>-0.023</td>\n",
              "      <td>-0.097</td>\n",
              "      <td>-0.217</td>\n",
              "      <td>-0.043</td>\n",
              "      <td>-0.513</td>\n",
              "      <td>0.513</td>\n",
              "      <td>0.523</td>\n",
              "      <td>-0.169</td>\n",
              "      <td>-0.460</td>\n",
              "      <td>-2.045</td>\n",
              "    </tr>\n",
              "    <tr>\n",
              "      <th>527965</th>\n",
              "      <td>300015.000</td>\n",
              "      <td>0.000</td>\n",
              "      <td>981.000</td>\n",
              "      <td>1543622401.000</td>\n",
              "      <td>1528780738000.000</td>\n",
              "      <td>-0.145</td>\n",
              "      <td>-0.582</td>\n",
              "      <td>2.305</td>\n",
              "      <td>0.528</td>\n",
              "      <td>-0.457</td>\n",
              "      <td>...</td>\n",
              "      <td>-0.023</td>\n",
              "      <td>-0.097</td>\n",
              "      <td>-0.217</td>\n",
              "      <td>-0.043</td>\n",
              "      <td>-0.513</td>\n",
              "      <td>0.513</td>\n",
              "      <td>-0.056</td>\n",
              "      <td>-0.706</td>\n",
              "      <td>-0.279</td>\n",
              "      <td>-2.478</td>\n",
              "    </tr>\n",
              "  </tbody>\n",
              "</table>\n",
              "<p>527966 rows × 38 columns</p>\n",
              "</div>\n",
              "      <button class=\"colab-df-convert\" onclick=\"convertToInteractive('df-607f94be-4dc3-4a87-808b-e034f324e9bf')\"\n",
              "              title=\"Convert this dataframe to an interactive table.\"\n",
              "              style=\"display:none;\">\n",
              "        \n",
              "  <svg xmlns=\"http://www.w3.org/2000/svg\" height=\"24px\"viewBox=\"0 0 24 24\"\n",
              "       width=\"24px\">\n",
              "    <path d=\"M0 0h24v24H0V0z\" fill=\"none\"/>\n",
              "    <path d=\"M18.56 5.44l.94 2.06.94-2.06 2.06-.94-2.06-.94-.94-2.06-.94 2.06-2.06.94zm-11 1L8.5 8.5l.94-2.06 2.06-.94-2.06-.94L8.5 2.5l-.94 2.06-2.06.94zm10 10l.94 2.06.94-2.06 2.06-.94-2.06-.94-.94-2.06-.94 2.06-2.06.94z\"/><path d=\"M17.41 7.96l-1.37-1.37c-.4-.4-.92-.59-1.43-.59-.52 0-1.04.2-1.43.59L10.3 9.45l-7.72 7.72c-.78.78-.78 2.05 0 2.83L4 21.41c.39.39.9.59 1.41.59.51 0 1.02-.2 1.41-.59l7.78-7.78 2.81-2.81c.8-.78.8-2.07 0-2.86zM5.41 20L4 18.59l7.72-7.72 1.47 1.35L5.41 20z\"/>\n",
              "  </svg>\n",
              "      </button>\n",
              "      \n",
              "  <style>\n",
              "    .colab-df-container {\n",
              "      display:flex;\n",
              "      flex-wrap:wrap;\n",
              "      gap: 12px;\n",
              "    }\n",
              "\n",
              "    .colab-df-convert {\n",
              "      background-color: #E8F0FE;\n",
              "      border: none;\n",
              "      border-radius: 50%;\n",
              "      cursor: pointer;\n",
              "      display: none;\n",
              "      fill: #1967D2;\n",
              "      height: 32px;\n",
              "      padding: 0 0 0 0;\n",
              "      width: 32px;\n",
              "    }\n",
              "\n",
              "    .colab-df-convert:hover {\n",
              "      background-color: #E2EBFA;\n",
              "      box-shadow: 0px 1px 2px rgba(60, 64, 67, 0.3), 0px 1px 3px 1px rgba(60, 64, 67, 0.15);\n",
              "      fill: #174EA6;\n",
              "    }\n",
              "\n",
              "    [theme=dark] .colab-df-convert {\n",
              "      background-color: #3B4455;\n",
              "      fill: #D2E3FC;\n",
              "    }\n",
              "\n",
              "    [theme=dark] .colab-df-convert:hover {\n",
              "      background-color: #434B5C;\n",
              "      box-shadow: 0px 1px 3px 1px rgba(0, 0, 0, 0.15);\n",
              "      filter: drop-shadow(0px 1px 2px rgba(0, 0, 0, 0.3));\n",
              "      fill: #FFFFFF;\n",
              "    }\n",
              "  </style>\n",
              "\n",
              "      <script>\n",
              "        const buttonEl =\n",
              "          document.querySelector('#df-607f94be-4dc3-4a87-808b-e034f324e9bf button.colab-df-convert');\n",
              "        buttonEl.style.display =\n",
              "          google.colab.kernel.accessAllowed ? 'block' : 'none';\n",
              "\n",
              "        async function convertToInteractive(key) {\n",
              "          const element = document.querySelector('#df-607f94be-4dc3-4a87-808b-e034f324e9bf');\n",
              "          const dataTable =\n",
              "            await google.colab.kernel.invokeFunction('convertToInteractive',\n",
              "                                                     [key], {});\n",
              "          if (!dataTable) return;\n",
              "\n",
              "          const docLinkHtml = 'Like what you see? Visit the ' +\n",
              "            '<a target=\"_blank\" href=https://colab.research.google.com/notebooks/data_table.ipynb>data table notebook</a>'\n",
              "            + ' to learn more about interactive tables.';\n",
              "          element.innerHTML = '';\n",
              "          dataTable['output_type'] = 'display_data';\n",
              "          await google.colab.output.renderOutput(dataTable, element);\n",
              "          const docLink = document.createElement('div');\n",
              "          docLink.innerHTML = docLinkHtml;\n",
              "          element.appendChild(docLink);\n",
              "        }\n",
              "      </script>\n",
              "    </div>\n",
              "  </div>\n",
              "  "
            ]
          },
          "metadata": {},
          "execution_count": 5
        }
      ]
    },
    {
      "cell_type": "markdown",
      "source": [
        "\n",
        "\n",
        "> Preprocesado de datos\n",
        "\n"
      ],
      "metadata": {
        "id": "noSbkgcoSq7a"
      }
    },
    {
      "cell_type": "code",
      "source": [
        "df_churn_clean.corr()"
      ],
      "metadata": {
        "colab": {
          "base_uri": "https://localhost:8080/",
          "height": 1000
        },
        "id": "ZRR8wZz9Stek",
        "outputId": "1eabb739-fb26-44fb-e47d-aea250998df0"
      },
      "execution_count": null,
      "outputs": [
        {
          "output_type": "execute_result",
          "data": {
            "text/plain": [
              "                                userId  churn_user  sessionId     ts  \\\n",
              "userId                           1.000      -0.068     -0.608 -0.033   \n",
              "churn_user                      -0.068       1.000     -0.128 -0.203   \n",
              "sessionId                       -0.608      -0.128      1.000  0.696   \n",
              "ts                              -0.033      -0.203      0.696  1.000   \n",
              "registration                     0.058      -0.076     -0.020  0.016   \n",
              "songsCountByUser                -0.018      -0.056      0.165  0.049   \n",
              "SongCountBySession              -0.193      -0.002      0.209  0.090   \n",
              "meanSessionLengthInSeconds       0.860      -0.015     -0.634 -0.077   \n",
              "countSessionsByUser              0.211      -0.048      0.027  0.043   \n",
              "BounceRate                      -0.250      -0.095      0.221  0.058   \n",
              "AddsSeen                        -0.052       0.198      0.014 -0.004   \n",
              "Error                           -0.034      -0.040      0.139  0.033   \n",
              "NumInteracc                     -0.001      -0.056      0.155  0.048   \n",
              "page_About                      -0.001      -0.002      0.002  0.002   \n",
              "page_Add Friend                  0.001      -0.002      0.001 -0.000   \n",
              "page_Add to Playlist             0.002      -0.005      0.001  0.001   \n",
              "page_Cancel                      0.001       0.028     -0.005 -0.001   \n",
              "page_Cancellation Confirmation   0.001       0.028     -0.005 -0.001   \n",
              "page_Downgrade                  -0.011       0.005      0.013  0.011   \n",
              "page_Error                      -0.001      -0.000      0.001 -0.001   \n",
              "page_Help                        0.000      -0.000     -0.000 -0.000   \n",
              "page_Home                       -0.001       0.001     -0.006 -0.006   \n",
              "page_Logout                     -0.003       0.000     -0.005 -0.006   \n",
              "page_NextSong                   -0.025      -0.008      0.035  0.021   \n",
              "page_Roll Advert                 0.001       0.026     -0.056 -0.051   \n",
              "page_Save Settings              -0.002      -0.002      0.000 -0.001   \n",
              "page_Settings                   -0.000       0.002     -0.002 -0.002   \n",
              "page_Submit Downgrade            0.002       0.002     -0.004 -0.000   \n",
              "page_Submit Upgrade              0.003       0.003     -0.010 -0.009   \n",
              "page_Thumbs Down                 0.015       0.010     -0.012  0.001   \n",
              "page_Thumbs Up                   0.044      -0.009     -0.020  0.000   \n",
              "page_Upgrade                     0.003       0.005     -0.020 -0.020   \n",
              "level_free                      -0.001       0.069     -0.227 -0.233   \n",
              "level_paid                       0.001      -0.069      0.227  0.233   \n",
              "PC 1                             0.018      -0.060      0.164  0.067   \n",
              "PC 2                             0.077       0.089     -0.206 -0.188   \n",
              "PC 3                             0.053      -0.028      0.001  0.037   \n",
              "PC 4                            -0.777       0.010      0.543  0.064   \n",
              "\n",
              "                                registration  songsCountByUser  \\\n",
              "userId                                 0.058            -0.018   \n",
              "churn_user                            -0.076            -0.056   \n",
              "sessionId                             -0.020             0.165   \n",
              "ts                                     0.016             0.049   \n",
              "registration                           1.000             0.091   \n",
              "songsCountByUser                       0.091             1.000   \n",
              "SongCountBySession                    -0.001             0.183   \n",
              "meanSessionLengthInSeconds             0.018            -0.102   \n",
              "countSessionsByUser                    0.100             0.883   \n",
              "BounceRate                             0.031             0.087   \n",
              "AddsSeen                               0.023             0.243   \n",
              "Error                                  0.115             0.867   \n",
              "NumInteracc                            0.094             1.000   \n",
              "page_About                             0.000            -0.000   \n",
              "page_Add Friend                        0.002             0.001   \n",
              "page_Add to Playlist                   0.002             0.003   \n",
              "page_Cancel                           -0.002            -0.011   \n",
              "page_Cancellation Confirmation        -0.002            -0.011   \n",
              "page_Downgrade                        -0.001             0.006   \n",
              "page_Error                             0.001             0.001   \n",
              "page_Help                              0.001            -0.001   \n",
              "page_Home                             -0.002            -0.013   \n",
              "page_Logout                           -0.003            -0.009   \n",
              "page_NextSong                          0.001             0.028   \n",
              "page_Roll Advert                      -0.005            -0.066   \n",
              "page_Save Settings                     0.001            -0.004   \n",
              "page_Settings                          0.001            -0.002   \n",
              "page_Submit Downgrade                 -0.003            -0.005   \n",
              "page_Submit Upgrade                   -0.001            -0.010   \n",
              "page_Thumbs Down                       0.004            -0.007   \n",
              "page_Thumbs Up                         0.001             0.009   \n",
              "page_Upgrade                          -0.003            -0.021   \n",
              "level_free                            -0.025            -0.284   \n",
              "level_paid                             0.025             0.284   \n",
              "PC 1                                   0.103             0.992   \n",
              "PC 2                                   0.015             0.054   \n",
              "PC 3                                  -0.000            -0.007   \n",
              "PC 4                                  -0.013             0.024   \n",
              "\n",
              "                                SongCountBySession  \\\n",
              "userId                                      -0.193   \n",
              "churn_user                                  -0.002   \n",
              "sessionId                                    0.209   \n",
              "ts                                           0.090   \n",
              "registration                                -0.001   \n",
              "songsCountByUser                             0.183   \n",
              "SongCountBySession                           1.000   \n",
              "meanSessionLengthInSeconds                  -0.186   \n",
              "countSessionsByUser                          0.021   \n",
              "BounceRate                                   0.040   \n",
              "AddsSeen                                    -0.092   \n",
              "Error                                        0.164   \n",
              "NumInteracc                                  0.176   \n",
              "page_About                                  -0.008   \n",
              "page_Add Friend                             -0.005   \n",
              "page_Add to Playlist                         0.000   \n",
              "page_Cancel                                 -0.010   \n",
              "page_Cancellation Confirmation              -0.010   \n",
              "page_Downgrade                               0.011   \n",
              "page_Error                                   0.000   \n",
              "page_Help                                   -0.002   \n",
              "page_Home                                   -0.029   \n",
              "page_Logout                                 -0.017   \n",
              "page_NextSong                                0.054   \n",
              "page_Roll Advert                            -0.081   \n",
              "page_Save Settings                          -0.004   \n",
              "page_Settings                               -0.003   \n",
              "page_Submit Downgrade                       -0.005   \n",
              "page_Submit Upgrade                         -0.009   \n",
              "page_Thumbs Down                            -0.004   \n",
              "page_Thumbs Up                              -0.006   \n",
              "page_Upgrade                                -0.026   \n",
              "level_free                                  -0.364   \n",
              "level_paid                                   0.364   \n",
              "PC 1                                         0.212   \n",
              "PC 2                                        -0.477   \n",
              "PC 3                                         0.080   \n",
              "PC 4                                         0.323   \n",
              "\n",
              "                                meanSessionLengthInSeconds  \\\n",
              "userId                                               0.860   \n",
              "churn_user                                          -0.015   \n",
              "sessionId                                           -0.634   \n",
              "ts                                                  -0.077   \n",
              "registration                                         0.018   \n",
              "songsCountByUser                                    -0.102   \n",
              "SongCountBySession                                  -0.186   \n",
              "meanSessionLengthInSeconds                           1.000   \n",
              "countSessionsByUser                                  0.091   \n",
              "BounceRate                                          -0.261   \n",
              "AddsSeen                                            -0.102   \n",
              "Error                                               -0.099   \n",
              "NumInteracc                                         -0.088   \n",
              "page_About                                          -0.000   \n",
              "page_Add Friend                                      0.001   \n",
              "page_Add to Playlist                                 0.001   \n",
              "page_Cancel                                          0.005   \n",
              "page_Cancellation Confirmation                       0.005   \n",
              "page_Downgrade                                      -0.008   \n",
              "page_Error                                          -0.001   \n",
              "page_Help                                           -0.000   \n",
              "page_Home                                           -0.000   \n",
              "page_Logout                                         -0.001   \n",
              "page_NextSong                                       -0.024   \n",
              "page_Roll Advert                                     0.006   \n",
              "page_Save Settings                                  -0.002   \n",
              "page_Settings                                       -0.001   \n",
              "page_Submit Downgrade                                0.003   \n",
              "page_Submit Upgrade                                  0.003   \n",
              "page_Thumbs Down                                     0.016   \n",
              "page_Thumbs Up                                       0.034   \n",
              "page_Upgrade                                         0.004   \n",
              "level_free                                           0.017   \n",
              "level_paid                                          -0.017   \n",
              "PC 1                                                -0.078   \n",
              "PC 2                                                 0.053   \n",
              "PC 3                                                 0.060   \n",
              "PC 4                                                -0.848   \n",
              "\n",
              "                                countSessionsByUser  BounceRate  ...  \\\n",
              "userId                                        0.211      -0.250  ...   \n",
              "churn_user                                   -0.048      -0.095  ...   \n",
              "sessionId                                     0.027       0.221  ...   \n",
              "ts                                            0.043       0.058  ...   \n",
              "registration                                  0.100       0.031  ...   \n",
              "songsCountByUser                              0.883       0.087  ...   \n",
              "SongCountBySession                            0.021       0.040  ...   \n",
              "meanSessionLengthInSeconds                    0.091      -0.261  ...   \n",
              "countSessionsByUser                           1.000       0.035  ...   \n",
              "BounceRate                                    0.035       1.000  ...   \n",
              "AddsSeen                                      0.389      -0.007  ...   \n",
              "Error                                         0.739       0.046  ...   \n",
              "NumInteracc                                   0.894       0.083  ...   \n",
              "page_About                                   -0.000       0.001  ...   \n",
              "page_Add Friend                               0.002       0.000  ...   \n",
              "page_Add to Playlist                          0.002       0.001  ...   \n",
              "page_Cancel                                  -0.011      -0.003  ...   \n",
              "page_Cancellation Confirmation               -0.011      -0.003  ...   \n",
              "page_Downgrade                               -0.002       0.002  ...   \n",
              "page_Error                                    0.001      -0.001  ...   \n",
              "page_Help                                    -0.001      -0.003  ...   \n",
              "page_Home                                    -0.007       0.001  ...   \n",
              "page_Logout                                  -0.005       0.002  ...   \n",
              "page_NextSong                                 0.010       0.008  ...   \n",
              "page_Roll Advert                             -0.038      -0.009  ...   \n",
              "page_Save Settings                           -0.003      -0.001  ...   \n",
              "page_Settings                                -0.002       0.001  ...   \n",
              "page_Submit Downgrade                        -0.003      -0.003  ...   \n",
              "page_Submit Upgrade                          -0.008      -0.002  ...   \n",
              "page_Thumbs Down                             -0.003      -0.006  ...   \n",
              "page_Thumbs Up                                0.018      -0.009  ...   \n",
              "page_Upgrade                                 -0.012      -0.002  ...   \n",
              "level_free                                   -0.151      -0.027  ...   \n",
              "level_paid                                    0.151       0.027  ...   \n",
              "PC 1                                          0.903       0.082  ...   \n",
              "PC 2                                          0.223      -0.038  ...   \n",
              "PC 3                                         -0.035      -0.023  ...   \n",
              "PC 4                                         -0.159       0.634  ...   \n",
              "\n",
              "                                page_Submit Upgrade  page_Thumbs Down  \\\n",
              "userId                                        0.003             0.015   \n",
              "churn_user                                    0.003             0.010   \n",
              "sessionId                                    -0.010            -0.012   \n",
              "ts                                           -0.009             0.001   \n",
              "registration                                 -0.001             0.004   \n",
              "songsCountByUser                             -0.010            -0.007   \n",
              "SongCountBySession                           -0.009            -0.004   \n",
              "meanSessionLengthInSeconds                    0.003             0.016   \n",
              "countSessionsByUser                          -0.008            -0.003   \n",
              "BounceRate                                   -0.002            -0.006   \n",
              "AddsSeen                                      0.002             0.009   \n",
              "Error                                        -0.008            -0.004   \n",
              "NumInteracc                                  -0.010            -0.006   \n",
              "page_About                                   -0.001            -0.004   \n",
              "page_Add Friend                              -0.003            -0.012   \n",
              "page_Add to Playlist                         -0.004            -0.015   \n",
              "page_Cancel                                  -0.000            -0.001   \n",
              "page_Cancellation Confirmation               -0.000            -0.001   \n",
              "page_Downgrade                               -0.002            -0.008   \n",
              "page_Error                                   -0.001            -0.003   \n",
              "page_Help                                    -0.002            -0.007   \n",
              "page_Home                                    -0.005            -0.019   \n",
              "page_Logout                                  -0.002            -0.010   \n",
              "page_NextSong                                -0.050            -0.207   \n",
              "page_Roll Advert                             -0.003            -0.012   \n",
              "page_Save Settings                           -0.001            -0.003   \n",
              "page_Settings                                -0.002            -0.007   \n",
              "page_Submit Downgrade                        -0.000            -0.001   \n",
              "page_Submit Upgrade                           1.000            -0.002   \n",
              "page_Thumbs Down                             -0.002             1.000   \n",
              "page_Thumbs Up                               -0.005            -0.021   \n",
              "page_Upgrade                                 -0.001            -0.004   \n",
              "level_free                                    0.045             0.006   \n",
              "level_paid                                   -0.045            -0.006   \n",
              "PC 1                                         -0.015            -0.008   \n",
              "PC 2                                          0.065             0.049   \n",
              "PC 3                                          0.024             0.198   \n",
              "PC 4                                          0.010            -0.014   \n",
              "\n",
              "                                page_Thumbs Up  page_Upgrade  level_free  \\\n",
              "userId                                   0.044         0.003      -0.001   \n",
              "churn_user                              -0.009         0.005       0.069   \n",
              "sessionId                               -0.020        -0.020      -0.227   \n",
              "ts                                       0.000        -0.020      -0.233   \n",
              "registration                             0.001        -0.003      -0.025   \n",
              "songsCountByUser                         0.009        -0.021      -0.284   \n",
              "SongCountBySession                      -0.006        -0.026      -0.364   \n",
              "meanSessionLengthInSeconds               0.034         0.004       0.017   \n",
              "countSessionsByUser                      0.018        -0.012      -0.151   \n",
              "BounceRate                              -0.009        -0.002      -0.027   \n",
              "AddsSeen                                -0.013         0.019       0.324   \n",
              "Error                                    0.005        -0.017      -0.216   \n",
              "NumInteracc                              0.010        -0.020      -0.277   \n",
              "page_About                              -0.010        -0.002      -0.002   \n",
              "page_Add Friend                         -0.027        -0.005       0.002   \n",
              "page_Add to Playlist                    -0.034        -0.007      -0.008   \n",
              "page_Cancel                             -0.003        -0.001       0.004   \n",
              "page_Cancellation Confirmation          -0.003        -0.001       0.004   \n",
              "page_Downgrade                          -0.019        -0.004      -0.044   \n",
              "page_Error                              -0.007        -0.001       0.000   \n",
              "page_Help                               -0.015        -0.003       0.001   \n",
              "page_Home                               -0.042        -0.008       0.029   \n",
              "page_Logout                             -0.023        -0.005       0.025   \n",
              "page_NextSong                           -0.464        -0.091      -0.086   \n",
              "page_Roll Advert                        -0.027        -0.005       0.221   \n",
              "page_Save Settings                      -0.007        -0.001       0.004   \n",
              "page_Settings                           -0.016        -0.003       0.007   \n",
              "page_Submit Downgrade                   -0.003        -0.001      -0.008   \n",
              "page_Submit Upgrade                     -0.005        -0.001       0.045   \n",
              "page_Thumbs Down                        -0.021        -0.004       0.006   \n",
              "page_Thumbs Up                           1.000        -0.009      -0.014   \n",
              "page_Upgrade                            -0.009         1.000       0.083   \n",
              "level_free                              -0.014         0.083       1.000   \n",
              "level_paid                               0.014        -0.083      -1.000   \n",
              "PC 1                                     0.011        -0.030      -0.348   \n",
              "PC 2                                     0.074         0.128       0.855   \n",
              "PC 3                                     0.488         0.040      -0.205   \n",
              "PC 4                                    -0.075         0.020       0.067   \n",
              "\n",
              "                                level_paid   PC 1   PC 2   PC 3   PC 4  \n",
              "userId                               0.001  0.018  0.077  0.053 -0.777  \n",
              "churn_user                          -0.069 -0.060  0.089 -0.028  0.010  \n",
              "sessionId                            0.227  0.164 -0.206  0.001  0.543  \n",
              "ts                                   0.233  0.067 -0.188  0.037  0.064  \n",
              "registration                         0.025  0.103  0.015 -0.000 -0.013  \n",
              "songsCountByUser                     0.284  0.992  0.054 -0.007  0.024  \n",
              "SongCountBySession                   0.364  0.212 -0.477  0.080  0.323  \n",
              "meanSessionLengthInSeconds          -0.017 -0.078  0.053  0.060 -0.848  \n",
              "countSessionsByUser                  0.151  0.903  0.223 -0.035 -0.159  \n",
              "BounceRate                           0.027  0.082 -0.038 -0.023  0.634  \n",
              "AddsSeen                            -0.324  0.248  0.587 -0.171  0.157  \n",
              "Error                                0.216  0.871  0.082 -0.017  0.037  \n",
              "NumInteracc                          0.277  0.993  0.065 -0.008  0.011  \n",
              "page_About                           0.002 -0.000  0.017  0.091  0.007  \n",
              "page_Add Friend                     -0.002  0.000  0.055  0.260  0.030  \n",
              "page_Add to Playlist                 0.008  0.003  0.051  0.333  0.040  \n",
              "page_Cancel                         -0.004 -0.014  0.008  0.027 -0.015  \n",
              "page_Cancellation Confirmation      -0.004 -0.014  0.008  0.027 -0.015  \n",
              "page_Downgrade                       0.044  0.009 -0.027  0.202  0.041  \n",
              "page_Error                          -0.000  0.002  0.014  0.063  0.012  \n",
              "page_Help                           -0.001 -0.002  0.029  0.146  0.015  \n",
              "page_Home                           -0.029 -0.018  0.122  0.399  0.054  \n",
              "page_Logout                         -0.025 -0.013  0.077  0.208  0.038  \n",
              "page_NextSong                        0.086  0.040 -0.312 -0.946 -0.061  \n",
              "page_Roll Advert                    -0.221 -0.091  0.360  0.118  0.074  \n",
              "page_Save Settings                  -0.004 -0.005  0.018  0.066  0.011  \n",
              "page_Settings                       -0.007 -0.004  0.037  0.152  0.024  \n",
              "page_Submit Downgrade                0.008 -0.005 -0.001  0.033 -0.011  \n",
              "page_Submit Upgrade                 -0.045 -0.015  0.065  0.024  0.010  \n",
              "page_Thumbs Down                    -0.006 -0.008  0.049  0.198 -0.014  \n",
              "page_Thumbs Up                       0.014  0.011  0.074  0.488 -0.075  \n",
              "page_Upgrade                        -0.083 -0.030  0.128  0.040  0.020  \n",
              "level_free                          -1.000 -0.348  0.855 -0.205  0.067  \n",
              "level_paid                           1.000  0.348 -0.855  0.205 -0.067  \n",
              "PC 1                                 0.348  1.000  0.000  0.000 -0.000  \n",
              "PC 2                                -0.855  0.000  1.000 -0.000  0.000  \n",
              "PC 3                                 0.205  0.000 -0.000  1.000 -0.000  \n",
              "PC 4                                -0.067 -0.000  0.000 -0.000  1.000  \n",
              "\n",
              "[38 rows x 38 columns]"
            ],
            "text/html": [
              "\n",
              "  <div id=\"df-7b44740a-6e2b-4d1d-9849-2e2c11a8a899\">\n",
              "    <div class=\"colab-df-container\">\n",
              "      <div>\n",
              "<style scoped>\n",
              "    .dataframe tbody tr th:only-of-type {\n",
              "        vertical-align: middle;\n",
              "    }\n",
              "\n",
              "    .dataframe tbody tr th {\n",
              "        vertical-align: top;\n",
              "    }\n",
              "\n",
              "    .dataframe thead th {\n",
              "        text-align: right;\n",
              "    }\n",
              "</style>\n",
              "<table border=\"1\" class=\"dataframe\">\n",
              "  <thead>\n",
              "    <tr style=\"text-align: right;\">\n",
              "      <th></th>\n",
              "      <th>userId</th>\n",
              "      <th>churn_user</th>\n",
              "      <th>sessionId</th>\n",
              "      <th>ts</th>\n",
              "      <th>registration</th>\n",
              "      <th>songsCountByUser</th>\n",
              "      <th>SongCountBySession</th>\n",
              "      <th>meanSessionLengthInSeconds</th>\n",
              "      <th>countSessionsByUser</th>\n",
              "      <th>BounceRate</th>\n",
              "      <th>...</th>\n",
              "      <th>page_Submit Upgrade</th>\n",
              "      <th>page_Thumbs Down</th>\n",
              "      <th>page_Thumbs Up</th>\n",
              "      <th>page_Upgrade</th>\n",
              "      <th>level_free</th>\n",
              "      <th>level_paid</th>\n",
              "      <th>PC 1</th>\n",
              "      <th>PC 2</th>\n",
              "      <th>PC 3</th>\n",
              "      <th>PC 4</th>\n",
              "    </tr>\n",
              "  </thead>\n",
              "  <tbody>\n",
              "    <tr>\n",
              "      <th>userId</th>\n",
              "      <td>1.000</td>\n",
              "      <td>-0.068</td>\n",
              "      <td>-0.608</td>\n",
              "      <td>-0.033</td>\n",
              "      <td>0.058</td>\n",
              "      <td>-0.018</td>\n",
              "      <td>-0.193</td>\n",
              "      <td>0.860</td>\n",
              "      <td>0.211</td>\n",
              "      <td>-0.250</td>\n",
              "      <td>...</td>\n",
              "      <td>0.003</td>\n",
              "      <td>0.015</td>\n",
              "      <td>0.044</td>\n",
              "      <td>0.003</td>\n",
              "      <td>-0.001</td>\n",
              "      <td>0.001</td>\n",
              "      <td>0.018</td>\n",
              "      <td>0.077</td>\n",
              "      <td>0.053</td>\n",
              "      <td>-0.777</td>\n",
              "    </tr>\n",
              "    <tr>\n",
              "      <th>churn_user</th>\n",
              "      <td>-0.068</td>\n",
              "      <td>1.000</td>\n",
              "      <td>-0.128</td>\n",
              "      <td>-0.203</td>\n",
              "      <td>-0.076</td>\n",
              "      <td>-0.056</td>\n",
              "      <td>-0.002</td>\n",
              "      <td>-0.015</td>\n",
              "      <td>-0.048</td>\n",
              "      <td>-0.095</td>\n",
              "      <td>...</td>\n",
              "      <td>0.003</td>\n",
              "      <td>0.010</td>\n",
              "      <td>-0.009</td>\n",
              "      <td>0.005</td>\n",
              "      <td>0.069</td>\n",
              "      <td>-0.069</td>\n",
              "      <td>-0.060</td>\n",
              "      <td>0.089</td>\n",
              "      <td>-0.028</td>\n",
              "      <td>0.010</td>\n",
              "    </tr>\n",
              "    <tr>\n",
              "      <th>sessionId</th>\n",
              "      <td>-0.608</td>\n",
              "      <td>-0.128</td>\n",
              "      <td>1.000</td>\n",
              "      <td>0.696</td>\n",
              "      <td>-0.020</td>\n",
              "      <td>0.165</td>\n",
              "      <td>0.209</td>\n",
              "      <td>-0.634</td>\n",
              "      <td>0.027</td>\n",
              "      <td>0.221</td>\n",
              "      <td>...</td>\n",
              "      <td>-0.010</td>\n",
              "      <td>-0.012</td>\n",
              "      <td>-0.020</td>\n",
              "      <td>-0.020</td>\n",
              "      <td>-0.227</td>\n",
              "      <td>0.227</td>\n",
              "      <td>0.164</td>\n",
              "      <td>-0.206</td>\n",
              "      <td>0.001</td>\n",
              "      <td>0.543</td>\n",
              "    </tr>\n",
              "    <tr>\n",
              "      <th>ts</th>\n",
              "      <td>-0.033</td>\n",
              "      <td>-0.203</td>\n",
              "      <td>0.696</td>\n",
              "      <td>1.000</td>\n",
              "      <td>0.016</td>\n",
              "      <td>0.049</td>\n",
              "      <td>0.090</td>\n",
              "      <td>-0.077</td>\n",
              "      <td>0.043</td>\n",
              "      <td>0.058</td>\n",
              "      <td>...</td>\n",
              "      <td>-0.009</td>\n",
              "      <td>0.001</td>\n",
              "      <td>0.000</td>\n",
              "      <td>-0.020</td>\n",
              "      <td>-0.233</td>\n",
              "      <td>0.233</td>\n",
              "      <td>0.067</td>\n",
              "      <td>-0.188</td>\n",
              "      <td>0.037</td>\n",
              "      <td>0.064</td>\n",
              "    </tr>\n",
              "    <tr>\n",
              "      <th>registration</th>\n",
              "      <td>0.058</td>\n",
              "      <td>-0.076</td>\n",
              "      <td>-0.020</td>\n",
              "      <td>0.016</td>\n",
              "      <td>1.000</td>\n",
              "      <td>0.091</td>\n",
              "      <td>-0.001</td>\n",
              "      <td>0.018</td>\n",
              "      <td>0.100</td>\n",
              "      <td>0.031</td>\n",
              "      <td>...</td>\n",
              "      <td>-0.001</td>\n",
              "      <td>0.004</td>\n",
              "      <td>0.001</td>\n",
              "      <td>-0.003</td>\n",
              "      <td>-0.025</td>\n",
              "      <td>0.025</td>\n",
              "      <td>0.103</td>\n",
              "      <td>0.015</td>\n",
              "      <td>-0.000</td>\n",
              "      <td>-0.013</td>\n",
              "    </tr>\n",
              "    <tr>\n",
              "      <th>songsCountByUser</th>\n",
              "      <td>-0.018</td>\n",
              "      <td>-0.056</td>\n",
              "      <td>0.165</td>\n",
              "      <td>0.049</td>\n",
              "      <td>0.091</td>\n",
              "      <td>1.000</td>\n",
              "      <td>0.183</td>\n",
              "      <td>-0.102</td>\n",
              "      <td>0.883</td>\n",
              "      <td>0.087</td>\n",
              "      <td>...</td>\n",
              "      <td>-0.010</td>\n",
              "      <td>-0.007</td>\n",
              "      <td>0.009</td>\n",
              "      <td>-0.021</td>\n",
              "      <td>-0.284</td>\n",
              "      <td>0.284</td>\n",
              "      <td>0.992</td>\n",
              "      <td>0.054</td>\n",
              "      <td>-0.007</td>\n",
              "      <td>0.024</td>\n",
              "    </tr>\n",
              "    <tr>\n",
              "      <th>SongCountBySession</th>\n",
              "      <td>-0.193</td>\n",
              "      <td>-0.002</td>\n",
              "      <td>0.209</td>\n",
              "      <td>0.090</td>\n",
              "      <td>-0.001</td>\n",
              "      <td>0.183</td>\n",
              "      <td>1.000</td>\n",
              "      <td>-0.186</td>\n",
              "      <td>0.021</td>\n",
              "      <td>0.040</td>\n",
              "      <td>...</td>\n",
              "      <td>-0.009</td>\n",
              "      <td>-0.004</td>\n",
              "      <td>-0.006</td>\n",
              "      <td>-0.026</td>\n",
              "      <td>-0.364</td>\n",
              "      <td>0.364</td>\n",
              "      <td>0.212</td>\n",
              "      <td>-0.477</td>\n",
              "      <td>0.080</td>\n",
              "      <td>0.323</td>\n",
              "    </tr>\n",
              "    <tr>\n",
              "      <th>meanSessionLengthInSeconds</th>\n",
              "      <td>0.860</td>\n",
              "      <td>-0.015</td>\n",
              "      <td>-0.634</td>\n",
              "      <td>-0.077</td>\n",
              "      <td>0.018</td>\n",
              "      <td>-0.102</td>\n",
              "      <td>-0.186</td>\n",
              "      <td>1.000</td>\n",
              "      <td>0.091</td>\n",
              "      <td>-0.261</td>\n",
              "      <td>...</td>\n",
              "      <td>0.003</td>\n",
              "      <td>0.016</td>\n",
              "      <td>0.034</td>\n",
              "      <td>0.004</td>\n",
              "      <td>0.017</td>\n",
              "      <td>-0.017</td>\n",
              "      <td>-0.078</td>\n",
              "      <td>0.053</td>\n",
              "      <td>0.060</td>\n",
              "      <td>-0.848</td>\n",
              "    </tr>\n",
              "    <tr>\n",
              "      <th>countSessionsByUser</th>\n",
              "      <td>0.211</td>\n",
              "      <td>-0.048</td>\n",
              "      <td>0.027</td>\n",
              "      <td>0.043</td>\n",
              "      <td>0.100</td>\n",
              "      <td>0.883</td>\n",
              "      <td>0.021</td>\n",
              "      <td>0.091</td>\n",
              "      <td>1.000</td>\n",
              "      <td>0.035</td>\n",
              "      <td>...</td>\n",
              "      <td>-0.008</td>\n",
              "      <td>-0.003</td>\n",
              "      <td>0.018</td>\n",
              "      <td>-0.012</td>\n",
              "      <td>-0.151</td>\n",
              "      <td>0.151</td>\n",
              "      <td>0.903</td>\n",
              "      <td>0.223</td>\n",
              "      <td>-0.035</td>\n",
              "      <td>-0.159</td>\n",
              "    </tr>\n",
              "    <tr>\n",
              "      <th>BounceRate</th>\n",
              "      <td>-0.250</td>\n",
              "      <td>-0.095</td>\n",
              "      <td>0.221</td>\n",
              "      <td>0.058</td>\n",
              "      <td>0.031</td>\n",
              "      <td>0.087</td>\n",
              "      <td>0.040</td>\n",
              "      <td>-0.261</td>\n",
              "      <td>0.035</td>\n",
              "      <td>1.000</td>\n",
              "      <td>...</td>\n",
              "      <td>-0.002</td>\n",
              "      <td>-0.006</td>\n",
              "      <td>-0.009</td>\n",
              "      <td>-0.002</td>\n",
              "      <td>-0.027</td>\n",
              "      <td>0.027</td>\n",
              "      <td>0.082</td>\n",
              "      <td>-0.038</td>\n",
              "      <td>-0.023</td>\n",
              "      <td>0.634</td>\n",
              "    </tr>\n",
              "    <tr>\n",
              "      <th>AddsSeen</th>\n",
              "      <td>-0.052</td>\n",
              "      <td>0.198</td>\n",
              "      <td>0.014</td>\n",
              "      <td>-0.004</td>\n",
              "      <td>0.023</td>\n",
              "      <td>0.243</td>\n",
              "      <td>-0.092</td>\n",
              "      <td>-0.102</td>\n",
              "      <td>0.389</td>\n",
              "      <td>-0.007</td>\n",
              "      <td>...</td>\n",
              "      <td>0.002</td>\n",
              "      <td>0.009</td>\n",
              "      <td>-0.013</td>\n",
              "      <td>0.019</td>\n",
              "      <td>0.324</td>\n",
              "      <td>-0.324</td>\n",
              "      <td>0.248</td>\n",
              "      <td>0.587</td>\n",
              "      <td>-0.171</td>\n",
              "      <td>0.157</td>\n",
              "    </tr>\n",
              "    <tr>\n",
              "      <th>Error</th>\n",
              "      <td>-0.034</td>\n",
              "      <td>-0.040</td>\n",
              "      <td>0.139</td>\n",
              "      <td>0.033</td>\n",
              "      <td>0.115</td>\n",
              "      <td>0.867</td>\n",
              "      <td>0.164</td>\n",
              "      <td>-0.099</td>\n",
              "      <td>0.739</td>\n",
              "      <td>0.046</td>\n",
              "      <td>...</td>\n",
              "      <td>-0.008</td>\n",
              "      <td>-0.004</td>\n",
              "      <td>0.005</td>\n",
              "      <td>-0.017</td>\n",
              "      <td>-0.216</td>\n",
              "      <td>0.216</td>\n",
              "      <td>0.871</td>\n",
              "      <td>0.082</td>\n",
              "      <td>-0.017</td>\n",
              "      <td>0.037</td>\n",
              "    </tr>\n",
              "    <tr>\n",
              "      <th>NumInteracc</th>\n",
              "      <td>-0.001</td>\n",
              "      <td>-0.056</td>\n",
              "      <td>0.155</td>\n",
              "      <td>0.048</td>\n",
              "      <td>0.094</td>\n",
              "      <td>1.000</td>\n",
              "      <td>0.176</td>\n",
              "      <td>-0.088</td>\n",
              "      <td>0.894</td>\n",
              "      <td>0.083</td>\n",
              "      <td>...</td>\n",
              "      <td>-0.010</td>\n",
              "      <td>-0.006</td>\n",
              "      <td>0.010</td>\n",
              "      <td>-0.020</td>\n",
              "      <td>-0.277</td>\n",
              "      <td>0.277</td>\n",
              "      <td>0.993</td>\n",
              "      <td>0.065</td>\n",
              "      <td>-0.008</td>\n",
              "      <td>0.011</td>\n",
              "    </tr>\n",
              "    <tr>\n",
              "      <th>page_About</th>\n",
              "      <td>-0.001</td>\n",
              "      <td>-0.002</td>\n",
              "      <td>0.002</td>\n",
              "      <td>0.002</td>\n",
              "      <td>0.000</td>\n",
              "      <td>-0.000</td>\n",
              "      <td>-0.008</td>\n",
              "      <td>-0.000</td>\n",
              "      <td>-0.000</td>\n",
              "      <td>0.001</td>\n",
              "      <td>...</td>\n",
              "      <td>-0.001</td>\n",
              "      <td>-0.004</td>\n",
              "      <td>-0.010</td>\n",
              "      <td>-0.002</td>\n",
              "      <td>-0.002</td>\n",
              "      <td>0.002</td>\n",
              "      <td>-0.000</td>\n",
              "      <td>0.017</td>\n",
              "      <td>0.091</td>\n",
              "      <td>0.007</td>\n",
              "    </tr>\n",
              "    <tr>\n",
              "      <th>page_Add Friend</th>\n",
              "      <td>0.001</td>\n",
              "      <td>-0.002</td>\n",
              "      <td>0.001</td>\n",
              "      <td>-0.000</td>\n",
              "      <td>0.002</td>\n",
              "      <td>0.001</td>\n",
              "      <td>-0.005</td>\n",
              "      <td>0.001</td>\n",
              "      <td>0.002</td>\n",
              "      <td>0.000</td>\n",
              "      <td>...</td>\n",
              "      <td>-0.003</td>\n",
              "      <td>-0.012</td>\n",
              "      <td>-0.027</td>\n",
              "      <td>-0.005</td>\n",
              "      <td>0.002</td>\n",
              "      <td>-0.002</td>\n",
              "      <td>0.000</td>\n",
              "      <td>0.055</td>\n",
              "      <td>0.260</td>\n",
              "      <td>0.030</td>\n",
              "    </tr>\n",
              "    <tr>\n",
              "      <th>page_Add to Playlist</th>\n",
              "      <td>0.002</td>\n",
              "      <td>-0.005</td>\n",
              "      <td>0.001</td>\n",
              "      <td>0.001</td>\n",
              "      <td>0.002</td>\n",
              "      <td>0.003</td>\n",
              "      <td>0.000</td>\n",
              "      <td>0.001</td>\n",
              "      <td>0.002</td>\n",
              "      <td>0.001</td>\n",
              "      <td>...</td>\n",
              "      <td>-0.004</td>\n",
              "      <td>-0.015</td>\n",
              "      <td>-0.034</td>\n",
              "      <td>-0.007</td>\n",
              "      <td>-0.008</td>\n",
              "      <td>0.008</td>\n",
              "      <td>0.003</td>\n",
              "      <td>0.051</td>\n",
              "      <td>0.333</td>\n",
              "      <td>0.040</td>\n",
              "    </tr>\n",
              "    <tr>\n",
              "      <th>page_Cancel</th>\n",
              "      <td>0.001</td>\n",
              "      <td>0.028</td>\n",
              "      <td>-0.005</td>\n",
              "      <td>-0.001</td>\n",
              "      <td>-0.002</td>\n",
              "      <td>-0.011</td>\n",
              "      <td>-0.010</td>\n",
              "      <td>0.005</td>\n",
              "      <td>-0.011</td>\n",
              "      <td>-0.003</td>\n",
              "      <td>...</td>\n",
              "      <td>-0.000</td>\n",
              "      <td>-0.001</td>\n",
              "      <td>-0.003</td>\n",
              "      <td>-0.001</td>\n",
              "      <td>0.004</td>\n",
              "      <td>-0.004</td>\n",
              "      <td>-0.014</td>\n",
              "      <td>0.008</td>\n",
              "      <td>0.027</td>\n",
              "      <td>-0.015</td>\n",
              "    </tr>\n",
              "    <tr>\n",
              "      <th>page_Cancellation Confirmation</th>\n",
              "      <td>0.001</td>\n",
              "      <td>0.028</td>\n",
              "      <td>-0.005</td>\n",
              "      <td>-0.001</td>\n",
              "      <td>-0.002</td>\n",
              "      <td>-0.011</td>\n",
              "      <td>-0.010</td>\n",
              "      <td>0.005</td>\n",
              "      <td>-0.011</td>\n",
              "      <td>-0.003</td>\n",
              "      <td>...</td>\n",
              "      <td>-0.000</td>\n",
              "      <td>-0.001</td>\n",
              "      <td>-0.003</td>\n",
              "      <td>-0.001</td>\n",
              "      <td>0.004</td>\n",
              "      <td>-0.004</td>\n",
              "      <td>-0.014</td>\n",
              "      <td>0.008</td>\n",
              "      <td>0.027</td>\n",
              "      <td>-0.015</td>\n",
              "    </tr>\n",
              "    <tr>\n",
              "      <th>page_Downgrade</th>\n",
              "      <td>-0.011</td>\n",
              "      <td>0.005</td>\n",
              "      <td>0.013</td>\n",
              "      <td>0.011</td>\n",
              "      <td>-0.001</td>\n",
              "      <td>0.006</td>\n",
              "      <td>0.011</td>\n",
              "      <td>-0.008</td>\n",
              "      <td>-0.002</td>\n",
              "      <td>0.002</td>\n",
              "      <td>...</td>\n",
              "      <td>-0.002</td>\n",
              "      <td>-0.008</td>\n",
              "      <td>-0.019</td>\n",
              "      <td>-0.004</td>\n",
              "      <td>-0.044</td>\n",
              "      <td>0.044</td>\n",
              "      <td>0.009</td>\n",
              "      <td>-0.027</td>\n",
              "      <td>0.202</td>\n",
              "      <td>0.041</td>\n",
              "    </tr>\n",
              "    <tr>\n",
              "      <th>page_Error</th>\n",
              "      <td>-0.001</td>\n",
              "      <td>-0.000</td>\n",
              "      <td>0.001</td>\n",
              "      <td>-0.001</td>\n",
              "      <td>0.001</td>\n",
              "      <td>0.001</td>\n",
              "      <td>0.000</td>\n",
              "      <td>-0.001</td>\n",
              "      <td>0.001</td>\n",
              "      <td>-0.001</td>\n",
              "      <td>...</td>\n",
              "      <td>-0.001</td>\n",
              "      <td>-0.003</td>\n",
              "      <td>-0.007</td>\n",
              "      <td>-0.001</td>\n",
              "      <td>0.000</td>\n",
              "      <td>-0.000</td>\n",
              "      <td>0.002</td>\n",
              "      <td>0.014</td>\n",
              "      <td>0.063</td>\n",
              "      <td>0.012</td>\n",
              "    </tr>\n",
              "    <tr>\n",
              "      <th>page_Help</th>\n",
              "      <td>0.000</td>\n",
              "      <td>-0.000</td>\n",
              "      <td>-0.000</td>\n",
              "      <td>-0.000</td>\n",
              "      <td>0.001</td>\n",
              "      <td>-0.001</td>\n",
              "      <td>-0.002</td>\n",
              "      <td>-0.000</td>\n",
              "      <td>-0.001</td>\n",
              "      <td>-0.003</td>\n",
              "      <td>...</td>\n",
              "      <td>-0.002</td>\n",
              "      <td>-0.007</td>\n",
              "      <td>-0.015</td>\n",
              "      <td>-0.003</td>\n",
              "      <td>0.001</td>\n",
              "      <td>-0.001</td>\n",
              "      <td>-0.002</td>\n",
              "      <td>0.029</td>\n",
              "      <td>0.146</td>\n",
              "      <td>0.015</td>\n",
              "    </tr>\n",
              "    <tr>\n",
              "      <th>page_Home</th>\n",
              "      <td>-0.001</td>\n",
              "      <td>0.001</td>\n",
              "      <td>-0.006</td>\n",
              "      <td>-0.006</td>\n",
              "      <td>-0.002</td>\n",
              "      <td>-0.013</td>\n",
              "      <td>-0.029</td>\n",
              "      <td>-0.000</td>\n",
              "      <td>-0.007</td>\n",
              "      <td>0.001</td>\n",
              "      <td>...</td>\n",
              "      <td>-0.005</td>\n",
              "      <td>-0.019</td>\n",
              "      <td>-0.042</td>\n",
              "      <td>-0.008</td>\n",
              "      <td>0.029</td>\n",
              "      <td>-0.029</td>\n",
              "      <td>-0.018</td>\n",
              "      <td>0.122</td>\n",
              "      <td>0.399</td>\n",
              "      <td>0.054</td>\n",
              "    </tr>\n",
              "    <tr>\n",
              "      <th>page_Logout</th>\n",
              "      <td>-0.003</td>\n",
              "      <td>0.000</td>\n",
              "      <td>-0.005</td>\n",
              "      <td>-0.006</td>\n",
              "      <td>-0.003</td>\n",
              "      <td>-0.009</td>\n",
              "      <td>-0.017</td>\n",
              "      <td>-0.001</td>\n",
              "      <td>-0.005</td>\n",
              "      <td>0.002</td>\n",
              "      <td>...</td>\n",
              "      <td>-0.002</td>\n",
              "      <td>-0.010</td>\n",
              "      <td>-0.023</td>\n",
              "      <td>-0.005</td>\n",
              "      <td>0.025</td>\n",
              "      <td>-0.025</td>\n",
              "      <td>-0.013</td>\n",
              "      <td>0.077</td>\n",
              "      <td>0.208</td>\n",
              "      <td>0.038</td>\n",
              "    </tr>\n",
              "    <tr>\n",
              "      <th>page_NextSong</th>\n",
              "      <td>-0.025</td>\n",
              "      <td>-0.008</td>\n",
              "      <td>0.035</td>\n",
              "      <td>0.021</td>\n",
              "      <td>0.001</td>\n",
              "      <td>0.028</td>\n",
              "      <td>0.054</td>\n",
              "      <td>-0.024</td>\n",
              "      <td>0.010</td>\n",
              "      <td>0.008</td>\n",
              "      <td>...</td>\n",
              "      <td>-0.050</td>\n",
              "      <td>-0.207</td>\n",
              "      <td>-0.464</td>\n",
              "      <td>-0.091</td>\n",
              "      <td>-0.086</td>\n",
              "      <td>0.086</td>\n",
              "      <td>0.040</td>\n",
              "      <td>-0.312</td>\n",
              "      <td>-0.946</td>\n",
              "      <td>-0.061</td>\n",
              "    </tr>\n",
              "    <tr>\n",
              "      <th>page_Roll Advert</th>\n",
              "      <td>0.001</td>\n",
              "      <td>0.026</td>\n",
              "      <td>-0.056</td>\n",
              "      <td>-0.051</td>\n",
              "      <td>-0.005</td>\n",
              "      <td>-0.066</td>\n",
              "      <td>-0.081</td>\n",
              "      <td>0.006</td>\n",
              "      <td>-0.038</td>\n",
              "      <td>-0.009</td>\n",
              "      <td>...</td>\n",
              "      <td>-0.003</td>\n",
              "      <td>-0.012</td>\n",
              "      <td>-0.027</td>\n",
              "      <td>-0.005</td>\n",
              "      <td>0.221</td>\n",
              "      <td>-0.221</td>\n",
              "      <td>-0.091</td>\n",
              "      <td>0.360</td>\n",
              "      <td>0.118</td>\n",
              "      <td>0.074</td>\n",
              "    </tr>\n",
              "    <tr>\n",
              "      <th>page_Save Settings</th>\n",
              "      <td>-0.002</td>\n",
              "      <td>-0.002</td>\n",
              "      <td>0.000</td>\n",
              "      <td>-0.001</td>\n",
              "      <td>0.001</td>\n",
              "      <td>-0.004</td>\n",
              "      <td>-0.004</td>\n",
              "      <td>-0.002</td>\n",
              "      <td>-0.003</td>\n",
              "      <td>-0.001</td>\n",
              "      <td>...</td>\n",
              "      <td>-0.001</td>\n",
              "      <td>-0.003</td>\n",
              "      <td>-0.007</td>\n",
              "      <td>-0.001</td>\n",
              "      <td>0.004</td>\n",
              "      <td>-0.004</td>\n",
              "      <td>-0.005</td>\n",
              "      <td>0.018</td>\n",
              "      <td>0.066</td>\n",
              "      <td>0.011</td>\n",
              "    </tr>\n",
              "    <tr>\n",
              "      <th>page_Settings</th>\n",
              "      <td>-0.000</td>\n",
              "      <td>0.002</td>\n",
              "      <td>-0.002</td>\n",
              "      <td>-0.002</td>\n",
              "      <td>0.001</td>\n",
              "      <td>-0.002</td>\n",
              "      <td>-0.003</td>\n",
              "      <td>-0.001</td>\n",
              "      <td>-0.002</td>\n",
              "      <td>0.001</td>\n",
              "      <td>...</td>\n",
              "      <td>-0.002</td>\n",
              "      <td>-0.007</td>\n",
              "      <td>-0.016</td>\n",
              "      <td>-0.003</td>\n",
              "      <td>0.007</td>\n",
              "      <td>-0.007</td>\n",
              "      <td>-0.004</td>\n",
              "      <td>0.037</td>\n",
              "      <td>0.152</td>\n",
              "      <td>0.024</td>\n",
              "    </tr>\n",
              "    <tr>\n",
              "      <th>page_Submit Downgrade</th>\n",
              "      <td>0.002</td>\n",
              "      <td>0.002</td>\n",
              "      <td>-0.004</td>\n",
              "      <td>-0.000</td>\n",
              "      <td>-0.003</td>\n",
              "      <td>-0.005</td>\n",
              "      <td>-0.005</td>\n",
              "      <td>0.003</td>\n",
              "      <td>-0.003</td>\n",
              "      <td>-0.003</td>\n",
              "      <td>...</td>\n",
              "      <td>-0.000</td>\n",
              "      <td>-0.001</td>\n",
              "      <td>-0.003</td>\n",
              "      <td>-0.001</td>\n",
              "      <td>-0.008</td>\n",
              "      <td>0.008</td>\n",
              "      <td>-0.005</td>\n",
              "      <td>-0.001</td>\n",
              "      <td>0.033</td>\n",
              "      <td>-0.011</td>\n",
              "    </tr>\n",
              "    <tr>\n",
              "      <th>page_Submit Upgrade</th>\n",
              "      <td>0.003</td>\n",
              "      <td>0.003</td>\n",
              "      <td>-0.010</td>\n",
              "      <td>-0.009</td>\n",
              "      <td>-0.001</td>\n",
              "      <td>-0.010</td>\n",
              "      <td>-0.009</td>\n",
              "      <td>0.003</td>\n",
              "      <td>-0.008</td>\n",
              "      <td>-0.002</td>\n",
              "      <td>...</td>\n",
              "      <td>1.000</td>\n",
              "      <td>-0.002</td>\n",
              "      <td>-0.005</td>\n",
              "      <td>-0.001</td>\n",
              "      <td>0.045</td>\n",
              "      <td>-0.045</td>\n",
              "      <td>-0.015</td>\n",
              "      <td>0.065</td>\n",
              "      <td>0.024</td>\n",
              "      <td>0.010</td>\n",
              "    </tr>\n",
              "    <tr>\n",
              "      <th>page_Thumbs Down</th>\n",
              "      <td>0.015</td>\n",
              "      <td>0.010</td>\n",
              "      <td>-0.012</td>\n",
              "      <td>0.001</td>\n",
              "      <td>0.004</td>\n",
              "      <td>-0.007</td>\n",
              "      <td>-0.004</td>\n",
              "      <td>0.016</td>\n",
              "      <td>-0.003</td>\n",
              "      <td>-0.006</td>\n",
              "      <td>...</td>\n",
              "      <td>-0.002</td>\n",
              "      <td>1.000</td>\n",
              "      <td>-0.021</td>\n",
              "      <td>-0.004</td>\n",
              "      <td>0.006</td>\n",
              "      <td>-0.006</td>\n",
              "      <td>-0.008</td>\n",
              "      <td>0.049</td>\n",
              "      <td>0.198</td>\n",
              "      <td>-0.014</td>\n",
              "    </tr>\n",
              "    <tr>\n",
              "      <th>page_Thumbs Up</th>\n",
              "      <td>0.044</td>\n",
              "      <td>-0.009</td>\n",
              "      <td>-0.020</td>\n",
              "      <td>0.000</td>\n",
              "      <td>0.001</td>\n",
              "      <td>0.009</td>\n",
              "      <td>-0.006</td>\n",
              "      <td>0.034</td>\n",
              "      <td>0.018</td>\n",
              "      <td>-0.009</td>\n",
              "      <td>...</td>\n",
              "      <td>-0.005</td>\n",
              "      <td>-0.021</td>\n",
              "      <td>1.000</td>\n",
              "      <td>-0.009</td>\n",
              "      <td>-0.014</td>\n",
              "      <td>0.014</td>\n",
              "      <td>0.011</td>\n",
              "      <td>0.074</td>\n",
              "      <td>0.488</td>\n",
              "      <td>-0.075</td>\n",
              "    </tr>\n",
              "    <tr>\n",
              "      <th>page_Upgrade</th>\n",
              "      <td>0.003</td>\n",
              "      <td>0.005</td>\n",
              "      <td>-0.020</td>\n",
              "      <td>-0.020</td>\n",
              "      <td>-0.003</td>\n",
              "      <td>-0.021</td>\n",
              "      <td>-0.026</td>\n",
              "      <td>0.004</td>\n",
              "      <td>-0.012</td>\n",
              "      <td>-0.002</td>\n",
              "      <td>...</td>\n",
              "      <td>-0.001</td>\n",
              "      <td>-0.004</td>\n",
              "      <td>-0.009</td>\n",
              "      <td>1.000</td>\n",
              "      <td>0.083</td>\n",
              "      <td>-0.083</td>\n",
              "      <td>-0.030</td>\n",
              "      <td>0.128</td>\n",
              "      <td>0.040</td>\n",
              "      <td>0.020</td>\n",
              "    </tr>\n",
              "    <tr>\n",
              "      <th>level_free</th>\n",
              "      <td>-0.001</td>\n",
              "      <td>0.069</td>\n",
              "      <td>-0.227</td>\n",
              "      <td>-0.233</td>\n",
              "      <td>-0.025</td>\n",
              "      <td>-0.284</td>\n",
              "      <td>-0.364</td>\n",
              "      <td>0.017</td>\n",
              "      <td>-0.151</td>\n",
              "      <td>-0.027</td>\n",
              "      <td>...</td>\n",
              "      <td>0.045</td>\n",
              "      <td>0.006</td>\n",
              "      <td>-0.014</td>\n",
              "      <td>0.083</td>\n",
              "      <td>1.000</td>\n",
              "      <td>-1.000</td>\n",
              "      <td>-0.348</td>\n",
              "      <td>0.855</td>\n",
              "      <td>-0.205</td>\n",
              "      <td>0.067</td>\n",
              "    </tr>\n",
              "    <tr>\n",
              "      <th>level_paid</th>\n",
              "      <td>0.001</td>\n",
              "      <td>-0.069</td>\n",
              "      <td>0.227</td>\n",
              "      <td>0.233</td>\n",
              "      <td>0.025</td>\n",
              "      <td>0.284</td>\n",
              "      <td>0.364</td>\n",
              "      <td>-0.017</td>\n",
              "      <td>0.151</td>\n",
              "      <td>0.027</td>\n",
              "      <td>...</td>\n",
              "      <td>-0.045</td>\n",
              "      <td>-0.006</td>\n",
              "      <td>0.014</td>\n",
              "      <td>-0.083</td>\n",
              "      <td>-1.000</td>\n",
              "      <td>1.000</td>\n",
              "      <td>0.348</td>\n",
              "      <td>-0.855</td>\n",
              "      <td>0.205</td>\n",
              "      <td>-0.067</td>\n",
              "    </tr>\n",
              "    <tr>\n",
              "      <th>PC 1</th>\n",
              "      <td>0.018</td>\n",
              "      <td>-0.060</td>\n",
              "      <td>0.164</td>\n",
              "      <td>0.067</td>\n",
              "      <td>0.103</td>\n",
              "      <td>0.992</td>\n",
              "      <td>0.212</td>\n",
              "      <td>-0.078</td>\n",
              "      <td>0.903</td>\n",
              "      <td>0.082</td>\n",
              "      <td>...</td>\n",
              "      <td>-0.015</td>\n",
              "      <td>-0.008</td>\n",
              "      <td>0.011</td>\n",
              "      <td>-0.030</td>\n",
              "      <td>-0.348</td>\n",
              "      <td>0.348</td>\n",
              "      <td>1.000</td>\n",
              "      <td>0.000</td>\n",
              "      <td>0.000</td>\n",
              "      <td>-0.000</td>\n",
              "    </tr>\n",
              "    <tr>\n",
              "      <th>PC 2</th>\n",
              "      <td>0.077</td>\n",
              "      <td>0.089</td>\n",
              "      <td>-0.206</td>\n",
              "      <td>-0.188</td>\n",
              "      <td>0.015</td>\n",
              "      <td>0.054</td>\n",
              "      <td>-0.477</td>\n",
              "      <td>0.053</td>\n",
              "      <td>0.223</td>\n",
              "      <td>-0.038</td>\n",
              "      <td>...</td>\n",
              "      <td>0.065</td>\n",
              "      <td>0.049</td>\n",
              "      <td>0.074</td>\n",
              "      <td>0.128</td>\n",
              "      <td>0.855</td>\n",
              "      <td>-0.855</td>\n",
              "      <td>0.000</td>\n",
              "      <td>1.000</td>\n",
              "      <td>-0.000</td>\n",
              "      <td>0.000</td>\n",
              "    </tr>\n",
              "    <tr>\n",
              "      <th>PC 3</th>\n",
              "      <td>0.053</td>\n",
              "      <td>-0.028</td>\n",
              "      <td>0.001</td>\n",
              "      <td>0.037</td>\n",
              "      <td>-0.000</td>\n",
              "      <td>-0.007</td>\n",
              "      <td>0.080</td>\n",
              "      <td>0.060</td>\n",
              "      <td>-0.035</td>\n",
              "      <td>-0.023</td>\n",
              "      <td>...</td>\n",
              "      <td>0.024</td>\n",
              "      <td>0.198</td>\n",
              "      <td>0.488</td>\n",
              "      <td>0.040</td>\n",
              "      <td>-0.205</td>\n",
              "      <td>0.205</td>\n",
              "      <td>0.000</td>\n",
              "      <td>-0.000</td>\n",
              "      <td>1.000</td>\n",
              "      <td>-0.000</td>\n",
              "    </tr>\n",
              "    <tr>\n",
              "      <th>PC 4</th>\n",
              "      <td>-0.777</td>\n",
              "      <td>0.010</td>\n",
              "      <td>0.543</td>\n",
              "      <td>0.064</td>\n",
              "      <td>-0.013</td>\n",
              "      <td>0.024</td>\n",
              "      <td>0.323</td>\n",
              "      <td>-0.848</td>\n",
              "      <td>-0.159</td>\n",
              "      <td>0.634</td>\n",
              "      <td>...</td>\n",
              "      <td>0.010</td>\n",
              "      <td>-0.014</td>\n",
              "      <td>-0.075</td>\n",
              "      <td>0.020</td>\n",
              "      <td>0.067</td>\n",
              "      <td>-0.067</td>\n",
              "      <td>-0.000</td>\n",
              "      <td>0.000</td>\n",
              "      <td>-0.000</td>\n",
              "      <td>1.000</td>\n",
              "    </tr>\n",
              "  </tbody>\n",
              "</table>\n",
              "<p>38 rows × 38 columns</p>\n",
              "</div>\n",
              "      <button class=\"colab-df-convert\" onclick=\"convertToInteractive('df-7b44740a-6e2b-4d1d-9849-2e2c11a8a899')\"\n",
              "              title=\"Convert this dataframe to an interactive table.\"\n",
              "              style=\"display:none;\">\n",
              "        \n",
              "  <svg xmlns=\"http://www.w3.org/2000/svg\" height=\"24px\"viewBox=\"0 0 24 24\"\n",
              "       width=\"24px\">\n",
              "    <path d=\"M0 0h24v24H0V0z\" fill=\"none\"/>\n",
              "    <path d=\"M18.56 5.44l.94 2.06.94-2.06 2.06-.94-2.06-.94-.94-2.06-.94 2.06-2.06.94zm-11 1L8.5 8.5l.94-2.06 2.06-.94-2.06-.94L8.5 2.5l-.94 2.06-2.06.94zm10 10l.94 2.06.94-2.06 2.06-.94-2.06-.94-.94-2.06-.94 2.06-2.06.94z\"/><path d=\"M17.41 7.96l-1.37-1.37c-.4-.4-.92-.59-1.43-.59-.52 0-1.04.2-1.43.59L10.3 9.45l-7.72 7.72c-.78.78-.78 2.05 0 2.83L4 21.41c.39.39.9.59 1.41.59.51 0 1.02-.2 1.41-.59l7.78-7.78 2.81-2.81c.8-.78.8-2.07 0-2.86zM5.41 20L4 18.59l7.72-7.72 1.47 1.35L5.41 20z\"/>\n",
              "  </svg>\n",
              "      </button>\n",
              "      \n",
              "  <style>\n",
              "    .colab-df-container {\n",
              "      display:flex;\n",
              "      flex-wrap:wrap;\n",
              "      gap: 12px;\n",
              "    }\n",
              "\n",
              "    .colab-df-convert {\n",
              "      background-color: #E8F0FE;\n",
              "      border: none;\n",
              "      border-radius: 50%;\n",
              "      cursor: pointer;\n",
              "      display: none;\n",
              "      fill: #1967D2;\n",
              "      height: 32px;\n",
              "      padding: 0 0 0 0;\n",
              "      width: 32px;\n",
              "    }\n",
              "\n",
              "    .colab-df-convert:hover {\n",
              "      background-color: #E2EBFA;\n",
              "      box-shadow: 0px 1px 2px rgba(60, 64, 67, 0.3), 0px 1px 3px 1px rgba(60, 64, 67, 0.15);\n",
              "      fill: #174EA6;\n",
              "    }\n",
              "\n",
              "    [theme=dark] .colab-df-convert {\n",
              "      background-color: #3B4455;\n",
              "      fill: #D2E3FC;\n",
              "    }\n",
              "\n",
              "    [theme=dark] .colab-df-convert:hover {\n",
              "      background-color: #434B5C;\n",
              "      box-shadow: 0px 1px 3px 1px rgba(0, 0, 0, 0.15);\n",
              "      filter: drop-shadow(0px 1px 2px rgba(0, 0, 0, 0.3));\n",
              "      fill: #FFFFFF;\n",
              "    }\n",
              "  </style>\n",
              "\n",
              "      <script>\n",
              "        const buttonEl =\n",
              "          document.querySelector('#df-7b44740a-6e2b-4d1d-9849-2e2c11a8a899 button.colab-df-convert');\n",
              "        buttonEl.style.display =\n",
              "          google.colab.kernel.accessAllowed ? 'block' : 'none';\n",
              "\n",
              "        async function convertToInteractive(key) {\n",
              "          const element = document.querySelector('#df-7b44740a-6e2b-4d1d-9849-2e2c11a8a899');\n",
              "          const dataTable =\n",
              "            await google.colab.kernel.invokeFunction('convertToInteractive',\n",
              "                                                     [key], {});\n",
              "          if (!dataTable) return;\n",
              "\n",
              "          const docLinkHtml = 'Like what you see? Visit the ' +\n",
              "            '<a target=\"_blank\" href=https://colab.research.google.com/notebooks/data_table.ipynb>data table notebook</a>'\n",
              "            + ' to learn more about interactive tables.';\n",
              "          element.innerHTML = '';\n",
              "          dataTable['output_type'] = 'display_data';\n",
              "          await google.colab.output.renderOutput(dataTable, element);\n",
              "          const docLink = document.createElement('div');\n",
              "          docLink.innerHTML = docLinkHtml;\n",
              "          element.appendChild(docLink);\n",
              "        }\n",
              "      </script>\n",
              "    </div>\n",
              "  </div>\n",
              "  "
            ]
          },
          "metadata": {},
          "execution_count": 6
        }
      ]
    },
    {
      "cell_type": "markdown",
      "source": [
        "## Limpieza de valores altamente correlacionados"
      ],
      "metadata": {
        "id": "8653LoWrHleJ"
      }
    },
    {
      "cell_type": "code",
      "source": [
        "plt.figure(figsize=(15,10))\n",
        "sns.heatmap(df_churn_clean.corr(), \n",
        "        xticklabels=df_churn_clean.corr().columns,\n",
        "        yticklabels=df_churn_clean.corr().columns)"
      ],
      "metadata": {
        "colab": {
          "base_uri": "https://localhost:8080/",
          "height": 762
        },
        "id": "88CBObRQS22p",
        "outputId": "74498f8b-060c-4d89-d21a-64537889d4b2"
      },
      "execution_count": null,
      "outputs": [
        {
          "output_type": "execute_result",
          "data": {
            "text/plain": [
              "<matplotlib.axes._subplots.AxesSubplot at 0x7f99f5d4ad10>"
            ]
          },
          "metadata": {},
          "execution_count": 7
        },
        {
          "output_type": "display_data",
          "data": {
            "text/plain": [
              "<Figure size 1080x720 with 2 Axes>"
            ],
            "image/png": "[encoded data removed]"
          },
          "metadata": {
            "needs_background": "light"
          }
        }
      ]
    },
    {
      "cell_type": "markdown",
      "source": [
        "Variables correlacionadas\n",
        "\n",
        "1. sessionId \n",
        "2. userId    \n",
        "3. songsCountByUser\n",
        "4. meanSessionLengthInSeconds \n",
        "6. countSessionsByUser\n",
        "7. level_free \n",
        "8. AddsSeen \n",
        "9. BounceRate  \n",
        "10. page_NextSong\n",
        "11. level_paid \n",
        "12. ts \n",
        "13. SongCountBySession\n",
        "14. PC1\n",
        "15. PC2\n",
        "16. PC3 \n",
        "17. PC4\n",
        "\n",
        "\n",
        "\n",
        "> En este pre-procesado se optó por eliminar las columnas que presentan alta correlación (una de cada par) y las del análisis de componentes principales.  **PCA** es excelente para explorar y comprender un conjunto de datos. Para las canalizaciones en las que a PCA le sigue un algoritmo de aprendizaje supervisado, no son adecuadas para las iteraciones del modelo. \n",
        "\n"
      ],
      "metadata": {
        "id": "JTSrvQXvTE-4"
      }
    },
    {
      "cell_type": "code",
      "source": [
        "interesting_cols = ['churn_user', 'Error', 'NumInteracc','page_About', 'page_Add Friend', 'page_Add to Playlist', 'page_Cancel','page_Cancellation Confirmation', \n",
        "        'page_Downgrade', 'page_Error','page_Help', 'page_Home','page_Logout', 'page_Roll Advert', 'page_Save Settings', 'page_Settings','page_Submit Downgrade', \n",
        "        'page_Submit Upgrade', 'page_Thumbs Down', 'page_Thumbs Up','page_Upgrade']"
      ],
      "metadata": {
        "id": "cAbC8Y-IjOVU"
      },
      "execution_count": null,
      "outputs": []
    },
    {
      "cell_type": "code",
      "source": [
        "df_churn = df_churn_clean[interesting_cols]"
      ],
      "metadata": {
        "id": "HxBgepRwTQHB"
      },
      "execution_count": null,
      "outputs": []
    },
    {
      "cell_type": "code",
      "source": [
        "# Volvemos a verificar las correlaciones en el nuevo Df\n",
        "plt.figure(figsize=(15,10))\n",
        "sns.heatmap(df_churn.corr(), \n",
        "        xticklabels=df_churn.corr().columns,\n",
        "        yticklabels=df_churn.corr().columns)"
      ],
      "metadata": {
        "colab": {
          "base_uri": "https://localhost:8080/",
          "height": 762
        },
        "id": "dUDOA0N5TcOg",
        "outputId": "bf41fd36-6a78-4855-ac68-b756d2b41eec"
      },
      "execution_count": null,
      "outputs": [
        {
          "output_type": "execute_result",
          "data": {
            "text/plain": [
              "<matplotlib.axes._subplots.AxesSubplot at 0x7f99f573fa10>"
            ]
          },
          "metadata": {},
          "execution_count": 10
        },
        {
          "output_type": "display_data",
          "data": {
            "text/plain": [
              "<Figure size 1080x720 with 2 Axes>"
            ],
            "image/png": "[encoded data removed]"
          },
          "metadata": {
            "needs_background": "light"
          }
        }
      ]
    },
    {
      "cell_type": "markdown",
      "source": [
        "\n",
        "\n",
        "> Ahora obtenemos una matriz sin correlaciones significativas\n",
        "\n"
      ],
      "metadata": {
        "id": "OXJ2f2Okj7wi"
      }
    },
    {
      "cell_type": "code",
      "source": [
        "df_churn.describe()"
      ],
      "metadata": {
        "colab": {
          "base_uri": "https://localhost:8080/",
          "height": 428
        },
        "id": "CGWPHf3pT4DJ",
        "outputId": "56aed9e6-ca03-46d6-abaa-a2629cb4a40e"
      },
      "execution_count": null,
      "outputs": [
        {
          "output_type": "execute_result",
          "data": {
            "text/plain": [
              "       churn_user      Error  NumInteracc  page_About  page_Add Friend  \\\n",
              "count  527966.000 527966.000   527966.000  527966.000       527966.000   \n",
              "mean        0.196     -0.000        0.000      -0.000            0.000   \n",
              "std         0.397      1.000        1.000       1.000            1.000   \n",
              "min         0.000     -1.041       -1.328      -0.044           -0.125   \n",
              "25%         0.000     -0.662       -0.754      -0.044           -0.125   \n",
              "50%         0.000     -0.283       -0.274      -0.044           -0.125   \n",
              "75%         0.000      0.474        0.573      -0.044           -0.125   \n",
              "max         1.000      3.883        3.319      22.685            8.018   \n",
              "\n",
              "       page_Add to Playlist  page_Cancel  page_Cancellation Confirmation  \\\n",
              "count            527966.000   527966.000                      527966.000   \n",
              "mean                  0.000        0.000                           0.000   \n",
              "std                   1.000        1.000                           1.000   \n",
              "min                  -0.155       -0.014                          -0.014   \n",
              "25%                  -0.155       -0.014                          -0.014   \n",
              "50%                  -0.155       -0.014                          -0.014   \n",
              "75%                  -0.155       -0.014                          -0.014   \n",
              "max                   6.462       73.020                          73.020   \n",
              "\n",
              "       page_Downgrade  page_Error  ...  page_Home  page_Logout  \\\n",
              "count      527966.000  527966.000  ... 527966.000   527966.000   \n",
              "mean            0.000       0.000  ...      0.000        0.000   \n",
              "std             1.000       1.000  ...      1.000        1.000   \n",
              "min            -0.085      -0.031  ...     -0.194       -0.107   \n",
              "25%            -0.085      -0.031  ...     -0.194       -0.107   \n",
              "50%            -0.085      -0.031  ...     -0.194       -0.107   \n",
              "75%            -0.085      -0.031  ...     -0.194       -0.107   \n",
              "max            11.742      32.383  ...      5.164        9.335   \n",
              "\n",
              "       page_Roll Advert  page_Save Settings  page_Settings  \\\n",
              "count        527966.000          527966.000     527966.000   \n",
              "mean              0.000               0.000          0.000   \n",
              "std               1.000               1.000          1.000   \n",
              "min              -0.122              -0.033         -0.075   \n",
              "25%              -0.122              -0.033         -0.075   \n",
              "50%              -0.122              -0.033         -0.075   \n",
              "75%              -0.122              -0.033         -0.075   \n",
              "max               8.187              30.025         13.320   \n",
              "\n",
              "       page_Submit Downgrade  page_Submit Upgrade  page_Thumbs Down  \\\n",
              "count             527966.000           527966.000        527966.000   \n",
              "mean                   0.000                0.000             0.000   \n",
              "std                    1.000                1.000             1.000   \n",
              "min                   -0.015               -0.023            -0.097   \n",
              "25%                   -0.015               -0.023            -0.097   \n",
              "50%                   -0.015               -0.023            -0.097   \n",
              "75%                   -0.015               -0.023            -0.097   \n",
              "max                   67.168               42.879            10.320   \n",
              "\n",
              "       page_Thumbs Up  page_Upgrade  \n",
              "count      527966.000    527966.000  \n",
              "mean            0.000         0.000  \n",
              "std             1.000         1.000  \n",
              "min            -0.217        -0.043  \n",
              "25%            -0.217        -0.043  \n",
              "50%            -0.217        -0.043  \n",
              "75%            -0.217        -0.043  \n",
              "max             4.600        23.357  \n",
              "\n",
              "[8 rows x 21 columns]"
            ],
            "text/html": [
              "\n",
              "  <div id=\"df-b11fec89-ac2b-474a-ade8-ac2470e44cea\">\n",
              "    <div class=\"colab-df-container\">\n",
              "      <div>\n",
              "<style scoped>\n",
              "    .dataframe tbody tr th:only-of-type {\n",
              "        vertical-align: middle;\n",
              "    }\n",
              "\n",
              "    .dataframe tbody tr th {\n",
              "        vertical-align: top;\n",
              "    }\n",
              "\n",
              "    .dataframe thead th {\n",
              "        text-align: right;\n",
              "    }\n",
              "</style>\n",
              "<table border=\"1\" class=\"dataframe\">\n",
              "  <thead>\n",
              "    <tr style=\"text-align: right;\">\n",
              "      <th></th>\n",
              "      <th>churn_user</th>\n",
              "      <th>Error</th>\n",
              "      <th>NumInteracc</th>\n",
              "      <th>page_About</th>\n",
              "      <th>page_Add Friend</th>\n",
              "      <th>page_Add to Playlist</th>\n",
              "      <th>page_Cancel</th>\n",
              "      <th>page_Cancellation Confirmation</th>\n",
              "      <th>page_Downgrade</th>\n",
              "      <th>page_Error</th>\n",
              "      <th>...</th>\n",
              "      <th>page_Home</th>\n",
              "      <th>page_Logout</th>\n",
              "      <th>page_Roll Advert</th>\n",
              "      <th>page_Save Settings</th>\n",
              "      <th>page_Settings</th>\n",
              "      <th>page_Submit Downgrade</th>\n",
              "      <th>page_Submit Upgrade</th>\n",
              "      <th>page_Thumbs Down</th>\n",
              "      <th>page_Thumbs Up</th>\n",
              "      <th>page_Upgrade</th>\n",
              "    </tr>\n",
              "  </thead>\n",
              "  <tbody>\n",
              "    <tr>\n",
              "      <th>count</th>\n",
              "      <td>527966.000</td>\n",
              "      <td>527966.000</td>\n",
              "      <td>527966.000</td>\n",
              "      <td>527966.000</td>\n",
              "      <td>527966.000</td>\n",
              "      <td>527966.000</td>\n",
              "      <td>527966.000</td>\n",
              "      <td>527966.000</td>\n",
              "      <td>527966.000</td>\n",
              "      <td>527966.000</td>\n",
              "      <td>...</td>\n",
              "      <td>527966.000</td>\n",
              "      <td>527966.000</td>\n",
              "      <td>527966.000</td>\n",
              "      <td>527966.000</td>\n",
              "      <td>527966.000</td>\n",
              "      <td>527966.000</td>\n",
              "      <td>527966.000</td>\n",
              "      <td>527966.000</td>\n",
              "      <td>527966.000</td>\n",
              "      <td>527966.000</td>\n",
              "    </tr>\n",
              "    <tr>\n",
              "      <th>mean</th>\n",
              "      <td>0.196</td>\n",
              "      <td>-0.000</td>\n",
              "      <td>0.000</td>\n",
              "      <td>-0.000</td>\n",
              "      <td>0.000</td>\n",
              "      <td>0.000</td>\n",
              "      <td>0.000</td>\n",
              "      <td>0.000</td>\n",
              "      <td>0.000</td>\n",
              "      <td>0.000</td>\n",
              "      <td>...</td>\n",
              "      <td>0.000</td>\n",
              "      <td>0.000</td>\n",
              "      <td>0.000</td>\n",
              "      <td>0.000</td>\n",
              "      <td>0.000</td>\n",
              "      <td>0.000</td>\n",
              "      <td>0.000</td>\n",
              "      <td>0.000</td>\n",
              "      <td>0.000</td>\n",
              "      <td>0.000</td>\n",
              "    </tr>\n",
              "    <tr>\n",
              "      <th>std</th>\n",
              "      <td>0.397</td>\n",
              "      <td>1.000</td>\n",
              "      <td>1.000</td>\n",
              "      <td>1.000</td>\n",
              "      <td>1.000</td>\n",
              "      <td>1.000</td>\n",
              "      <td>1.000</td>\n",
              "      <td>1.000</td>\n",
              "      <td>1.000</td>\n",
              "      <td>1.000</td>\n",
              "      <td>...</td>\n",
              "      <td>1.000</td>\n",
              "      <td>1.000</td>\n",
              "      <td>1.000</td>\n",
              "      <td>1.000</td>\n",
              "      <td>1.000</td>\n",
              "      <td>1.000</td>\n",
              "      <td>1.000</td>\n",
              "      <td>1.000</td>\n",
              "      <td>1.000</td>\n",
              "      <td>1.000</td>\n",
              "    </tr>\n",
              "    <tr>\n",
              "      <th>min</th>\n",
              "      <td>0.000</td>\n",
              "      <td>-1.041</td>\n",
              "      <td>-1.328</td>\n",
              "      <td>-0.044</td>\n",
              "      <td>-0.125</td>\n",
              "      <td>-0.155</td>\n",
              "      <td>-0.014</td>\n",
              "      <td>-0.014</td>\n",
              "      <td>-0.085</td>\n",
              "      <td>-0.031</td>\n",
              "      <td>...</td>\n",
              "      <td>-0.194</td>\n",
              "      <td>-0.107</td>\n",
              "      <td>-0.122</td>\n",
              "      <td>-0.033</td>\n",
              "      <td>-0.075</td>\n",
              "      <td>-0.015</td>\n",
              "      <td>-0.023</td>\n",
              "      <td>-0.097</td>\n",
              "      <td>-0.217</td>\n",
              "      <td>-0.043</td>\n",
              "    </tr>\n",
              "    <tr>\n",
              "      <th>25%</th>\n",
              "      <td>0.000</td>\n",
              "      <td>-0.662</td>\n",
              "      <td>-0.754</td>\n",
              "      <td>-0.044</td>\n",
              "      <td>-0.125</td>\n",
              "      <td>-0.155</td>\n",
              "      <td>-0.014</td>\n",
              "      <td>-0.014</td>\n",
              "      <td>-0.085</td>\n",
              "      <td>-0.031</td>\n",
              "      <td>...</td>\n",
              "      <td>-0.194</td>\n",
              "      <td>-0.107</td>\n",
              "      <td>-0.122</td>\n",
              "      <td>-0.033</td>\n",
              "      <td>-0.075</td>\n",
              "      <td>-0.015</td>\n",
              "      <td>-0.023</td>\n",
              "      <td>-0.097</td>\n",
              "      <td>-0.217</td>\n",
              "      <td>-0.043</td>\n",
              "    </tr>\n",
              "    <tr>\n",
              "      <th>50%</th>\n",
              "      <td>0.000</td>\n",
              "      <td>-0.283</td>\n",
              "      <td>-0.274</td>\n",
              "      <td>-0.044</td>\n",
              "      <td>-0.125</td>\n",
              "      <td>-0.155</td>\n",
              "      <td>-0.014</td>\n",
              "      <td>-0.014</td>\n",
              "      <td>-0.085</td>\n",
              "      <td>-0.031</td>\n",
              "      <td>...</td>\n",
              "      <td>-0.194</td>\n",
              "      <td>-0.107</td>\n",
              "      <td>-0.122</td>\n",
              "      <td>-0.033</td>\n",
              "      <td>-0.075</td>\n",
              "      <td>-0.015</td>\n",
              "      <td>-0.023</td>\n",
              "      <td>-0.097</td>\n",
              "      <td>-0.217</td>\n",
              "      <td>-0.043</td>\n",
              "    </tr>\n",
              "    <tr>\n",
              "      <th>75%</th>\n",
              "      <td>0.000</td>\n",
              "      <td>0.474</td>\n",
              "      <td>0.573</td>\n",
              "      <td>-0.044</td>\n",
              "      <td>-0.125</td>\n",
              "      <td>-0.155</td>\n",
              "      <td>-0.014</td>\n",
              "      <td>-0.014</td>\n",
              "      <td>-0.085</td>\n",
              "      <td>-0.031</td>\n",
              "      <td>...</td>\n",
              "      <td>-0.194</td>\n",
              "      <td>-0.107</td>\n",
              "      <td>-0.122</td>\n",
              "      <td>-0.033</td>\n",
              "      <td>-0.075</td>\n",
              "      <td>-0.015</td>\n",
              "      <td>-0.023</td>\n",
              "      <td>-0.097</td>\n",
              "      <td>-0.217</td>\n",
              "      <td>-0.043</td>\n",
              "    </tr>\n",
              "    <tr>\n",
              "      <th>max</th>\n",
              "      <td>1.000</td>\n",
              "      <td>3.883</td>\n",
              "      <td>3.319</td>\n",
              "      <td>22.685</td>\n",
              "      <td>8.018</td>\n",
              "      <td>6.462</td>\n",
              "      <td>73.020</td>\n",
              "      <td>73.020</td>\n",
              "      <td>11.742</td>\n",
              "      <td>32.383</td>\n",
              "      <td>...</td>\n",
              "      <td>5.164</td>\n",
              "      <td>9.335</td>\n",
              "      <td>8.187</td>\n",
              "      <td>30.025</td>\n",
              "      <td>13.320</td>\n",
              "      <td>67.168</td>\n",
              "      <td>42.879</td>\n",
              "      <td>10.320</td>\n",
              "      <td>4.600</td>\n",
              "      <td>23.357</td>\n",
              "    </tr>\n",
              "  </tbody>\n",
              "</table>\n",
              "<p>8 rows × 21 columns</p>\n",
              "</div>\n",
              "      <button class=\"colab-df-convert\" onclick=\"convertToInteractive('df-b11fec89-ac2b-474a-ade8-ac2470e44cea')\"\n",
              "              title=\"Convert this dataframe to an interactive table.\"\n",
              "              style=\"display:none;\">\n",
              "        \n",
              "  <svg xmlns=\"http://www.w3.org/2000/svg\" height=\"24px\"viewBox=\"0 0 24 24\"\n",
              "       width=\"24px\">\n",
              "    <path d=\"M0 0h24v24H0V0z\" fill=\"none\"/>\n",
              "    <path d=\"M18.56 5.44l.94 2.06.94-2.06 2.06-.94-2.06-.94-.94-2.06-.94 2.06-2.06.94zm-11 1L8.5 8.5l.94-2.06 2.06-.94-2.06-.94L8.5 2.5l-.94 2.06-2.06.94zm10 10l.94 2.06.94-2.06 2.06-.94-2.06-.94-.94-2.06-.94 2.06-2.06.94z\"/><path d=\"M17.41 7.96l-1.37-1.37c-.4-.4-.92-.59-1.43-.59-.52 0-1.04.2-1.43.59L10.3 9.45l-7.72 7.72c-.78.78-.78 2.05 0 2.83L4 21.41c.39.39.9.59 1.41.59.51 0 1.02-.2 1.41-.59l7.78-7.78 2.81-2.81c.8-.78.8-2.07 0-2.86zM5.41 20L4 18.59l7.72-7.72 1.47 1.35L5.41 20z\"/>\n",
              "  </svg>\n",
              "      </button>\n",
              "      \n",
              "  <style>\n",
              "    .colab-df-container {\n",
              "      display:flex;\n",
              "      flex-wrap:wrap;\n",
              "      gap: 12px;\n",
              "    }\n",
              "\n",
              "    .colab-df-convert {\n",
              "      background-color: #E8F0FE;\n",
              "      border: none;\n",
              "      border-radius: 50%;\n",
              "      cursor: pointer;\n",
              "      display: none;\n",
              "      fill: #1967D2;\n",
              "      height: 32px;\n",
              "      padding: 0 0 0 0;\n",
              "      width: 32px;\n",
              "    }\n",
              "\n",
              "    .colab-df-convert:hover {\n",
              "      background-color: #E2EBFA;\n",
              "      box-shadow: 0px 1px 2px rgba(60, 64, 67, 0.3), 0px 1px 3px 1px rgba(60, 64, 67, 0.15);\n",
              "      fill: #174EA6;\n",
              "    }\n",
              "\n",
              "    [theme=dark] .colab-df-convert {\n",
              "      background-color: #3B4455;\n",
              "      fill: #D2E3FC;\n",
              "    }\n",
              "\n",
              "    [theme=dark] .colab-df-convert:hover {\n",
              "      background-color: #434B5C;\n",
              "      box-shadow: 0px 1px 3px 1px rgba(0, 0, 0, 0.15);\n",
              "      filter: drop-shadow(0px 1px 2px rgba(0, 0, 0, 0.3));\n",
              "      fill: #FFFFFF;\n",
              "    }\n",
              "  </style>\n",
              "\n",
              "      <script>\n",
              "        const buttonEl =\n",
              "          document.querySelector('#df-b11fec89-ac2b-474a-ade8-ac2470e44cea button.colab-df-convert');\n",
              "        buttonEl.style.display =\n",
              "          google.colab.kernel.accessAllowed ? 'block' : 'none';\n",
              "\n",
              "        async function convertToInteractive(key) {\n",
              "          const element = document.querySelector('#df-b11fec89-ac2b-474a-ade8-ac2470e44cea');\n",
              "          const dataTable =\n",
              "            await google.colab.kernel.invokeFunction('convertToInteractive',\n",
              "                                                     [key], {});\n",
              "          if (!dataTable) return;\n",
              "\n",
              "          const docLinkHtml = 'Like what you see? Visit the ' +\n",
              "            '<a target=\"_blank\" href=https://colab.research.google.com/notebooks/data_table.ipynb>data table notebook</a>'\n",
              "            + ' to learn more about interactive tables.';\n",
              "          element.innerHTML = '';\n",
              "          dataTable['output_type'] = 'display_data';\n",
              "          await google.colab.output.renderOutput(dataTable, element);\n",
              "          const docLink = document.createElement('div');\n",
              "          docLink.innerHTML = docLinkHtml;\n",
              "          element.appendChild(docLink);\n",
              "        }\n",
              "      </script>\n",
              "    </div>\n",
              "  </div>\n",
              "  "
            ]
          },
          "metadata": {},
          "execution_count": 11
        }
      ]
    },
    {
      "cell_type": "markdown",
      "source": [
        "# 1) Preparación de los datos para aplicar modelos de clasificación\n",
        "\n",
        "Generar a partir del dataset, los conjuntos de train, test y validation. \n",
        "\n",
        "**a. Analizar las proporciones consideradas para cada conjunto con respecto al total del dataset. Verificar el total de datos de cada conjunto.** \n",
        "\n",
        "**b. Para cada conjunto (train, test, val), ¿cuántos datos de cada clase target hay (churn y no churn)?, se debe buscar mantener la proporción del dataset total (el desbalanceo que era casi de 3 a 1)**\n",
        "\n"
      ],
      "metadata": {
        "id": "GH4CVgw2CDic"
      }
    },
    {
      "cell_type": "markdown",
      "source": [
        "## a. Balanceo de Clases"
      ],
      "metadata": {
        "id": "YuU4kgJRUEUx"
      }
    },
    {
      "cell_type": "code",
      "source": [
        "df_churn['churn_user'].value_counts()"
      ],
      "metadata": {
        "id": "fA0_vFHjYhu_",
        "outputId": "b9b069b7-47fc-41f6-e653-79ac8d1c9c30",
        "colab": {
          "base_uri": "https://localhost:8080/"
        }
      },
      "execution_count": null,
      "outputs": [
        {
          "output_type": "execute_result",
          "data": {
            "text/plain": [
              "0.000    424334\n",
              "1.000    103632\n",
              "Name: churn_user, dtype: int64"
            ]
          },
          "metadata": {},
          "execution_count": 12
        }
      ]
    },
    {
      "cell_type": "code",
      "source": [
        "#trabajamos sobre una copia\n",
        "df_churn = df_churn.copy()"
      ],
      "metadata": {
        "id": "df8tyOUtcuN2"
      },
      "execution_count": null,
      "outputs": []
    },
    {
      "cell_type": "markdown",
      "source": [
        "Data Balance: Muestreo descendente de clase mayoritaria"
      ],
      "metadata": {
        "id": "YgFqKHAIL4sC"
      }
    },
    {
      "cell_type": "code",
      "source": [
        "from sklearn.utils import resample\n",
        "def classes_balance(df):\n",
        "  # Separate majority and minority classes\n",
        "  df_majority = df[df.churn_user==0]\n",
        "  df_minority = df[df.churn_user==1]\n",
        "  \n",
        "  # Downsample majority class\n",
        "  df_majority_downsampled = resample(df_majority, \n",
        "                                  replace=False,    # sample without replacement\n",
        "                                  n_samples=103632, # to match minority class\n",
        "                                  random_state=RANDOM_STATE) # reproducible results\n",
        "  \n",
        "  # Combine minority class with downsampled majority class\n",
        "  df_downsampled = pd.concat([df_majority_downsampled, df_minority])\n",
        "\n",
        "  # Al parecer los datos quedan ordenados, primeros los churn_user = 0 y después los churn_user = 1\n",
        "  ## Shuffle\n",
        "  from sklearn.utils import shuffle\n",
        "  df_downsampled = shuffle(df_downsampled)\n",
        "\n",
        "  # Display new class counts\n",
        "  print(df_downsampled.churn_user.value_counts())\n",
        "  return df_downsampled"
      ],
      "metadata": {
        "id": "GhaammlpLdes"
      },
      "execution_count": null,
      "outputs": []
    },
    {
      "cell_type": "code",
      "source": [
        "df_downsampled = classes_balance(df_churn)"
      ],
      "metadata": {
        "id": "-A4AWGvaMIAw",
        "colab": {
          "base_uri": "https://localhost:8080/"
        },
        "outputId": "3bcd1f06-9056-4e5e-aaa0-d3ffe2072af8"
      },
      "execution_count": null,
      "outputs": [
        {
          "output_type": "stream",
          "name": "stdout",
          "text": [
            "1.000    103632\n",
            "0.000    103632\n",
            "Name: churn_user, dtype: int64\n"
          ]
        }
      ]
    },
    {
      "cell_type": "code",
      "source": [
        "df_downsampled"
      ],
      "metadata": {
        "colab": {
          "base_uri": "https://localhost:8080/",
          "height": 522
        },
        "id": "DFayVd9GMZgc",
        "outputId": "e5b6d49c-7c80-4ffa-e446-92f2a9ff10a2"
      },
      "execution_count": null,
      "outputs": [
        {
          "output_type": "execute_result",
          "data": {
            "text/plain": [
              "        churn_user  Error  NumInteracc  page_About  page_Add Friend  \\\n",
              "36986        1.000  0.096       -0.081      -0.044           -0.125   \n",
              "85389        1.000 -0.283       -0.597      -0.044           -0.125   \n",
              "330268       1.000  0.096        0.665      -0.044           -0.125   \n",
              "338757       0.000  3.883        3.319      -0.044           -0.125   \n",
              "946          1.000 -1.041       -0.911      -0.044           -0.125   \n",
              "...            ...    ...          ...         ...              ...   \n",
              "416065       1.000 -1.041       -0.709      -0.044           -0.125   \n",
              "119085       0.000  1.989        1.510      -0.044           -0.125   \n",
              "192485       1.000 -0.283       -0.597      -0.044           -0.125   \n",
              "32419        1.000  0.853       -0.031      -0.044           -0.125   \n",
              "197716       0.000  1.232        1.928      -0.044           -0.125   \n",
              "\n",
              "        page_Add to Playlist  page_Cancel  page_Cancellation Confirmation  \\\n",
              "36986                 -0.155       -0.014                          -0.014   \n",
              "85389                 -0.155       -0.014                          -0.014   \n",
              "330268                -0.155       -0.014                          -0.014   \n",
              "338757                -0.155       -0.014                          -0.014   \n",
              "946                   -0.155       -0.014                          -0.014   \n",
              "...                      ...          ...                             ...   \n",
              "416065                -0.155       -0.014                          -0.014   \n",
              "119085                -0.155       -0.014                          -0.014   \n",
              "192485                -0.155       -0.014                          -0.014   \n",
              "32419                 -0.155       -0.014                          -0.014   \n",
              "197716                -0.155       -0.014                          -0.014   \n",
              "\n",
              "        page_Downgrade  page_Error  ...  page_Home  page_Logout  \\\n",
              "36986           -0.085      -0.031  ...     -0.194       -0.107   \n",
              "85389           -0.085      -0.031  ...     -0.194       -0.107   \n",
              "330268          -0.085      -0.031  ...     -0.194       -0.107   \n",
              "338757          -0.085      -0.031  ...     -0.194       -0.107   \n",
              "946             -0.085      -0.031  ...     -0.194       -0.107   \n",
              "...                ...         ...  ...        ...          ...   \n",
              "416065          -0.085      -0.031  ...     -0.194       -0.107   \n",
              "119085          -0.085      -0.031  ...     -0.194       -0.107   \n",
              "192485          -0.085      -0.031  ...     -0.194       -0.107   \n",
              "32419           -0.085      -0.031  ...     -0.194       -0.107   \n",
              "197716          -0.085      -0.031  ...     -0.194       -0.107   \n",
              "\n",
              "        page_Roll Advert  page_Save Settings  page_Settings  \\\n",
              "36986             -0.122              -0.033         -0.075   \n",
              "85389             -0.122              -0.033         -0.075   \n",
              "330268            -0.122              -0.033         -0.075   \n",
              "338757            -0.122              -0.033         -0.075   \n",
              "946               -0.122              -0.033         -0.075   \n",
              "...                  ...                 ...            ...   \n",
              "416065            -0.122              -0.033         -0.075   \n",
              "119085            -0.122              -0.033         -0.075   \n",
              "192485            -0.122              -0.033         -0.075   \n",
              "32419             -0.122              -0.033         -0.075   \n",
              "197716            -0.122              -0.033         -0.075   \n",
              "\n",
              "        page_Submit Downgrade  page_Submit Upgrade  page_Thumbs Down  \\\n",
              "36986                  -0.015               -0.023            -0.097   \n",
              "85389                  -0.015               -0.023            -0.097   \n",
              "330268                 -0.015               -0.023            -0.097   \n",
              "338757                 -0.015               -0.023            -0.097   \n",
              "946                    -0.015               -0.023            -0.097   \n",
              "...                       ...                  ...               ...   \n",
              "416065                 -0.015               -0.023            -0.097   \n",
              "119085                 -0.015               -0.023            -0.097   \n",
              "192485                 -0.015               -0.023            -0.097   \n",
              "32419                  -0.015               -0.023            -0.097   \n",
              "197716                 -0.015               -0.023            -0.097   \n",
              "\n",
              "        page_Thumbs Up  page_Upgrade  \n",
              "36986           -0.217        -0.043  \n",
              "85389           -0.217        -0.043  \n",
              "330268          -0.217        -0.043  \n",
              "338757          -0.217        -0.043  \n",
              "946             -0.217        -0.043  \n",
              "...                ...           ...  \n",
              "416065          -0.217        -0.043  \n",
              "119085          -0.217        -0.043  \n",
              "192485          -0.217        -0.043  \n",
              "32419            4.600        -0.043  \n",
              "197716          -0.217        -0.043  \n",
              "\n",
              "[207264 rows x 21 columns]"
            ],
            "text/html": [
              "\n",
              "  <div id=\"df-402e5d7c-2357-461e-bf94-aac54bee8ed4\">\n",
              "    <div class=\"colab-df-container\">\n",
              "      <div>\n",
              "<style scoped>\n",
              "    .dataframe tbody tr th:only-of-type {\n",
              "        vertical-align: middle;\n",
              "    }\n",
              "\n",
              "    .dataframe tbody tr th {\n",
              "        vertical-align: top;\n",
              "    }\n",
              "\n",
              "    .dataframe thead th {\n",
              "        text-align: right;\n",
              "    }\n",
              "</style>\n",
              "<table border=\"1\" class=\"dataframe\">\n",
              "  <thead>\n",
              "    <tr style=\"text-align: right;\">\n",
              "      <th></th>\n",
              "      <th>churn_user</th>\n",
              "      <th>Error</th>\n",
              "      <th>NumInteracc</th>\n",
              "      <th>page_About</th>\n",
              "      <th>page_Add Friend</th>\n",
              "      <th>page_Add to Playlist</th>\n",
              "      <th>page_Cancel</th>\n",
              "      <th>page_Cancellation Confirmation</th>\n",
              "      <th>page_Downgrade</th>\n",
              "      <th>page_Error</th>\n",
              "      <th>...</th>\n",
              "      <th>page_Home</th>\n",
              "      <th>page_Logout</th>\n",
              "      <th>page_Roll Advert</th>\n",
              "      <th>page_Save Settings</th>\n",
              "      <th>page_Settings</th>\n",
              "      <th>page_Submit Downgrade</th>\n",
              "      <th>page_Submit Upgrade</th>\n",
              "      <th>page_Thumbs Down</th>\n",
              "      <th>page_Thumbs Up</th>\n",
              "      <th>page_Upgrade</th>\n",
              "    </tr>\n",
              "  </thead>\n",
              "  <tbody>\n",
              "    <tr>\n",
              "      <th>36986</th>\n",
              "      <td>1.000</td>\n",
              "      <td>0.096</td>\n",
              "      <td>-0.081</td>\n",
              "      <td>-0.044</td>\n",
              "      <td>-0.125</td>\n",
              "      <td>-0.155</td>\n",
              "      <td>-0.014</td>\n",
              "      <td>-0.014</td>\n",
              "      <td>-0.085</td>\n",
              "      <td>-0.031</td>\n",
              "      <td>...</td>\n",
              "      <td>-0.194</td>\n",
              "      <td>-0.107</td>\n",
              "      <td>-0.122</td>\n",
              "      <td>-0.033</td>\n",
              "      <td>-0.075</td>\n",
              "      <td>-0.015</td>\n",
              "      <td>-0.023</td>\n",
              "      <td>-0.097</td>\n",
              "      <td>-0.217</td>\n",
              "      <td>-0.043</td>\n",
              "    </tr>\n",
              "    <tr>\n",
              "      <th>85389</th>\n",
              "      <td>1.000</td>\n",
              "      <td>-0.283</td>\n",
              "      <td>-0.597</td>\n",
              "      <td>-0.044</td>\n",
              "      <td>-0.125</td>\n",
              "      <td>-0.155</td>\n",
              "      <td>-0.014</td>\n",
              "      <td>-0.014</td>\n",
              "      <td>-0.085</td>\n",
              "      <td>-0.031</td>\n",
              "      <td>...</td>\n",
              "      <td>-0.194</td>\n",
              "      <td>-0.107</td>\n",
              "      <td>-0.122</td>\n",
              "      <td>-0.033</td>\n",
              "      <td>-0.075</td>\n",
              "      <td>-0.015</td>\n",
              "      <td>-0.023</td>\n",
              "      <td>-0.097</td>\n",
              "      <td>-0.217</td>\n",
              "      <td>-0.043</td>\n",
              "    </tr>\n",
              "    <tr>\n",
              "      <th>330268</th>\n",
              "      <td>1.000</td>\n",
              "      <td>0.096</td>\n",
              "      <td>0.665</td>\n",
              "      <td>-0.044</td>\n",
              "      <td>-0.125</td>\n",
              "      <td>-0.155</td>\n",
              "      <td>-0.014</td>\n",
              "      <td>-0.014</td>\n",
              "      <td>-0.085</td>\n",
              "      <td>-0.031</td>\n",
              "      <td>...</td>\n",
              "      <td>-0.194</td>\n",
              "      <td>-0.107</td>\n",
              "      <td>-0.122</td>\n",
              "      <td>-0.033</td>\n",
              "      <td>-0.075</td>\n",
              "      <td>-0.015</td>\n",
              "      <td>-0.023</td>\n",
              "      <td>-0.097</td>\n",
              "      <td>-0.217</td>\n",
              "      <td>-0.043</td>\n",
              "    </tr>\n",
              "    <tr>\n",
              "      <th>338757</th>\n",
              "      <td>0.000</td>\n",
              "      <td>3.883</td>\n",
              "      <td>3.319</td>\n",
              "      <td>-0.044</td>\n",
              "      <td>-0.125</td>\n",
              "      <td>-0.155</td>\n",
              "      <td>-0.014</td>\n",
              "      <td>-0.014</td>\n",
              "      <td>-0.085</td>\n",
              "      <td>-0.031</td>\n",
              "      <td>...</td>\n",
              "      <td>-0.194</td>\n",
              "      <td>-0.107</td>\n",
              "      <td>-0.122</td>\n",
              "      <td>-0.033</td>\n",
              "      <td>-0.075</td>\n",
              "      <td>-0.015</td>\n",
              "      <td>-0.023</td>\n",
              "      <td>-0.097</td>\n",
              "      <td>-0.217</td>\n",
              "      <td>-0.043</td>\n",
              "    </tr>\n",
              "    <tr>\n",
              "      <th>946</th>\n",
              "      <td>1.000</td>\n",
              "      <td>-1.041</td>\n",
              "      <td>-0.911</td>\n",
              "      <td>-0.044</td>\n",
              "      <td>-0.125</td>\n",
              "      <td>-0.155</td>\n",
              "      <td>-0.014</td>\n",
              "      <td>-0.014</td>\n",
              "      <td>-0.085</td>\n",
              "      <td>-0.031</td>\n",
              "      <td>...</td>\n",
              "      <td>-0.194</td>\n",
              "      <td>-0.107</td>\n",
              "      <td>-0.122</td>\n",
              "      <td>-0.033</td>\n",
              "      <td>-0.075</td>\n",
              "      <td>-0.015</td>\n",
              "      <td>-0.023</td>\n",
              "      <td>-0.097</td>\n",
              "      <td>-0.217</td>\n",
              "      <td>-0.043</td>\n",
              "    </tr>\n",
              "    <tr>\n",
              "      <th>...</th>\n",
              "      <td>...</td>\n",
              "      <td>...</td>\n",
              "      <td>...</td>\n",
              "      <td>...</td>\n",
              "      <td>...</td>\n",
              "      <td>...</td>\n",
              "      <td>...</td>\n",
              "      <td>...</td>\n",
              "      <td>...</td>\n",
              "      <td>...</td>\n",
              "      <td>...</td>\n",
              "      <td>...</td>\n",
              "      <td>...</td>\n",
              "      <td>...</td>\n",
              "      <td>...</td>\n",
              "      <td>...</td>\n",
              "      <td>...</td>\n",
              "      <td>...</td>\n",
              "      <td>...</td>\n",
              "      <td>...</td>\n",
              "      <td>...</td>\n",
              "    </tr>\n",
              "    <tr>\n",
              "      <th>416065</th>\n",
              "      <td>1.000</td>\n",
              "      <td>-1.041</td>\n",
              "      <td>-0.709</td>\n",
              "      <td>-0.044</td>\n",
              "      <td>-0.125</td>\n",
              "      <td>-0.155</td>\n",
              "      <td>-0.014</td>\n",
              "      <td>-0.014</td>\n",
              "      <td>-0.085</td>\n",
              "      <td>-0.031</td>\n",
              "      <td>...</td>\n",
              "      <td>-0.194</td>\n",
              "      <td>-0.107</td>\n",
              "      <td>-0.122</td>\n",
              "      <td>-0.033</td>\n",
              "      <td>-0.075</td>\n",
              "      <td>-0.015</td>\n",
              "      <td>-0.023</td>\n",
              "      <td>-0.097</td>\n",
              "      <td>-0.217</td>\n",
              "      <td>-0.043</td>\n",
              "    </tr>\n",
              "    <tr>\n",
              "      <th>119085</th>\n",
              "      <td>0.000</td>\n",
              "      <td>1.989</td>\n",
              "      <td>1.510</td>\n",
              "      <td>-0.044</td>\n",
              "      <td>-0.125</td>\n",
              "      <td>-0.155</td>\n",
              "      <td>-0.014</td>\n",
              "      <td>-0.014</td>\n",
              "      <td>-0.085</td>\n",
              "      <td>-0.031</td>\n",
              "      <td>...</td>\n",
              "      <td>-0.194</td>\n",
              "      <td>-0.107</td>\n",
              "      <td>-0.122</td>\n",
              "      <td>-0.033</td>\n",
              "      <td>-0.075</td>\n",
              "      <td>-0.015</td>\n",
              "      <td>-0.023</td>\n",
              "      <td>-0.097</td>\n",
              "      <td>-0.217</td>\n",
              "      <td>-0.043</td>\n",
              "    </tr>\n",
              "    <tr>\n",
              "      <th>192485</th>\n",
              "      <td>1.000</td>\n",
              "      <td>-0.283</td>\n",
              "      <td>-0.597</td>\n",
              "      <td>-0.044</td>\n",
              "      <td>-0.125</td>\n",
              "      <td>-0.155</td>\n",
              "      <td>-0.014</td>\n",
              "      <td>-0.014</td>\n",
              "      <td>-0.085</td>\n",
              "      <td>-0.031</td>\n",
              "      <td>...</td>\n",
              "      <td>-0.194</td>\n",
              "      <td>-0.107</td>\n",
              "      <td>-0.122</td>\n",
              "      <td>-0.033</td>\n",
              "      <td>-0.075</td>\n",
              "      <td>-0.015</td>\n",
              "      <td>-0.023</td>\n",
              "      <td>-0.097</td>\n",
              "      <td>-0.217</td>\n",
              "      <td>-0.043</td>\n",
              "    </tr>\n",
              "    <tr>\n",
              "      <th>32419</th>\n",
              "      <td>1.000</td>\n",
              "      <td>0.853</td>\n",
              "      <td>-0.031</td>\n",
              "      <td>-0.044</td>\n",
              "      <td>-0.125</td>\n",
              "      <td>-0.155</td>\n",
              "      <td>-0.014</td>\n",
              "      <td>-0.014</td>\n",
              "      <td>-0.085</td>\n",
              "      <td>-0.031</td>\n",
              "      <td>...</td>\n",
              "      <td>-0.194</td>\n",
              "      <td>-0.107</td>\n",
              "      <td>-0.122</td>\n",
              "      <td>-0.033</td>\n",
              "      <td>-0.075</td>\n",
              "      <td>-0.015</td>\n",
              "      <td>-0.023</td>\n",
              "      <td>-0.097</td>\n",
              "      <td>4.600</td>\n",
              "      <td>-0.043</td>\n",
              "    </tr>\n",
              "    <tr>\n",
              "      <th>197716</th>\n",
              "      <td>0.000</td>\n",
              "      <td>1.232</td>\n",
              "      <td>1.928</td>\n",
              "      <td>-0.044</td>\n",
              "      <td>-0.125</td>\n",
              "      <td>-0.155</td>\n",
              "      <td>-0.014</td>\n",
              "      <td>-0.014</td>\n",
              "      <td>-0.085</td>\n",
              "      <td>-0.031</td>\n",
              "      <td>...</td>\n",
              "      <td>-0.194</td>\n",
              "      <td>-0.107</td>\n",
              "      <td>-0.122</td>\n",
              "      <td>-0.033</td>\n",
              "      <td>-0.075</td>\n",
              "      <td>-0.015</td>\n",
              "      <td>-0.023</td>\n",
              "      <td>-0.097</td>\n",
              "      <td>-0.217</td>\n",
              "      <td>-0.043</td>\n",
              "    </tr>\n",
              "  </tbody>\n",
              "</table>\n",
              "<p>207264 rows × 21 columns</p>\n",
              "</div>\n",
              "      <button class=\"colab-df-convert\" onclick=\"convertToInteractive('df-402e5d7c-2357-461e-bf94-aac54bee8ed4')\"\n",
              "              title=\"Convert this dataframe to an interactive table.\"\n",
              "              style=\"display:none;\">\n",
              "        \n",
              "  <svg xmlns=\"http://www.w3.org/2000/svg\" height=\"24px\"viewBox=\"0 0 24 24\"\n",
              "       width=\"24px\">\n",
              "    <path d=\"M0 0h24v24H0V0z\" fill=\"none\"/>\n",
              "    <path d=\"M18.56 5.44l.94 2.06.94-2.06 2.06-.94-2.06-.94-.94-2.06-.94 2.06-2.06.94zm-11 1L8.5 8.5l.94-2.06 2.06-.94-2.06-.94L8.5 2.5l-.94 2.06-2.06.94zm10 10l.94 2.06.94-2.06 2.06-.94-2.06-.94-.94-2.06-.94 2.06-2.06.94z\"/><path d=\"M17.41 7.96l-1.37-1.37c-.4-.4-.92-.59-1.43-.59-.52 0-1.04.2-1.43.59L10.3 9.45l-7.72 7.72c-.78.78-.78 2.05 0 2.83L4 21.41c.39.39.9.59 1.41.59.51 0 1.02-.2 1.41-.59l7.78-7.78 2.81-2.81c.8-.78.8-2.07 0-2.86zM5.41 20L4 18.59l7.72-7.72 1.47 1.35L5.41 20z\"/>\n",
              "  </svg>\n",
              "      </button>\n",
              "      \n",
              "  <style>\n",
              "    .colab-df-container {\n",
              "      display:flex;\n",
              "      flex-wrap:wrap;\n",
              "      gap: 12px;\n",
              "    }\n",
              "\n",
              "    .colab-df-convert {\n",
              "      background-color: #E8F0FE;\n",
              "      border: none;\n",
              "      border-radius: 50%;\n",
              "      cursor: pointer;\n",
              "      display: none;\n",
              "      fill: #1967D2;\n",
              "      height: 32px;\n",
              "      padding: 0 0 0 0;\n",
              "      width: 32px;\n",
              "    }\n",
              "\n",
              "    .colab-df-convert:hover {\n",
              "      background-color: #E2EBFA;\n",
              "      box-shadow: 0px 1px 2px rgba(60, 64, 67, 0.3), 0px 1px 3px 1px rgba(60, 64, 67, 0.15);\n",
              "      fill: #174EA6;\n",
              "    }\n",
              "\n",
              "    [theme=dark] .colab-df-convert {\n",
              "      background-color: #3B4455;\n",
              "      fill: #D2E3FC;\n",
              "    }\n",
              "\n",
              "    [theme=dark] .colab-df-convert:hover {\n",
              "      background-color: #434B5C;\n",
              "      box-shadow: 0px 1px 3px 1px rgba(0, 0, 0, 0.15);\n",
              "      filter: drop-shadow(0px 1px 2px rgba(0, 0, 0, 0.3));\n",
              "      fill: #FFFFFF;\n",
              "    }\n",
              "  </style>\n",
              "\n",
              "      <script>\n",
              "        const buttonEl =\n",
              "          document.querySelector('#df-402e5d7c-2357-461e-bf94-aac54bee8ed4 button.colab-df-convert');\n",
              "        buttonEl.style.display =\n",
              "          google.colab.kernel.accessAllowed ? 'block' : 'none';\n",
              "\n",
              "        async function convertToInteractive(key) {\n",
              "          const element = document.querySelector('#df-402e5d7c-2357-461e-bf94-aac54bee8ed4');\n",
              "          const dataTable =\n",
              "            await google.colab.kernel.invokeFunction('convertToInteractive',\n",
              "                                                     [key], {});\n",
              "          if (!dataTable) return;\n",
              "\n",
              "          const docLinkHtml = 'Like what you see? Visit the ' +\n",
              "            '<a target=\"_blank\" href=https://colab.research.google.com/notebooks/data_table.ipynb>data table notebook</a>'\n",
              "            + ' to learn more about interactive tables.';\n",
              "          element.innerHTML = '';\n",
              "          dataTable['output_type'] = 'display_data';\n",
              "          await google.colab.output.renderOutput(dataTable, element);\n",
              "          const docLink = document.createElement('div');\n",
              "          docLink.innerHTML = docLinkHtml;\n",
              "          element.appendChild(docLink);\n",
              "        }\n",
              "      </script>\n",
              "    </div>\n",
              "  </div>\n",
              "  "
            ]
          },
          "metadata": {},
          "execution_count": 16
        }
      ]
    },
    {
      "cell_type": "code",
      "source": [
        "df_churn = df_downsampled"
      ],
      "metadata": {
        "id": "JNgzqtf_3zwg"
      },
      "execution_count": null,
      "outputs": []
    },
    {
      "cell_type": "markdown",
      "source": [
        "## b. Division del dataset"
      ],
      "metadata": {
        "id": "MEf9_nRJU5up"
      }
    },
    {
      "cell_type": "code",
      "source": [
        "#Separamos el dataset en datos de entrada y salida\n",
        "y = df_churn.churn_user\n",
        "X = df_churn.drop('churn_user',axis = 1)"
      ],
      "metadata": {
        "id": "PpQAoF_pLagf"
      },
      "execution_count": null,
      "outputs": []
    },
    {
      "cell_type": "code",
      "source": [
        "y.head()"
      ],
      "metadata": {
        "colab": {
          "base_uri": "https://localhost:8080/"
        },
        "id": "ljRr8trHerfb",
        "outputId": "aa14f6ab-f705-445d-9c7c-e70901adc60d"
      },
      "execution_count": null,
      "outputs": [
        {
          "output_type": "execute_result",
          "data": {
            "text/plain": [
              "36986    1.000\n",
              "85389    1.000\n",
              "330268   1.000\n",
              "338757   0.000\n",
              "946      1.000\n",
              "Name: churn_user, dtype: float64"
            ]
          },
          "metadata": {},
          "execution_count": 19
        }
      ]
    },
    {
      "cell_type": "code",
      "source": [
        "X.head()"
      ],
      "metadata": {
        "colab": {
          "base_uri": "https://localhost:8080/",
          "height": 305
        },
        "id": "LCIgYVOEeuQr",
        "outputId": "697220fb-a778-4d33-8284-718acfbe2076"
      },
      "execution_count": null,
      "outputs": [
        {
          "output_type": "execute_result",
          "data": {
            "text/plain": [
              "        Error  NumInteracc  page_About  page_Add Friend  page_Add to Playlist  \\\n",
              "36986   0.096       -0.081      -0.044           -0.125                -0.155   \n",
              "85389  -0.283       -0.597      -0.044           -0.125                -0.155   \n",
              "330268  0.096        0.665      -0.044           -0.125                -0.155   \n",
              "338757  3.883        3.319      -0.044           -0.125                -0.155   \n",
              "946    -1.041       -0.911      -0.044           -0.125                -0.155   \n",
              "\n",
              "        page_Cancel  page_Cancellation Confirmation  page_Downgrade  \\\n",
              "36986        -0.014                          -0.014          -0.085   \n",
              "85389        -0.014                          -0.014          -0.085   \n",
              "330268       -0.014                          -0.014          -0.085   \n",
              "338757       -0.014                          -0.014          -0.085   \n",
              "946          -0.014                          -0.014          -0.085   \n",
              "\n",
              "        page_Error  page_Help  page_Home  page_Logout  page_Roll Advert  \\\n",
              "36986       -0.031     -0.071     -0.194       -0.107            -0.122   \n",
              "85389       -0.031     -0.071     -0.194       -0.107            -0.122   \n",
              "330268      -0.031     -0.071     -0.194       -0.107            -0.122   \n",
              "338757      -0.031     -0.071     -0.194       -0.107            -0.122   \n",
              "946         -0.031     -0.071     -0.194       -0.107            -0.122   \n",
              "\n",
              "        page_Save Settings  page_Settings  page_Submit Downgrade  \\\n",
              "36986               -0.033         -0.075                 -0.015   \n",
              "85389               -0.033         -0.075                 -0.015   \n",
              "330268              -0.033         -0.075                 -0.015   \n",
              "338757              -0.033         -0.075                 -0.015   \n",
              "946                 -0.033         -0.075                 -0.015   \n",
              "\n",
              "        page_Submit Upgrade  page_Thumbs Down  page_Thumbs Up  page_Upgrade  \n",
              "36986                -0.023            -0.097          -0.217        -0.043  \n",
              "85389                -0.023            -0.097          -0.217        -0.043  \n",
              "330268               -0.023            -0.097          -0.217        -0.043  \n",
              "338757               -0.023            -0.097          -0.217        -0.043  \n",
              "946                  -0.023            -0.097          -0.217        -0.043  "
            ],
            "text/html": [
              "\n",
              "  <div id=\"df-51dc34a3-cac2-45e2-961a-6e5a097ee3f0\">\n",
              "    <div class=\"colab-df-container\">\n",
              "      <div>\n",
              "<style scoped>\n",
              "    .dataframe tbody tr th:only-of-type {\n",
              "        vertical-align: middle;\n",
              "    }\n",
              "\n",
              "    .dataframe tbody tr th {\n",
              "        vertical-align: top;\n",
              "    }\n",
              "\n",
              "    .dataframe thead th {\n",
              "        text-align: right;\n",
              "    }\n",
              "</style>\n",
              "<table border=\"1\" class=\"dataframe\">\n",
              "  <thead>\n",
              "    <tr style=\"text-align: right;\">\n",
              "      <th></th>\n",
              "      <th>Error</th>\n",
              "      <th>NumInteracc</th>\n",
              "      <th>page_About</th>\n",
              "      <th>page_Add Friend</th>\n",
              "      <th>page_Add to Playlist</th>\n",
              "      <th>page_Cancel</th>\n",
              "      <th>page_Cancellation Confirmation</th>\n",
              "      <th>page_Downgrade</th>\n",
              "      <th>page_Error</th>\n",
              "      <th>page_Help</th>\n",
              "      <th>page_Home</th>\n",
              "      <th>page_Logout</th>\n",
              "      <th>page_Roll Advert</th>\n",
              "      <th>page_Save Settings</th>\n",
              "      <th>page_Settings</th>\n",
              "      <th>page_Submit Downgrade</th>\n",
              "      <th>page_Submit Upgrade</th>\n",
              "      <th>page_Thumbs Down</th>\n",
              "      <th>page_Thumbs Up</th>\n",
              "      <th>page_Upgrade</th>\n",
              "    </tr>\n",
              "  </thead>\n",
              "  <tbody>\n",
              "    <tr>\n",
              "      <th>36986</th>\n",
              "      <td>0.096</td>\n",
              "      <td>-0.081</td>\n",
              "      <td>-0.044</td>\n",
              "      <td>-0.125</td>\n",
              "      <td>-0.155</td>\n",
              "      <td>-0.014</td>\n",
              "      <td>-0.014</td>\n",
              "      <td>-0.085</td>\n",
              "      <td>-0.031</td>\n",
              "      <td>-0.071</td>\n",
              "      <td>-0.194</td>\n",
              "      <td>-0.107</td>\n",
              "      <td>-0.122</td>\n",
              "      <td>-0.033</td>\n",
              "      <td>-0.075</td>\n",
              "      <td>-0.015</td>\n",
              "      <td>-0.023</td>\n",
              "      <td>-0.097</td>\n",
              "      <td>-0.217</td>\n",
              "      <td>-0.043</td>\n",
              "    </tr>\n",
              "    <tr>\n",
              "      <th>85389</th>\n",
              "      <td>-0.283</td>\n",
              "      <td>-0.597</td>\n",
              "      <td>-0.044</td>\n",
              "      <td>-0.125</td>\n",
              "      <td>-0.155</td>\n",
              "      <td>-0.014</td>\n",
              "      <td>-0.014</td>\n",
              "      <td>-0.085</td>\n",
              "      <td>-0.031</td>\n",
              "      <td>-0.071</td>\n",
              "      <td>-0.194</td>\n",
              "      <td>-0.107</td>\n",
              "      <td>-0.122</td>\n",
              "      <td>-0.033</td>\n",
              "      <td>-0.075</td>\n",
              "      <td>-0.015</td>\n",
              "      <td>-0.023</td>\n",
              "      <td>-0.097</td>\n",
              "      <td>-0.217</td>\n",
              "      <td>-0.043</td>\n",
              "    </tr>\n",
              "    <tr>\n",
              "      <th>330268</th>\n",
              "      <td>0.096</td>\n",
              "      <td>0.665</td>\n",
              "      <td>-0.044</td>\n",
              "      <td>-0.125</td>\n",
              "      <td>-0.155</td>\n",
              "      <td>-0.014</td>\n",
              "      <td>-0.014</td>\n",
              "      <td>-0.085</td>\n",
              "      <td>-0.031</td>\n",
              "      <td>-0.071</td>\n",
              "      <td>-0.194</td>\n",
              "      <td>-0.107</td>\n",
              "      <td>-0.122</td>\n",
              "      <td>-0.033</td>\n",
              "      <td>-0.075</td>\n",
              "      <td>-0.015</td>\n",
              "      <td>-0.023</td>\n",
              "      <td>-0.097</td>\n",
              "      <td>-0.217</td>\n",
              "      <td>-0.043</td>\n",
              "    </tr>\n",
              "    <tr>\n",
              "      <th>338757</th>\n",
              "      <td>3.883</td>\n",
              "      <td>3.319</td>\n",
              "      <td>-0.044</td>\n",
              "      <td>-0.125</td>\n",
              "      <td>-0.155</td>\n",
              "      <td>-0.014</td>\n",
              "      <td>-0.014</td>\n",
              "      <td>-0.085</td>\n",
              "      <td>-0.031</td>\n",
              "      <td>-0.071</td>\n",
              "      <td>-0.194</td>\n",
              "      <td>-0.107</td>\n",
              "      <td>-0.122</td>\n",
              "      <td>-0.033</td>\n",
              "      <td>-0.075</td>\n",
              "      <td>-0.015</td>\n",
              "      <td>-0.023</td>\n",
              "      <td>-0.097</td>\n",
              "      <td>-0.217</td>\n",
              "      <td>-0.043</td>\n",
              "    </tr>\n",
              "    <tr>\n",
              "      <th>946</th>\n",
              "      <td>-1.041</td>\n",
              "      <td>-0.911</td>\n",
              "      <td>-0.044</td>\n",
              "      <td>-0.125</td>\n",
              "      <td>-0.155</td>\n",
              "      <td>-0.014</td>\n",
              "      <td>-0.014</td>\n",
              "      <td>-0.085</td>\n",
              "      <td>-0.031</td>\n",
              "      <td>-0.071</td>\n",
              "      <td>-0.194</td>\n",
              "      <td>-0.107</td>\n",
              "      <td>-0.122</td>\n",
              "      <td>-0.033</td>\n",
              "      <td>-0.075</td>\n",
              "      <td>-0.015</td>\n",
              "      <td>-0.023</td>\n",
              "      <td>-0.097</td>\n",
              "      <td>-0.217</td>\n",
              "      <td>-0.043</td>\n",
              "    </tr>\n",
              "  </tbody>\n",
              "</table>\n",
              "</div>\n",
              "      <button class=\"colab-df-convert\" onclick=\"convertToInteractive('df-51dc34a3-cac2-45e2-961a-6e5a097ee3f0')\"\n",
              "              title=\"Convert this dataframe to an interactive table.\"\n",
              "              style=\"display:none;\">\n",
              "        \n",
              "  <svg xmlns=\"http://www.w3.org/2000/svg\" height=\"24px\"viewBox=\"0 0 24 24\"\n",
              "       width=\"24px\">\n",
              "    <path d=\"M0 0h24v24H0V0z\" fill=\"none\"/>\n",
              "    <path d=\"M18.56 5.44l.94 2.06.94-2.06 2.06-.94-2.06-.94-.94-2.06-.94 2.06-2.06.94zm-11 1L8.5 8.5l.94-2.06 2.06-.94-2.06-.94L8.5 2.5l-.94 2.06-2.06.94zm10 10l.94 2.06.94-2.06 2.06-.94-2.06-.94-.94-2.06-.94 2.06-2.06.94z\"/><path d=\"M17.41 7.96l-1.37-1.37c-.4-.4-.92-.59-1.43-.59-.52 0-1.04.2-1.43.59L10.3 9.45l-7.72 7.72c-.78.78-.78 2.05 0 2.83L4 21.41c.39.39.9.59 1.41.59.51 0 1.02-.2 1.41-.59l7.78-7.78 2.81-2.81c.8-.78.8-2.07 0-2.86zM5.41 20L4 18.59l7.72-7.72 1.47 1.35L5.41 20z\"/>\n",
              "  </svg>\n",
              "      </button>\n",
              "      \n",
              "  <style>\n",
              "    .colab-df-container {\n",
              "      display:flex;\n",
              "      flex-wrap:wrap;\n",
              "      gap: 12px;\n",
              "    }\n",
              "\n",
              "    .colab-df-convert {\n",
              "      background-color: #E8F0FE;\n",
              "      border: none;\n",
              "      border-radius: 50%;\n",
              "      cursor: pointer;\n",
              "      display: none;\n",
              "      fill: #1967D2;\n",
              "      height: 32px;\n",
              "      padding: 0 0 0 0;\n",
              "      width: 32px;\n",
              "    }\n",
              "\n",
              "    .colab-df-convert:hover {\n",
              "      background-color: #E2EBFA;\n",
              "      box-shadow: 0px 1px 2px rgba(60, 64, 67, 0.3), 0px 1px 3px 1px rgba(60, 64, 67, 0.15);\n",
              "      fill: #174EA6;\n",
              "    }\n",
              "\n",
              "    [theme=dark] .colab-df-convert {\n",
              "      background-color: #3B4455;\n",
              "      fill: #D2E3FC;\n",
              "    }\n",
              "\n",
              "    [theme=dark] .colab-df-convert:hover {\n",
              "      background-color: #434B5C;\n",
              "      box-shadow: 0px 1px 3px 1px rgba(0, 0, 0, 0.15);\n",
              "      filter: drop-shadow(0px 1px 2px rgba(0, 0, 0, 0.3));\n",
              "      fill: #FFFFFF;\n",
              "    }\n",
              "  </style>\n",
              "\n",
              "      <script>\n",
              "        const buttonEl =\n",
              "          document.querySelector('#df-51dc34a3-cac2-45e2-961a-6e5a097ee3f0 button.colab-df-convert');\n",
              "        buttonEl.style.display =\n",
              "          google.colab.kernel.accessAllowed ? 'block' : 'none';\n",
              "\n",
              "        async function convertToInteractive(key) {\n",
              "          const element = document.querySelector('#df-51dc34a3-cac2-45e2-961a-6e5a097ee3f0');\n",
              "          const dataTable =\n",
              "            await google.colab.kernel.invokeFunction('convertToInteractive',\n",
              "                                                     [key], {});\n",
              "          if (!dataTable) return;\n",
              "\n",
              "          const docLinkHtml = 'Like what you see? Visit the ' +\n",
              "            '<a target=\"_blank\" href=https://colab.research.google.com/notebooks/data_table.ipynb>data table notebook</a>'\n",
              "            + ' to learn more about interactive tables.';\n",
              "          element.innerHTML = '';\n",
              "          dataTable['output_type'] = 'display_data';\n",
              "          await google.colab.output.renderOutput(dataTable, element);\n",
              "          const docLink = document.createElement('div');\n",
              "          docLink.innerHTML = docLinkHtml;\n",
              "          element.appendChild(docLink);\n",
              "        }\n",
              "      </script>\n",
              "    </div>\n",
              "  </div>\n",
              "  "
            ]
          },
          "metadata": {},
          "execution_count": 20
        }
      ]
    },
    {
      "cell_type": "code",
      "source": [
        "#Conjunto de datos\n",
        "X.shape,y.shape"
      ],
      "metadata": {
        "id": "xoO5mM_HOUZD",
        "colab": {
          "base_uri": "https://localhost:8080/"
        },
        "outputId": "ea1c72dc-d192-4a1a-aa41-692d0efd1111"
      },
      "execution_count": null,
      "outputs": [
        {
          "output_type": "execute_result",
          "data": {
            "text/plain": [
              "((207264, 20), (207264,))"
            ]
          },
          "metadata": {},
          "execution_count": 21
        }
      ]
    },
    {
      "cell_type": "markdown",
      "source": [
        "### Separación de datos de test y validación\n",
        "Separamos los datos en train, test y val utilizando parámetro \"stratify\" para muestreo estratificado\n"
      ],
      "metadata": {
        "id": "38S5WkYbVF5x"
      }
    },
    {
      "cell_type": "code",
      "execution_count": null,
      "metadata": {
        "id": "QJX1xb9mAe53"
      },
      "outputs": [],
      "source": [
        "from sklearn.model_selection import train_test_split"
      ]
    },
    {
      "cell_type": "code",
      "source": [
        "X_train, X_test, y_train, y_test = train_test_split(X, y, test_size=0.2, random_state=RANDOM_STATE, stratify=y)\n",
        "\n",
        "X_train, X_val, y_train, y_val = train_test_split(X_train, y_train, test_size=0.25, random_state=RANDOM_STATE, stratify=y_train)\n",
        "# De esta forma, train, val, test set será el 60%, 20%, 20% del dataset respectivamente."
      ],
      "metadata": {
        "id": "_2XC-n8GVKPA"
      },
      "execution_count": null,
      "outputs": []
    },
    {
      "cell_type": "code",
      "source": [
        "#Veamos el tamaño de cada conjunto\n",
        "X_train.shape, X_test.shape, X_val.shape"
      ],
      "metadata": {
        "id": "HgdSoHI6PZop",
        "colab": {
          "base_uri": "https://localhost:8080/"
        },
        "outputId": "a3e01640-b84e-451c-af5e-3da111556a6b"
      },
      "execution_count": null,
      "outputs": [
        {
          "output_type": "execute_result",
          "data": {
            "text/plain": [
              "((124358, 20), (41453, 20), (41453, 20))"
            ]
          },
          "metadata": {},
          "execution_count": 24
        }
      ]
    },
    {
      "cell_type": "markdown",
      "source": [
        "Proporciones : \n",
        "\n",
        "* **X_train** representa un **60%** sobre el total de datos\n",
        "*   **X_val**   representa un **20%** sobre el total de datos\n",
        "*   **X_test**  representa un **20%** sobre el total de datos"
      ],
      "metadata": {
        "id": "b5-ptNoIWECb"
      }
    },
    {
      "cell_type": "markdown",
      "source": [
        "\n",
        "\n",
        "> Con el Balance se logra mantener las proporciones de las clases en cada conjunto.\n",
        "\n"
      ],
      "metadata": {
        "id": "bJ3gxBbW3WUc"
      }
    },
    {
      "cell_type": "code",
      "source": [
        "#Veamos las proporciones\n",
        "from collections import Counter\n",
        "\n",
        "print('Balance de clases conjunto entrenamiento {}'.format(Counter(y_train)), '\\n'\n",
        "'Balance de clases conjunto prueba {}'.format(Counter(y_test)), '\\n'\n",
        "'Balance de clases conjunto prueba {}'.format(Counter(y_val)))"
      ],
      "metadata": {
        "id": "2gAxEGoqLwM1",
        "colab": {
          "base_uri": "https://localhost:8080/"
        },
        "outputId": "e309980b-87e3-49bd-855f-242751410d0f"
      },
      "execution_count": null,
      "outputs": [
        {
          "output_type": "stream",
          "name": "stdout",
          "text": [
            "Balance de clases conjunto entrenamiento Counter({0.0: 62179, 1.0: 62179}) \n",
            "Balance de clases conjunto prueba Counter({1.0: 20727, 0.0: 20726}) \n",
            "Balance de clases conjunto prueba Counter({0.0: 20727, 1.0: 20726})\n"
          ]
        }
      ]
    },
    {
      "cell_type": "markdown",
      "source": [
        "# 2) Creación de un modelo baseline \n",
        "\n"
      ],
      "metadata": {
        "id": "P_fy4FjNCpAc"
      }
    },
    {
      "cell_type": "markdown",
      "source": [
        "## a. Entrenar un modelo “baseline”. \n",
        "\n",
        "Es decir lo más simple posible, para con ello tener un punto de partida con el cual comparar modelos más complejos. (Hint: se puede usar por ejemplo la clase “DummyClassifier” de scikit-learn)\n",
        "\n",
        "Documentación: https://scikit-learn.org/stable/modules/generated/sklearn.dummy.DummyClassifier.html "
      ],
      "metadata": {
        "id": "zUTa5WExCyqa"
      }
    },
    {
      "cell_type": "code",
      "source": [
        "from sklearn.dummy import DummyClassifier"
      ],
      "metadata": {
        "id": "tJ16jjwyWiLa"
      },
      "execution_count": null,
      "outputs": []
    },
    {
      "cell_type": "code",
      "source": [
        "dummy_clf = DummyClassifier(strategy=\"stratified\", random_state=RANDOM_STATE)\n",
        "dummy_clf.fit(X_train, y_train)"
      ],
      "metadata": {
        "colab": {
          "base_uri": "https://localhost:8080/"
        },
        "id": "QAeUhq9IWmvR",
        "outputId": "89c799c8-3e28-4fd7-ef10-68d9946eed01"
      },
      "execution_count": null,
      "outputs": [
        {
          "output_type": "execute_result",
          "data": {
            "text/plain": [
              "DummyClassifier(random_state=45, strategy='stratified')"
            ]
          },
          "metadata": {},
          "execution_count": 27
        }
      ]
    },
    {
      "cell_type": "markdown",
      "source": [
        "## b. Evaluar sobre el conjunto de entrenamiento, validación y test reportando: \n",
        "\n",
        "- Accuracy \n",
        "- Precision \n",
        "- Recall \n",
        "- F1 \n",
        "- Matriz de confusión"
      ],
      "metadata": {
        "id": "d7Yrnl1hC8CG"
      }
    },
    {
      "cell_type": "markdown",
      "source": [
        "**Accuracy** $$Accuracy = \\frac{TP+TN}{TP+FP+TN+FN}$$\n",
        "\n",
        "**Presicion** es la proporción de positivos propuestos por el modelo que fueron correctos:\n",
        "\n",
        "$$Precision = \\frac{TP}{TP + FP}$$\n",
        "\n",
        "**Recall** es la proporción de positivos correctos que fueron encontrados por el modelo:\n",
        "\n",
        "$$Recall = \\frac{TP}{TP + FN}$$\n",
        "\n",
        "**F1** combina presicion y recall en un único valor:\n",
        "$$F_1 = \\frac{2 * Precision * Recall}{Precision + Recall}$$"
      ],
      "metadata": {
        "id": "laA3HxAKZlLi"
      }
    },
    {
      "cell_type": "markdown",
      "source": [
        "Definimos una función para obtener métricas"
      ],
      "metadata": {
        "id": "GL06yMNvXLjS"
      }
    },
    {
      "cell_type": "code",
      "source": [
        "from sklearn.metrics import precision_score, accuracy_score, recall_score, f1_score, ConfusionMatrixDisplay, classification_report, confusion_matrix"
      ],
      "metadata": {
        "id": "0PCCcEPwWzzo"
      },
      "execution_count": null,
      "outputs": []
    },
    {
      "cell_type": "code",
      "source": [
        "def metricas(a,b):\n",
        "  print(f\"Accuracy: %.4f\" % (accuracy_score(a, b)), '\\n'\n",
        "  f\"Presicion: %.4f\" % (precision_score(a, b)), '\\n'\n",
        "  f\"Recall: %.4f\" % (recall_score(a, b)), '\\n'\n",
        "  f\"F1: %.4f\" % (f1_score(a, b)), '\\n')"
      ],
      "metadata": {
        "id": "5mkDVx_pXKqw"
      },
      "execution_count": null,
      "outputs": []
    },
    {
      "cell_type": "markdown",
      "source": [
        "Predicción usando el modelo"
      ],
      "metadata": {
        "id": "-4BrYRRAXrnS"
      }
    },
    {
      "cell_type": "code",
      "source": [
        "y_train_predict = dummy_clf.predict(X_train)"
      ],
      "metadata": {
        "id": "K35divL5WqJK"
      },
      "execution_count": null,
      "outputs": []
    },
    {
      "cell_type": "markdown",
      "source": [
        "Matriz de confusión"
      ],
      "metadata": {
        "id": "M-jpNN9KZNED"
      }
    },
    {
      "cell_type": "code",
      "source": [
        "ConfusionMatrixDisplay.from_predictions(y_train, y_train_predict)\n",
        "plt.show()\n",
        "confusion_matrix(y_train, y_train_predict)"
      ],
      "metadata": {
        "colab": {
          "base_uri": "https://localhost:8080/",
          "height": 314
        },
        "id": "phepLhMCWv9p",
        "outputId": "9073cd1f-f605-4121-bc84-ee79bd9fe354"
      },
      "execution_count": null,
      "outputs": [
        {
          "output_type": "display_data",
          "data": {
            "text/plain": [
              "<Figure size 432x288 with 2 Axes>"
            ],
            "image/png": "[encoded data removed]"
          },
          "metadata": {
            "needs_background": "light"
          }
        },
        {
          "output_type": "execute_result",
          "data": {
            "text/plain": [
              "array([[31048, 31131],\n",
              "       [31215, 30964]])"
            ]
          },
          "metadata": {},
          "execution_count": 31
        }
      ]
    },
    {
      "cell_type": "markdown",
      "source": [
        "Métricas con DummyClassifier"
      ],
      "metadata": {
        "id": "nvLwGl5paGoI"
      }
    },
    {
      "cell_type": "markdown",
      "source": [
        "*   Train\n",
        "\n",
        "\n"
      ],
      "metadata": {
        "id": "k4F3uY3XaXQo"
      }
    },
    {
      "cell_type": "code",
      "source": [
        "metricas(y_train, y_train_predict)"
      ],
      "metadata": {
        "colab": {
          "base_uri": "https://localhost:8080/"
        },
        "id": "xWSVUySNW2-w",
        "outputId": "110be15f-5808-4887-fdd9-844a4138d790"
      },
      "execution_count": null,
      "outputs": [
        {
          "output_type": "stream",
          "name": "stdout",
          "text": [
            "Accuracy: 0.4987 \n",
            "Presicion: 0.4987 \n",
            "Recall: 0.4980 \n",
            "F1: 0.4983 \n",
            "\n"
          ]
        }
      ]
    },
    {
      "cell_type": "markdown",
      "source": [
        "\n",
        "*   Validation"
      ],
      "metadata": {
        "id": "itOSK0H4aaqB"
      }
    },
    {
      "cell_type": "code",
      "source": [
        "y_val_pred =  dummy_clf.predict(X_val)"
      ],
      "metadata": {
        "id": "t5yIIehPaez4"
      },
      "execution_count": null,
      "outputs": []
    },
    {
      "cell_type": "code",
      "source": [
        "metricas(y_val, y_val_pred)"
      ],
      "metadata": {
        "colab": {
          "base_uri": "https://localhost:8080/"
        },
        "id": "6cwZdUX4btVo",
        "outputId": "d4263679-0a61-4941-9a92-2429faf529ef"
      },
      "execution_count": null,
      "outputs": [
        {
          "output_type": "stream",
          "name": "stdout",
          "text": [
            "Accuracy: 0.5020 \n",
            "Presicion: 0.5020 \n",
            "Recall: 0.5034 \n",
            "F1: 0.5027 \n",
            "\n"
          ]
        }
      ]
    },
    {
      "cell_type": "markdown",
      "source": [
        "##  C. Elección de una métrica. \n",
        "\n",
        "Pensar cuál métrica es conveniente optimizar en éste problema de clasificación donde se predice churn. ¿Sería el Accuracy una buena métrica? "
      ],
      "metadata": {
        "id": "9XDyso3jDMkj"
      }
    },
    {
      "cell_type": "markdown",
      "source": [
        "### Elección de la métrica a optimizar\n",
        "\n",
        "Teniendo en cuenta que nuestro problema consiste en churn prediction con el objetivo de tomar alguna acción al respecto para mantener a esos usuarios en la plataforma, hay ciertas métricas que van a ser más relevantes que otras:\n",
        "\n",
        "  - **Accuracy**: Sin dudas sería importante para nosotros tener la menor cantidad de falsos negativos, ya que estos usuarios van a quedar fuera de nuestra campaña de fidelización. Pero por otro lado los falsos positivos no tendrían un impacto significativo, sin embargo podrían significar una perdida de dinero al invertir fidelización en clientes que no era necesario. En cualquier caso. El accuracy del modelo es importante para nuestro caso de uso.\n",
        "\n",
        "  - **Precision**: La presición nos va a servir para conocer que tanto dinero estaríamos invirtiendo en fidelizar clientes que en realidad no lo necesitaban por haber sido seleccionados como falsos positivos.\n",
        "\n",
        "  - **Recall**: Esta métrica nos interesaría mucho optimizarla, ya que con un valor elevado, estaríamos teniendo muy pocos casos donde el usuario hace churn y no lo hubieramos predicho. A la par de está métrica hay que evaluar la presición, puesto que si siempre marcaramos como positivos, esta métrica sería ideal, pero se nos iría el presupuesto en la campaña de fidelización.\n",
        "\n",
        "  - **F1**: Es la métrica más importante para nosotros por que relaciona la precision con el recall, lo cual nos interesa especialmente, ya que sería importante encontrar un punto medio entre recall y precisión para perder la menor cantidad de dinero y a su vez captar en el plan de fidelización a todos los clientes posibles churn."
      ],
      "metadata": {
        "id": "EbL26Ce_Z5Sg"
      }
    },
    {
      "cell_type": "markdown",
      "source": [
        "La metrica que elegimos para optimizar entonces es F1"
      ],
      "metadata": {
        "id": "YYDS1jr5UMHS"
      }
    },
    {
      "cell_type": "markdown",
      "source": [
        "# 3) Predicción de modelos lineales "
      ],
      "metadata": {
        "id": "5h4QNG8cDai6"
      }
    },
    {
      "cell_type": "markdown",
      "source": [
        "**a. Entrenar modelos lineales de clasificación para predecir la variable objetivo.**\n",
        "\n",
        "Para ello, deberán utilizar “LogisticRegression” de scikit-learn. Y elegir al menos uno de los siguientes otros modelos: \n",
        "\n",
        "- La clase SGDClassifier de scikit-learn. \n",
        "\n",
        "- La clase LinearSVC de scikit-learn.\n",
        "\n",
        "Documentación: \n",
        " - https://scikit-learn.org/stable/modules/generated/sklearn.linear_model.LogisticRegression.html\n",
        "\n",
        " - https://scikit-learn.org/stable/modules/sgd.html https://scikit-learn.org/stable/modules/generated/sklearn.linear_model.SGDClassifier.html \n",
        "\n",
        " - https://scikit-learn.org/stable/modules/generated/sklearn.svm.LinearSVC.html \n",
        "\n",
        "**b. Evaluar sobre el conjunto de entrenamiento, validación y test**\n",
        "\n",
        "Reportando: \n",
        "- Accuracy\n",
        "- Precision\n",
        "- Recall\n",
        "- F1\n",
        "- Matriz de confusión\n",
        "\n",
        "**c. Elabore conclusiones en base a la métrica a optimizar y compare con el modelo baseline.**"
      ],
      "metadata": {
        "id": "JQQggDQDDhwG"
      }
    },
    {
      "cell_type": "markdown",
      "source": [
        "## a. Logistic Regression"
      ],
      "metadata": {
        "id": "oMI-_YQ1QXvN"
      }
    },
    {
      "cell_type": "code",
      "source": [
        "from sklearn.linear_model import LogisticRegression, SGDClassifier\n",
        "from sklearn.svm import LinearSVC\n",
        "\n",
        "## parametros para probar sin balance\n",
        "#clfs = [LogisticRegression(random_state=RANDOM_STATE,class_weight='balanced'), SGDClassifier(random_state=RANDOM_STATE, class_weight='balanced'), \n",
        "        #LinearSVC(random_state=RANDOM_STATE, class_weight='balanced')]\n",
        "\n",
        "clfs = [LogisticRegression(random_state=RANDOM_STATE), SGDClassifier(random_state=RANDOM_STATE), LinearSVC(random_state=RANDOM_STATE)]\n",
        "names = ['Regresión logística', 'Descenso del gradiente estocastico', 'SVM']\n",
        "\n",
        "trained_models = []\n",
        "for clf,name in zip(clfs,names):\n",
        "    print(name)\n",
        "\n",
        "    # Entrenamiento del modelo\n",
        "    clf.fit(X_train, y_train)\n",
        "\n",
        "    # Predicción con train\n",
        "    train_predictions = clf.predict(X_train)\n",
        "    print(\"Train metrics: \")\n",
        "    metricas(y_train, train_predictions)\n",
        "\n",
        "    # Predicción con validación\n",
        "    val_predictions = clf.predict(X_val)\n",
        "    print(\"Validation metrics: \")\n",
        "    metricas(y_val, val_predictions)\n",
        "\n",
        "    cm = confusion_matrix(y_val, val_predictions)\n",
        "    ConfusionMatrixDisplay.from_predictions(y_val, val_predictions)\n",
        "    plt.show()\n",
        "    print(cm)\n",
        "\n",
        "    trained_models.append(clf)\n"
      ],
      "metadata": {
        "colab": {
          "base_uri": "https://localhost:8080/",
          "height": 1000
        },
        "id": "M73w06eAeFl5",
        "outputId": "c3556bed-3236-4e2d-8c47-09a3a91c7154"
      },
      "execution_count": null,
      "outputs": [
        {
          "output_type": "stream",
          "name": "stdout",
          "text": [
            "Regresión logística\n",
            "Train metrics: \n",
            "Accuracy: 0.5700 \n",
            "Presicion: 0.5615 \n",
            "Recall: 0.6391 \n",
            "F1: 0.5978 \n",
            "\n",
            "Validation metrics: \n",
            "Accuracy: 0.5713 \n",
            "Presicion: 0.5626 \n",
            "Recall: 0.6411 \n",
            "F1: 0.5993 \n",
            "\n"
          ]
        },
        {
          "output_type": "display_data",
          "data": {
            "text/plain": [
              "<Figure size 432x288 with 2 Axes>"
            ],
            "image/png": "[encoded data removed]"
          },
          "metadata": {
            "needs_background": "light"
          }
        },
        {
          "output_type": "stream",
          "name": "stdout",
          "text": [
            "[[10397 10330]\n",
            " [ 7439 13287]]\n",
            "Descenso del gradiente estocastico\n",
            "Train metrics: \n",
            "Accuracy: 0.5366 \n",
            "Presicion: 0.5265 \n",
            "Recall: 0.7268 \n",
            "F1: 0.6107 \n",
            "\n",
            "Validation metrics: \n",
            "Accuracy: 0.5382 \n",
            "Presicion: 0.5275 \n",
            "Recall: 0.7309 \n",
            "F1: 0.6128 \n",
            "\n"
          ]
        },
        {
          "output_type": "display_data",
          "data": {
            "text/plain": [
              "<Figure size 432x288 with 2 Axes>"
            ],
            "image/png": "[encoded data removed]"
          },
          "metadata": {
            "needs_background": "light"
          }
        },
        {
          "output_type": "stream",
          "name": "stdout",
          "text": [
            "[[ 7160 13567]\n",
            " [ 5578 15148]]\n",
            "SVM\n"
          ]
        },
        {
          "output_type": "stream",
          "name": "stderr",
          "text": [
            "/usr/local/lib/python3.7/dist-packages/sklearn/svm/_base.py:1208: ConvergenceWarning: Liblinear failed to converge, increase the number of iterations.\n",
            "  ConvergenceWarning,\n"
          ]
        },
        {
          "output_type": "stream",
          "name": "stdout",
          "text": [
            "Train metrics: \n",
            "Accuracy: 0.5699 \n",
            "Presicion: 0.5617 \n",
            "Recall: 0.6364 \n",
            "F1: 0.5967 \n",
            "\n",
            "Validation metrics: \n",
            "Accuracy: 0.5709 \n",
            "Presicion: 0.5624 \n",
            "Recall: 0.6386 \n",
            "F1: 0.5981 \n",
            "\n"
          ]
        },
        {
          "output_type": "display_data",
          "data": {
            "text/plain": [
              "<Figure size 432x288 with 2 Axes>"
            ],
            "image/png": "[encoded data removed]"
          },
          "metadata": {
            "needs_background": "light"
          }
        },
        {
          "output_type": "stream",
          "name": "stdout",
          "text": [
            "[[10429 10298]\n",
            " [ 7490 13236]]\n"
          ]
        }
      ]
    },
    {
      "cell_type": "markdown",
      "source": [
        "Observamos que entre estos tres modelos, el que mejor predicciones realiza en base a la metrica elegida es el descenso del gradiente. \n",
        "\n",
        "Si bien todos los modelos lineales elegidos otorgan mejores resultado que el modelo de baseline; los resultado siguen siendo \"pobres\" ya que no logramos metricas mayores al 60% "
      ],
      "metadata": {
        "id": "A4T_e3qHUf7S"
      }
    },
    {
      "cell_type": "markdown",
      "source": [
        "# 4) Predicción de modelos basados en árboles de decisión"
      ],
      "metadata": {
        "id": "wODcqgvfJKYW"
      }
    },
    {
      "cell_type": "markdown",
      "source": [
        "**a. Para ello, deberán elegir al menos dos de los siguientes modelos:**\n",
        "- La clase DecisionTreeClassifier de scikit-learn. \n",
        "- La clase RandomForestClassifier de scikit-learn. \n",
        "- La clase GradientBoostingClassifier de scikit-learn.\n",
        "\n",
        "**b. Evaluar sobre el conjunto de entrenamiento, validación y test**\n",
        "\n",
        "Reportando: \n",
        "- Accuracy\n",
        "- Precision\n",
        "- Recall\n",
        "- F1\n",
        "- Matriz de confusión\n",
        "\n",
        "**c. Elabore conclusiones en base a la métrica a optimizar y compare con el modelo baseline.**\n",
        "\n",
        "Documentación: \n",
        "\n",
        " - https://scikit-learn.org/stable/modules/generated/sklearn.tree.DecisionTreeClassifier.html \n",
        " - https://scikit-learn.org/stable/modules/generated/sklearn.ensemble.RandomForestClassifier.html \n",
        " - https://scikit-learn.org/stable/modules/generated/sklearn.ensemble.GradientBoostingClassifier.html "
      ],
      "metadata": {
        "id": "pEkGc-RZJRiW"
      }
    },
    {
      "cell_type": "code",
      "source": [
        "from sklearn.tree import DecisionTreeClassifier\n",
        "from sklearn.ensemble import RandomForestClassifier, GradientBoostingClassifier\n",
        "\n",
        "# parametros para probar sin el balance\n",
        "# clfs = [DecisionTreeClassifier(random_state=RANDOM_STATE, class_weight=\"balanced\"), RandomForestClassifier(random_state=RANDOM_STATE, class_weight=\"balanced\"), \n",
        "#         GradientBoostingClassifier(random_state=RANDOM_STATE)]\n",
        "\n",
        "clfs = [DecisionTreeClassifier(random_state=RANDOM_STATE), RandomForestClassifier(random_state=RANDOM_STATE), GradientBoostingClassifier(random_state=RANDOM_STATE)]\n",
        "names = ['Arbol de decision', 'Random forest', 'Gradient boosting']\n",
        "\n",
        "trained_models = []\n",
        "for clf,name in zip(clfs,names):\n",
        "    print(name)\n",
        "\n",
        "    # Entrenamiento del modelo\n",
        "    clf.fit(X_train, y_train)\n",
        "\n",
        "    # Predicción con train\n",
        "    train_predictions = clf.predict(X_train)\n",
        "    print(\"Train metrics: \")\n",
        "    metricas(y_train, train_predictions)\n",
        "\n",
        "    # Predicción con validación\n",
        "    val_predictions = clf.predict(X_val)\n",
        "    print(\"Validation metrics: \")\n",
        "    metricas(y_val, val_predictions)\n",
        "\n",
        "    cm = confusion_matrix(y_val, val_predictions)\n",
        "    ConfusionMatrixDisplay.from_predictions(y_val, val_predictions)\n",
        "    plt.show()\n",
        "    print(cm)\n",
        "\n",
        "    if name == \"Arbol de decision\":\n",
        "      print('profundidad:', clf.get_depth())\n",
        "\n",
        "    trained_models.append(clf)"
      ],
      "metadata": {
        "colab": {
          "base_uri": "https://localhost:8080/",
          "height": 1000
        },
        "id": "SvD8UmCKofyL",
        "outputId": "a1e30191-59d9-4348-87b4-384ae9112dda"
      },
      "execution_count": null,
      "outputs": [
        {
          "output_type": "stream",
          "name": "stdout",
          "text": [
            "Arbol de decision\n",
            "Train metrics: \n",
            "Accuracy: 0.9961 \n",
            "Presicion: 0.9926 \n",
            "Recall: 0.9997 \n",
            "F1: 0.9962 \n",
            "\n",
            "Validation metrics: \n",
            "Accuracy: 0.9960 \n",
            "Presicion: 0.9924 \n",
            "Recall: 0.9998 \n",
            "F1: 0.9961 \n",
            "\n"
          ]
        },
        {
          "output_type": "display_data",
          "data": {
            "text/plain": [
              "<Figure size 432x288 with 2 Axes>"
            ],
            "image/png": "[encoded data removed]"
          },
          "metadata": {
            "needs_background": "light"
          }
        },
        {
          "output_type": "stream",
          "name": "stdout",
          "text": [
            "[[20568   159]\n",
            " [    5 20721]]\n",
            "profundidad: 43\n",
            "Random forest\n",
            "Train metrics: \n",
            "Accuracy: 0.9961 \n",
            "Presicion: 0.9925 \n",
            "Recall: 0.9998 \n",
            "F1: 0.9962 \n",
            "\n",
            "Validation metrics: \n",
            "Accuracy: 0.9934 \n",
            "Presicion: 0.9885 \n",
            "Recall: 0.9984 \n",
            "F1: 0.9934 \n",
            "\n"
          ]
        },
        {
          "output_type": "display_data",
          "data": {
            "text/plain": [
              "<Figure size 432x288 with 2 Axes>"
            ],
            "image/png": "[encoded data removed]"
          },
          "metadata": {
            "needs_background": "light"
          }
        },
        {
          "output_type": "stream",
          "name": "stdout",
          "text": [
            "[[20486   241]\n",
            " [   34 20692]]\n",
            "Gradient boosting\n",
            "Train metrics: \n",
            "Accuracy: 0.9188 \n",
            "Presicion: 0.8726 \n",
            "Recall: 0.9807 \n",
            "F1: 0.9235 \n",
            "\n",
            "Validation metrics: \n",
            "Accuracy: 0.9179 \n",
            "Presicion: 0.8725 \n",
            "Recall: 0.9789 \n",
            "F1: 0.9226 \n",
            "\n"
          ]
        },
        {
          "output_type": "display_data",
          "data": {
            "text/plain": [
              "<Figure size 432x288 with 2 Axes>"
            ],
            "image/png": "[encoded data removed]"
          },
          "metadata": {
            "needs_background": "light"
          }
        },
        {
          "output_type": "stream",
          "name": "stdout",
          "text": [
            "[[17762  2965]\n",
            " [  438 20288]]\n"
          ]
        }
      ]
    },
    {
      "cell_type": "markdown",
      "source": [
        "En este caso, obtuvimos resultados mucho mejores que con los modelos lineales y el modelo de baseline, alcanzando metricas cercanas al 99%. \n",
        "\n",
        "El mejor modelo en terminos de F1 es el Decision Tree Classifier, seguido por random forest."
      ],
      "metadata": {
        "id": "29Mg_2yPVNva"
      }
    },
    {
      "cell_type": "markdown",
      "source": [
        "# 5) Ajuste por hiperparámetros \n",
        "\n",
        "a. Para los dos “mejores modelos” obtenidos en los puntos anteriores, seleccionar valores para los hiperparámetros principales de dichos modelos (ajustar con por lo menos 3 parámetros). Utilizar grid-search y k-fold cross-validation. \n",
        "\n",
        "b. Mencionar el mejor modelo obtenido de la Optimización de Hiperparámetros y con cuáles parámetros se obtuvo ese resultado. \n",
        "\n",
        "c. Con el mejor modelo obtenido realizar las predicciones sobre test y val.\n",
        "\n",
        "d. Reportar las métricas del mejor modelo, incluyendo las matrices de confusión. Comparar el mejor modelo obtenido, con el modelo con parámetros por defecto y con el modelo baseline. Elabore conclusiones al respecto pensando en la resolución de nuestro problema de clasificación."
      ],
      "metadata": {
        "id": "lheMhZ82J3Um"
      }
    },
    {
      "cell_type": "markdown",
      "source": [
        "\n",
        "\n",
        "> DecisionTreeClassifier\n"
      ],
      "metadata": {
        "id": "ZVFWeFd3ifzr"
      }
    },
    {
      "cell_type": "code",
      "source": [
        "#'class_weight':['balanced']\n",
        "param_grid = {\n",
        "    'criterion': ['gini', 'entropy'],\n",
        "    'max_depth': [i for i in range(25,35)],\n",
        "    'min_samples_split': [2,10,15],\n",
        "    'max_features': ['auto', None]\n",
        "}"
      ],
      "metadata": {
        "id": "Pjko9Nko_vwj"
      },
      "execution_count": null,
      "outputs": []
    },
    {
      "cell_type": "code",
      "source": [
        "from sklearn.model_selection import ParameterGrid\n",
        "\n",
        "for params in ParameterGrid(param_grid):\n",
        "    #print(params)\n",
        "    model = DecisionTreeClassifier(**params, random_state=RANDOM_STATE)"
      ],
      "metadata": {
        "id": "ahs65Mcu4y8w"
      },
      "execution_count": null,
      "outputs": []
    },
    {
      "cell_type": "markdown",
      "source": [
        "\n",
        "\n",
        "> parámetro **scoring='f1'**\n",
        "\n"
      ],
      "metadata": {
        "id": "VwT3rgxh5SmG"
      }
    },
    {
      "cell_type": "code",
      "source": [
        "from sklearn.model_selection import GridSearchCV\n",
        "\n",
        "model = DecisionTreeClassifier(random_state=RANDOM_STATE)\n",
        "\n",
        "cv = GridSearchCV(model, param_grid, scoring='f1', cv=None) \n",
        "cv.fit(X_train, y_train);"
      ],
      "metadata": {
        "id": "eR4KqU965LeP"
      },
      "execution_count": null,
      "outputs": []
    },
    {
      "cell_type": "code",
      "source": [
        "results = cv.cv_results_\n",
        "params = results['params']\n",
        "mean = results['mean_test_score']\n",
        "std = results['std_test_score']\n",
        "rank = results['rank_test_score']\n",
        "\n",
        "df = pd.DataFrame(results)\n",
        "df[['param_criterion', 'param_max_depth', 'mean_test_score', 'std_test_score', 'rank_test_score']].sort_values('rank_test_score', axis=0, ascending=True)\n",
        "\n",
        "#print(\"crit.\\tdepth\\tmax_f\\tn_est\\t| mean\\tstd\\trank\")\n",
        "for p, m, s, r in zip(params, mean, std, rank):\n",
        "    print(f\"{p['criterion']}\\t{p['max_depth']}\\t{p['min_samples_split']}\\t{p['max_features']}\\t| {m:0.2f}\\t{s:0.2f}\\t{r}\")"
      ],
      "metadata": {
        "colab": {
          "base_uri": "https://localhost:8080/"
        },
        "id": "xucQ8W5r5nwp",
        "outputId": "6302b271-fa87-418d-b047-211d22754507"
      },
      "execution_count": null,
      "outputs": [
        {
          "output_type": "stream",
          "name": "stdout",
          "text": [
            "gini\t25\t2\tauto\t| 0.87\t0.02\t101\n",
            "gini\t25\t10\tauto\t| 0.85\t0.01\t107\n",
            "gini\t25\t15\tauto\t| 0.86\t0.01\t103\n",
            "gini\t25\t2\tNone\t| 0.99\t0.00\t28\n",
            "gini\t25\t10\tNone\t| 0.99\t0.00\t28\n",
            "gini\t25\t15\tNone\t| 0.99\t0.00\t28\n",
            "gini\t26\t2\tauto\t| 0.88\t0.01\t98\n",
            "gini\t26\t10\tauto\t| 0.87\t0.02\t99\n",
            "gini\t26\t15\tauto\t| 0.89\t0.01\t93\n",
            "gini\t26\t2\tNone\t| 0.99\t0.00\t25\n",
            "gini\t26\t10\tNone\t| 0.99\t0.00\t25\n",
            "gini\t26\t15\tNone\t| 0.99\t0.00\t25\n",
            "gini\t27\t2\tauto\t| 0.90\t0.01\t85\n",
            "gini\t27\t10\tauto\t| 0.88\t0.01\t95\n",
            "gini\t27\t15\tauto\t| 0.89\t0.01\t92\n",
            "gini\t27\t2\tNone\t| 0.99\t0.00\t22\n",
            "gini\t27\t10\tNone\t| 0.99\t0.00\t23\n",
            "gini\t27\t15\tNone\t| 0.99\t0.00\t23\n",
            "gini\t28\t2\tauto\t| 0.90\t0.01\t84\n",
            "gini\t28\t10\tauto\t| 0.90\t0.00\t90\n",
            "gini\t28\t15\tauto\t| 0.90\t0.01\t86\n",
            "gini\t28\t2\tNone\t| 1.00\t0.00\t19\n",
            "gini\t28\t10\tNone\t| 1.00\t0.00\t19\n",
            "gini\t28\t15\tNone\t| 1.00\t0.00\t19\n",
            "gini\t29\t2\tauto\t| 0.92\t0.01\t78\n",
            "gini\t29\t10\tauto\t| 0.92\t0.01\t79\n",
            "gini\t29\t15\tauto\t| 0.91\t0.01\t81\n",
            "gini\t29\t2\tNone\t| 1.00\t0.00\t16\n",
            "gini\t29\t10\tNone\t| 1.00\t0.00\t16\n",
            "gini\t29\t15\tNone\t| 1.00\t0.00\t16\n",
            "gini\t30\t2\tauto\t| 0.93\t0.01\t75\n",
            "gini\t30\t10\tauto\t| 0.93\t0.01\t73\n",
            "gini\t30\t15\tauto\t| 0.93\t0.01\t74\n",
            "gini\t30\t2\tNone\t| 1.00\t0.00\t1\n",
            "gini\t30\t10\tNone\t| 1.00\t0.00\t1\n",
            "gini\t30\t15\tNone\t| 1.00\t0.00\t1\n",
            "gini\t31\t2\tauto\t| 0.94\t0.00\t70\n",
            "gini\t31\t10\tauto\t| 0.94\t0.01\t72\n",
            "gini\t31\t15\tauto\t| 0.94\t0.01\t71\n",
            "gini\t31\t2\tNone\t| 1.00\t0.00\t1\n",
            "gini\t31\t10\tNone\t| 1.00\t0.00\t1\n",
            "gini\t31\t15\tNone\t| 1.00\t0.00\t1\n",
            "gini\t32\t2\tauto\t| 0.95\t0.01\t68\n",
            "gini\t32\t10\tauto\t| 0.95\t0.00\t67\n",
            "gini\t32\t15\tauto\t| 0.95\t0.00\t69\n",
            "gini\t32\t2\tNone\t| 1.00\t0.00\t7\n",
            "gini\t32\t10\tNone\t| 1.00\t0.00\t7\n",
            "gini\t32\t15\tNone\t| 1.00\t0.00\t7\n",
            "gini\t33\t2\tauto\t| 0.95\t0.00\t61\n",
            "gini\t33\t10\tauto\t| 0.95\t0.00\t65\n",
            "gini\t33\t15\tauto\t| 0.95\t0.00\t66\n",
            "gini\t33\t2\tNone\t| 1.00\t0.00\t7\n",
            "gini\t33\t10\tNone\t| 1.00\t0.00\t7\n",
            "gini\t33\t15\tNone\t| 1.00\t0.00\t7\n",
            "gini\t34\t2\tauto\t| 0.96\t0.00\t49\n",
            "gini\t34\t10\tauto\t| 0.96\t0.00\t50\n",
            "gini\t34\t15\tauto\t| 0.96\t0.00\t57\n",
            "gini\t34\t2\tNone\t| 1.00\t0.00\t7\n",
            "gini\t34\t10\tNone\t| 1.00\t0.00\t7\n",
            "gini\t34\t15\tNone\t| 1.00\t0.00\t7\n",
            "entropy\t25\t2\tauto\t| 0.79\t0.02\t119\n",
            "entropy\t25\t10\tauto\t| 0.80\t0.03\t116\n",
            "entropy\t25\t15\tauto\t| 0.78\t0.03\t120\n",
            "entropy\t25\t2\tNone\t| 0.95\t0.00\t62\n",
            "entropy\t25\t10\tNone\t| 0.95\t0.00\t62\n",
            "entropy\t25\t15\tNone\t| 0.95\t0.00\t62\n",
            "entropy\t26\t2\tauto\t| 0.81\t0.02\t114\n",
            "entropy\t26\t10\tauto\t| 0.79\t0.03\t117\n",
            "entropy\t26\t15\tauto\t| 0.79\t0.02\t118\n",
            "entropy\t26\t2\tNone\t| 0.96\t0.01\t58\n",
            "entropy\t26\t10\tNone\t| 0.96\t0.01\t58\n",
            "entropy\t26\t15\tNone\t| 0.96\t0.01\t58\n",
            "entropy\t27\t2\tauto\t| 0.82\t0.02\t113\n",
            "entropy\t27\t10\tauto\t| 0.80\t0.03\t115\n",
            "entropy\t27\t15\tauto\t| 0.83\t0.02\t112\n",
            "entropy\t27\t2\tNone\t| 0.96\t0.01\t54\n",
            "entropy\t27\t10\tNone\t| 0.96\t0.01\t54\n",
            "entropy\t27\t15\tNone\t| 0.96\t0.01\t54\n",
            "entropy\t28\t2\tauto\t| 0.84\t0.02\t109\n",
            "entropy\t28\t10\tauto\t| 0.83\t0.01\t111\n",
            "entropy\t28\t15\tauto\t| 0.83\t0.01\t110\n",
            "entropy\t28\t2\tNone\t| 0.96\t0.00\t51\n",
            "entropy\t28\t10\tNone\t| 0.96\t0.00\t51\n",
            "entropy\t28\t15\tNone\t| 0.96\t0.00\t51\n",
            "entropy\t29\t2\tauto\t| 0.87\t0.00\t102\n",
            "entropy\t29\t10\tauto\t| 0.85\t0.02\t108\n",
            "entropy\t29\t15\tauto\t| 0.86\t0.01\t106\n",
            "entropy\t29\t2\tNone\t| 0.97\t0.00\t46\n",
            "entropy\t29\t10\tNone\t| 0.97\t0.00\t46\n",
            "entropy\t29\t15\tNone\t| 0.97\t0.00\t46\n",
            "entropy\t30\t2\tauto\t| 0.86\t0.01\t104\n",
            "entropy\t30\t10\tauto\t| 0.87\t0.00\t100\n",
            "entropy\t30\t15\tauto\t| 0.86\t0.01\t105\n",
            "entropy\t30\t2\tNone\t| 0.97\t0.00\t43\n",
            "entropy\t30\t10\tNone\t| 0.97\t0.00\t43\n",
            "entropy\t30\t15\tNone\t| 0.97\t0.00\t43\n",
            "entropy\t31\t2\tauto\t| 0.88\t0.00\t96\n",
            "entropy\t31\t10\tauto\t| 0.88\t0.01\t97\n",
            "entropy\t31\t15\tauto\t| 0.89\t0.00\t94\n",
            "entropy\t31\t2\tNone\t| 0.98\t0.00\t40\n",
            "entropy\t31\t10\tNone\t| 0.98\t0.00\t40\n",
            "entropy\t31\t15\tNone\t| 0.98\t0.00\t40\n",
            "entropy\t32\t2\tauto\t| 0.90\t0.00\t89\n",
            "entropy\t32\t10\tauto\t| 0.90\t0.00\t87\n",
            "entropy\t32\t15\tauto\t| 0.90\t0.01\t91\n",
            "entropy\t32\t2\tNone\t| 0.98\t0.00\t37\n",
            "entropy\t32\t10\tNone\t| 0.98\t0.00\t37\n",
            "entropy\t32\t15\tNone\t| 0.98\t0.00\t37\n",
            "entropy\t33\t2\tauto\t| 0.91\t0.01\t82\n",
            "entropy\t33\t10\tauto\t| 0.90\t0.02\t88\n",
            "entropy\t33\t15\tauto\t| 0.91\t0.01\t83\n",
            "entropy\t33\t2\tNone\t| 0.99\t0.00\t34\n",
            "entropy\t33\t10\tNone\t| 0.99\t0.00\t34\n",
            "entropy\t33\t15\tNone\t| 0.99\t0.00\t34\n",
            "entropy\t34\t2\tauto\t| 0.92\t0.00\t76\n",
            "entropy\t34\t10\tauto\t| 0.92\t0.00\t77\n",
            "entropy\t34\t15\tauto\t| 0.92\t0.01\t80\n",
            "entropy\t34\t2\tNone\t| 0.99\t0.00\t31\n",
            "entropy\t34\t10\tNone\t| 0.99\t0.00\t31\n",
            "entropy\t34\t15\tNone\t| 0.99\t0.00\t31\n"
          ]
        }
      ]
    },
    {
      "cell_type": "code",
      "source": [
        "best_model_tc = cv.best_estimator_"
      ],
      "metadata": {
        "id": "7fZFx87x7PYW"
      },
      "execution_count": null,
      "outputs": []
    },
    {
      "cell_type": "code",
      "source": [
        "best_model_tc"
      ],
      "metadata": {
        "colab": {
          "base_uri": "https://localhost:8080/"
        },
        "id": "RvnUMm5jkq42",
        "outputId": "d94982f4-df95-4cd4-d0bb-b09c717a9678"
      },
      "execution_count": null,
      "outputs": [
        {
          "output_type": "execute_result",
          "data": {
            "text/plain": [
              "DecisionTreeClassifier(max_depth=30, random_state=45)"
            ]
          },
          "metadata": {},
          "execution_count": 89
        }
      ]
    },
    {
      "cell_type": "markdown",
      "source": [
        "De acuerdo a la busqueda de parametros con grid-search, los parametros que nos permiten obtener la mejor métrica de f1 son: \n",
        "- Profundidad del arbol = 30\n",
        "- Criterio: gini\n",
        "- max_features = None\n",
        "\n",
        "\n",
        "Vamos ahora a realizar predicciones sobre el conjunto de validación y entrenamiento para comprobar los resultados y para verificar que no haya overfitting:\n",
        "\n"
      ],
      "metadata": {
        "id": "CZ72luCbZSqn"
      }
    },
    {
      "cell_type": "markdown",
      "source": [
        "• Train"
      ],
      "metadata": {
        "id": "SpyB2PD8b0OO"
      }
    },
    {
      "cell_type": "code",
      "source": [
        "y_train_pred_bm = best_model_tc.predict(X_train) #Predicciones sobre conjunto de entrenamiento"
      ],
      "metadata": {
        "id": "f855lxou7QPd"
      },
      "execution_count": null,
      "outputs": []
    },
    {
      "cell_type": "code",
      "source": [
        "confusion_matrix(y_train, y_train_pred_bm)"
      ],
      "metadata": {
        "colab": {
          "base_uri": "https://localhost:8080/"
        },
        "id": "tE0Z7TqM7ap3",
        "outputId": "0d3f276c-d170-40e5-b6e4-795a83a77b5c"
      },
      "execution_count": null,
      "outputs": [
        {
          "output_type": "execute_result",
          "data": {
            "text/plain": [
              "array([[61716,   463],\n",
              "       [   17, 62162]])"
            ]
          },
          "metadata": {},
          "execution_count": 97
        }
      ]
    },
    {
      "cell_type": "code",
      "source": [
        "# metricas train\n",
        "metricas(y_train, y_train_pred_bm) "
      ],
      "metadata": {
        "colab": {
          "base_uri": "https://localhost:8080/"
        },
        "id": "wicencjQ7c33",
        "outputId": "b38057bd-5bfd-4fdf-b61c-3c130e4c5fb6"
      },
      "execution_count": null,
      "outputs": [
        {
          "output_type": "stream",
          "name": "stdout",
          "text": [
            "Accuracy: 0.9961 \n",
            "Presicion: 0.9926 \n",
            "Recall: 0.9997 \n",
            "F1: 0.9962 \n",
            "\n"
          ]
        }
      ]
    },
    {
      "cell_type": "markdown",
      "source": [
        "• Validation:"
      ],
      "metadata": {
        "id": "m3HvaJhBb3dx"
      }
    },
    {
      "cell_type": "code",
      "source": [
        "y_val_pred_bm = best_model_tc.predict(X_val) #predicciones sobre conjunto de validación"
      ],
      "metadata": {
        "id": "onsEAu0kwq6H"
      },
      "execution_count": null,
      "outputs": []
    },
    {
      "cell_type": "code",
      "source": [
        "#metricas validacion\n",
        "metricas(y_val,y_val_pred_bm) "
      ],
      "metadata": {
        "colab": {
          "base_uri": "https://localhost:8080/"
        },
        "id": "1AZgA5tWw8Ed",
        "outputId": "73cce372-9db6-4f25-f52e-b1bf0a35bd9d"
      },
      "execution_count": null,
      "outputs": [
        {
          "output_type": "stream",
          "name": "stdout",
          "text": [
            "Accuracy: 0.9960 \n",
            "Presicion: 0.9924 \n",
            "Recall: 0.9998 \n",
            "F1: 0.9961 \n",
            "\n"
          ]
        }
      ]
    },
    {
      "cell_type": "markdown",
      "source": [
        "En general obtenemos metricas altas y muy similares en los dos conjuntos."
      ],
      "metadata": {
        "id": "c1XoOePBbbrl"
      }
    },
    {
      "cell_type": "markdown",
      "source": [
        "\n",
        "\n",
        "> Random Forest\n",
        "\n"
      ],
      "metadata": {
        "id": "EKgUrttdn-Yz"
      }
    },
    {
      "cell_type": "code",
      "source": [
        "from sklearn import ensemble"
      ],
      "metadata": {
        "id": "7Mct5J6DqMgc"
      },
      "execution_count": null,
      "outputs": []
    },
    {
      "cell_type": "code",
      "source": [
        "param_grid = { \n",
        "    'n_estimators': [100],  # numero de modelos del random forest\n",
        "    'max_features': ['sqrt' ], #'log2'\n",
        "    'max_depth' : [4,5,6,15,30],\n",
        "    'criterion' :['gini', 'entropy']\n",
        "}"
      ],
      "metadata": {
        "id": "pr9oFm7CoBXL"
      },
      "execution_count": null,
      "outputs": []
    },
    {
      "cell_type": "code",
      "source": [
        "from sklearn.model_selection import ParameterGrid\n",
        "\n",
        "for params in ParameterGrid(param_grid):\n",
        "    print(params)\n",
        "    model = ensemble.RandomForestClassifier(**params, random_state=RANDOM_STATE)"
      ],
      "metadata": {
        "colab": {
          "base_uri": "https://localhost:8080/"
        },
        "id": "Ocv2I281p33w",
        "outputId": "d92eabf0-ef7e-468c-f446-d2fb0dde1fe1"
      },
      "execution_count": null,
      "outputs": [
        {
          "output_type": "stream",
          "name": "stdout",
          "text": [
            "{'criterion': 'gini', 'max_depth': 4, 'max_features': 'sqrt', 'n_estimators': 100}\n",
            "{'criterion': 'gini', 'max_depth': 5, 'max_features': 'sqrt', 'n_estimators': 100}\n",
            "{'criterion': 'gini', 'max_depth': 6, 'max_features': 'sqrt', 'n_estimators': 100}\n",
            "{'criterion': 'gini', 'max_depth': 15, 'max_features': 'sqrt', 'n_estimators': 100}\n",
            "{'criterion': 'gini', 'max_depth': 30, 'max_features': 'sqrt', 'n_estimators': 100}\n",
            "{'criterion': 'entropy', 'max_depth': 4, 'max_features': 'sqrt', 'n_estimators': 100}\n",
            "{'criterion': 'entropy', 'max_depth': 5, 'max_features': 'sqrt', 'n_estimators': 100}\n",
            "{'criterion': 'entropy', 'max_depth': 6, 'max_features': 'sqrt', 'n_estimators': 100}\n",
            "{'criterion': 'entropy', 'max_depth': 15, 'max_features': 'sqrt', 'n_estimators': 100}\n",
            "{'criterion': 'entropy', 'max_depth': 30, 'max_features': 'sqrt', 'n_estimators': 100}\n"
          ]
        }
      ]
    },
    {
      "cell_type": "code",
      "source": [
        "from sklearn.model_selection import GridSearchCV\n",
        "\n",
        "model = ensemble.RandomForestClassifier(random_state=RANDOM_STATE)\n",
        "\n",
        "cv = GridSearchCV(model, param_grid,scoring='f1') # accuracy, f1\n",
        "cv.fit(X_train, y_train);\n",
        "##esto tarda bastante en correr"
      ],
      "metadata": {
        "id": "uMmaA8K_qZk1"
      },
      "execution_count": null,
      "outputs": []
    },
    {
      "cell_type": "code",
      "source": [
        "#results"
      ],
      "metadata": {
        "id": "GZrpwKhqvkKW"
      },
      "execution_count": null,
      "outputs": []
    },
    {
      "cell_type": "code",
      "source": [
        "results = cv.cv_results_\n",
        "params = results['params']\n",
        "mean = results['mean_test_score']\n",
        "std = results['std_test_score']\n",
        "rank = results['rank_test_score']\n",
        "\n",
        "print(\"crit.\\tdepth\\tmax_f\\tn_est\\t| mean\\tstd\\trank\")\n",
        "for p, m, s, r in zip(params, mean, std, rank):\n",
        "    print(f\"{p['criterion']}\\t{p['max_depth']}\\t{p['max_features']}\\t{p['n_estimators']}\\t| {m:0.2f}\\t{s:0.2f}\\t{r}\")"
      ],
      "metadata": {
        "colab": {
          "base_uri": "https://localhost:8080/"
        },
        "id": "CrLL4F1iuQa0",
        "outputId": "8166e845-dffd-4f48-be72-b40cce27b177"
      },
      "execution_count": null,
      "outputs": [
        {
          "output_type": "stream",
          "name": "stdout",
          "text": [
            "crit.\tdepth\tmax_f\tn_est\t| mean\tstd\trank\n",
            "gini\t4\tsqrt\t100\t| 0.69\t0.00\t10\n",
            "gini\t5\tsqrt\t100\t| 0.73\t0.01\t7\n",
            "gini\t6\tsqrt\t100\t| 0.73\t0.01\t6\n",
            "gini\t15\tsqrt\t100\t| 0.86\t0.00\t3\n",
            "gini\t30\tsqrt\t100\t| 0.95\t0.00\t1\n",
            "entropy\t4\tsqrt\t100\t| 0.70\t0.02\t8\n",
            "entropy\t5\tsqrt\t100\t| 0.70\t0.01\t9\n",
            "entropy\t6\tsqrt\t100\t| 0.73\t0.01\t5\n",
            "entropy\t15\tsqrt\t100\t| 0.84\t0.01\t4\n",
            "entropy\t30\tsqrt\t100\t| 0.93\t0.00\t2\n"
          ]
        }
      ]
    },
    {
      "cell_type": "code",
      "source": [
        "best_model_rf = cv.best_estimator_"
      ],
      "metadata": {
        "id": "LdPurCejwHXW"
      },
      "execution_count": null,
      "outputs": []
    },
    {
      "cell_type": "code",
      "source": [
        "best_model_rf"
      ],
      "metadata": {
        "colab": {
          "base_uri": "https://localhost:8080/"
        },
        "id": "KKz_D8_QwP5t",
        "outputId": "47914765-c12a-467d-91b7-54736b8f4e79"
      },
      "execution_count": null,
      "outputs": [
        {
          "output_type": "execute_result",
          "data": {
            "text/plain": [
              "RandomForestClassifier(max_depth=30, max_features='sqrt', random_state=45)"
            ]
          },
          "metadata": {},
          "execution_count": 109
        }
      ]
    },
    {
      "cell_type": "markdown",
      "source": [
        " El método eligió un mejor modelo con una profundidad máxima de 30 y usar la raíz cuadrada para calcular y considerar el número de variables al buscar la mejor división. \n",
        "Parámetros: `max_depth=30` y `max_features=sqrt`\n",
        "\n",
        "Ahora vamos a utilizar este modelo para realizar predicciones sobre el conjunto de entrenamiento y validadción. Para corroborar los resultados y comprobar que no haya overfitting.\n",
        "\n"
      ],
      "metadata": {
        "id": "_D-0xQw8nX7i"
      }
    },
    {
      "cell_type": "markdown",
      "source": [
        "• Train"
      ],
      "metadata": {
        "id": "q7OZdJ4FmwhW"
      }
    },
    {
      "cell_type": "code",
      "source": [
        "y_train_pred_rf = best_model_rf.predict(X_train)"
      ],
      "metadata": {
        "id": "rFTZfj5iwbMc"
      },
      "execution_count": null,
      "outputs": []
    },
    {
      "cell_type": "code",
      "source": [
        "confusion_matrix(y_train, y_train_pred_rf)"
      ],
      "metadata": {
        "colab": {
          "base_uri": "https://localhost:8080/"
        },
        "outputId": "4fed171d-c20d-4589-db87-c6b7cf1dc8ff",
        "id": "jwCNBHe8wbMd"
      },
      "execution_count": null,
      "outputs": [
        {
          "output_type": "execute_result",
          "data": {
            "text/plain": [
              "array([[57289,  4890],\n",
              "       [  848, 61331]])"
            ]
          },
          "metadata": {},
          "execution_count": 111
        }
      ]
    },
    {
      "cell_type": "code",
      "source": [
        "# metricas\n",
        "metricas(y_train, y_train_pred_rf) "
      ],
      "metadata": {
        "colab": {
          "base_uri": "https://localhost:8080/"
        },
        "outputId": "9295b2db-d038-4a20-dfeb-4dfc527e4f23",
        "id": "1RAnvgRrwbMd"
      },
      "execution_count": null,
      "outputs": [
        {
          "output_type": "stream",
          "name": "stdout",
          "text": [
            "Accuracy: 0.9539 \n",
            "Presicion: 0.9262 \n",
            "Recall: 0.9864 \n",
            "F1: 0.9553 \n",
            "\n"
          ]
        }
      ]
    },
    {
      "cell_type": "markdown",
      "source": [
        "• Validation"
      ],
      "metadata": {
        "id": "LtEqco6rmypI"
      }
    },
    {
      "cell_type": "code",
      "source": [
        "y_val_pred_rf = best_model_rf.predict(X_val)"
      ],
      "metadata": {
        "id": "3SjgA_gSmNd3"
      },
      "execution_count": null,
      "outputs": []
    },
    {
      "cell_type": "code",
      "source": [
        "metricas(y_val, y_val_pred_rf)"
      ],
      "metadata": {
        "colab": {
          "base_uri": "https://localhost:8080/"
        },
        "id": "HT011O4Pmq4e",
        "outputId": "08529f82-a4dd-4262-b82d-cd9a151bccbb"
      },
      "execution_count": null,
      "outputs": [
        {
          "output_type": "stream",
          "name": "stdout",
          "text": [
            "Accuracy: 0.9501 \n",
            "Presicion: 0.9218 \n",
            "Recall: 0.9836 \n",
            "F1: 0.9517 \n",
            "\n"
          ]
        }
      ]
    },
    {
      "cell_type": "markdown",
      "source": [
        "Nuevamente los resultados son altos; aunque más bajos que en el modelo anterior. Ademas, ahora hay un leve overfitting del modelo. "
      ],
      "metadata": {
        "id": "1rtrgHkOb-O6"
      }
    },
    {
      "cell_type": "markdown",
      "source": [
        "## Elección del mejor modelo:"
      ],
      "metadata": {
        "id": "KWjeDrScHvKj"
      }
    },
    {
      "cell_type": "markdown",
      "source": [
        "En base a lo analizado anteriormente podemos decir que el mejor modelo para predecir los usuarios que realizan y no realizan churn es `DecisionTreeClassifier` con los siguientes parametros:\n",
        "\n",
        "\n",
        "- `'criterion' = gini`\n",
        "- `'max_depth' = 30`\n",
        "- `'max_features' = None` \n"
      ],
      "metadata": {
        "id": "NLLsD2a-cRiX"
      }
    },
    {
      "cell_type": "markdown",
      "source": [
        "Con este modelo entonces tendremos que:\n",
        "\n"
      ],
      "metadata": {
        "id": "KDd10U7IdABl"
      }
    },
    {
      "cell_type": "code",
      "source": [
        "from sklearn.tree import DecisionTreeClassifier\n",
        "\n",
        "churn_best_model = DecisionTreeClassifier(random_state=RANDOM_STATE, criterion = 'gini', max_depth = 30, max_features = None)\n",
        "churn_best_model.fit(X_train, y_train)\n",
        "\n",
        "# Predicción con train\n",
        "train_churn_predictions = churn_best_model.predict(X_train)\n",
        "print(\"Train metrics: \")\n",
        "metricas(y_train, train_churn_predictions)\n",
        "\n",
        "# Predicción con validación\n",
        "val_churn_predictions = churn_best_model.predict(X_val)\n",
        "print(\"Validation metrics: \")\n",
        "metricas(y_val, val_churn_predictions)\n",
        "\n",
        "# Predicción sobre testing\n",
        "test_churn_predictions = churn_best_model.predict(X_test)\n",
        "print(\"Test metrics: \")\n",
        "metricas(y_test, test_churn_predictions)"
      ],
      "metadata": {
        "colab": {
          "base_uri": "https://localhost:8080/"
        },
        "id": "wLDTYH2Mdqx-",
        "outputId": "5bf517a8-fdb4-458b-979e-aded7447a357"
      },
      "execution_count": null,
      "outputs": [
        {
          "output_type": "stream",
          "name": "stdout",
          "text": [
            "Train metrics: \n",
            "Accuracy: 0.9961 \n",
            "Presicion: 0.9926 \n",
            "Recall: 0.9997 \n",
            "F1: 0.9962 \n",
            "\n",
            "Validation metrics: \n",
            "Accuracy: 0.9960 \n",
            "Presicion: 0.9924 \n",
            "Recall: 0.9998 \n",
            "F1: 0.9961 \n",
            "\n",
            "Test metrics: \n",
            "Accuracy: 0.9961 \n",
            "Presicion: 0.9927 \n",
            "Recall: 0.9996 \n",
            "F1: 0.9961 \n",
            "\n"
          ]
        }
      ]
    }
  ]
}